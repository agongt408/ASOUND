{
 "cells": [
  {
   "cell_type": "markdown",
   "metadata": {},
   "source": [
    "https://blog.keras.io/building-autoencoders-in-keras.html"
   ]
  },
  {
   "cell_type": "code",
   "execution_count": 2,
   "metadata": {},
   "outputs": [],
   "source": [
    "from keras.layers import Input, Dense\n",
    "from keras.models import Model"
   ]
  },
  {
   "cell_type": "code",
   "execution_count": 3,
   "metadata": {},
   "outputs": [],
   "source": [
    "# this is the size of our encoded representations\n",
    "encoding_dim = 32  # 32 floats -> compression of factor 24.5, assuming the input is 784 floats\n",
    "\n",
    "# this is our input placeholder\n",
    "input_img = Input(shape=(784,))\n",
    "# \"encoded\" is the encoded representation of the input\n",
    "encoded = Dense(encoding_dim, activation='relu')(input_img)\n",
    "# \"decoded\" is the lossy reconstruction of the input\n",
    "decoded = Dense(784, activation='sigmoid')(encoded)\n",
    "\n",
    "# this model maps an input to its reconstruction\n",
    "autoencoder = Model(input_img, decoded)"
   ]
  },
  {
   "cell_type": "code",
   "execution_count": 4,
   "metadata": {},
   "outputs": [],
   "source": [
    "# this model maps an input to its encoded representation\n",
    "encoder = Model(input_img, encoded)"
   ]
  },
  {
   "cell_type": "code",
   "execution_count": 5,
   "metadata": {},
   "outputs": [],
   "source": [
    "# create a placeholder for an encoded (32-dimensional) input\n",
    "encoded_input = Input(shape=(encoding_dim,))\n",
    "# retrieve the last layer of the autoencoder model\n",
    "decoder_layer = autoencoder.layers[-1]\n",
    "# create the decoder model\n",
    "decoder = Model(encoded_input, decoder_layer(encoded_input))"
   ]
  },
  {
   "cell_type": "code",
   "execution_count": 6,
   "metadata": {},
   "outputs": [],
   "source": [
    "autoencoder.compile(optimizer='adadelta', loss='binary_crossentropy')"
   ]
  },
  {
   "cell_type": "code",
   "execution_count": 7,
   "metadata": {},
   "outputs": [],
   "source": [
    "from keras.datasets import mnist\n",
    "import numpy as np\n",
    "(x_train, _), (x_test, _) = mnist.load_data()"
   ]
  },
  {
   "cell_type": "code",
   "execution_count": 8,
   "metadata": {},
   "outputs": [
    {
     "name": "stdout",
     "output_type": "stream",
     "text": [
      "(60000, 784)\n",
      "(10000, 784)\n"
     ]
    }
   ],
   "source": [
    "x_train = x_train.astype('float32') / 255.\n",
    "x_test = x_test.astype('float32') / 255.\n",
    "x_train = x_train.reshape((len(x_train), np.prod(x_train.shape[1:])))\n",
    "x_test = x_test.reshape((len(x_test), np.prod(x_test.shape[1:])))\n",
    "print x_train.shape\n",
    "print x_test.shape"
   ]
  },
  {
   "cell_type": "code",
   "execution_count": 9,
   "metadata": {},
   "outputs": [
    {
     "name": "stdout",
     "output_type": "stream",
     "text": [
      "Train on 60000 samples, validate on 10000 samples\n",
      "Epoch 1/50\n",
      "60000/60000 [==============================] - 4s 68us/step - loss: 0.3573 - val_loss: 0.2705\n",
      "Epoch 2/50\n",
      "60000/60000 [==============================] - 4s 66us/step - loss: 0.2632 - val_loss: 0.2517\n",
      "Epoch 3/50\n",
      "60000/60000 [==============================] - 4s 61us/step - loss: 0.2410 - val_loss: 0.2285\n",
      "Epoch 4/50\n",
      "60000/60000 [==============================] - 4s 65us/step - loss: 0.2207 - val_loss: 0.2110\n",
      "Epoch 5/50\n",
      "60000/60000 [==============================] - 3s 56us/step - loss: 0.2057 - val_loss: 0.1981\n",
      "Epoch 6/50\n",
      "60000/60000 [==============================] - 4s 60us/step - loss: 0.1945 - val_loss: 0.1886\n",
      "Epoch 7/50\n",
      "60000/60000 [==============================] - 4s 66us/step - loss: 0.1860 - val_loss: 0.1810\n",
      "Epoch 8/50\n",
      "60000/60000 [==============================] - 5s 81us/step - loss: 0.1790 - val_loss: 0.1746\n",
      "Epoch 9/50\n",
      "60000/60000 [==============================] - 4s 64us/step - loss: 0.1731 - val_loss: 0.1691\n",
      "Epoch 10/50\n",
      "60000/60000 [==============================] - 3s 53us/step - loss: 0.1679 - val_loss: 0.1642\n",
      "Epoch 11/50\n",
      "60000/60000 [==============================] - 3s 54us/step - loss: 0.1634 - val_loss: 0.1601\n",
      "Epoch 12/50\n",
      "60000/60000 [==============================] - 3s 51us/step - loss: 0.1593 - val_loss: 0.1563\n",
      "Epoch 13/50\n",
      "60000/60000 [==============================] - 3s 50us/step - loss: 0.1557 - val_loss: 0.1528\n",
      "Epoch 14/50\n",
      "60000/60000 [==============================] - 3s 49us/step - loss: 0.1524 - val_loss: 0.1496\n",
      "Epoch 15/50\n",
      "60000/60000 [==============================] - 4s 72us/step - loss: 0.1493 - val_loss: 0.1466\n",
      "Epoch 16/50\n",
      "60000/60000 [==============================] - 4s 72us/step - loss: 0.1464 - val_loss: 0.1437\n",
      "Epoch 17/50\n",
      "60000/60000 [==============================] - 3s 51us/step - loss: 0.1438 - val_loss: 0.1412\n",
      "Epoch 18/50\n",
      "60000/60000 [==============================] - 3s 50us/step - loss: 0.1412 - val_loss: 0.1386\n",
      "Epoch 19/50\n",
      "60000/60000 [==============================] - 3s 56us/step - loss: 0.1389 - val_loss: 0.1363\n",
      "Epoch 20/50\n",
      "60000/60000 [==============================] - 3s 55us/step - loss: 0.1367 - val_loss: 0.1342\n",
      "Epoch 21/50\n",
      "60000/60000 [==============================] - 3s 48us/step - loss: 0.1346 - val_loss: 0.1321\n",
      "Epoch 22/50\n",
      "60000/60000 [==============================] - 3s 48us/step - loss: 0.1326 - val_loss: 0.1301\n",
      "Epoch 23/50\n",
      "60000/60000 [==============================] - 4s 68us/step - loss: 0.1308 - val_loss: 0.1284\n",
      "Epoch 24/50\n",
      "60000/60000 [==============================] - 3s 53us/step - loss: 0.1290 - val_loss: 0.1266\n",
      "Epoch 25/50\n",
      "60000/60000 [==============================] - 3s 52us/step - loss: 0.1273 - val_loss: 0.1249\n",
      "Epoch 26/50\n",
      "60000/60000 [==============================] - 3s 55us/step - loss: 0.1256 - val_loss: 0.1233\n",
      "Epoch 27/50\n",
      "60000/60000 [==============================] - 3s 51us/step - loss: 0.1240 - val_loss: 0.1218\n",
      "Epoch 28/50\n",
      "60000/60000 [==============================] - 3s 49us/step - loss: 0.1225 - val_loss: 0.1202\n",
      "Epoch 29/50\n",
      "60000/60000 [==============================] - 3s 52us/step - loss: 0.1211 - val_loss: 0.1188\n",
      "Epoch 30/50\n",
      "60000/60000 [==============================] - 3s 52us/step - loss: 0.1198 - val_loss: 0.1176\n",
      "Epoch 31/50\n",
      "60000/60000 [==============================] - 3s 51us/step - loss: 0.1185 - val_loss: 0.1163\n",
      "Epoch 32/50\n",
      "60000/60000 [==============================] - 3s 48us/step - loss: 0.1173 - val_loss: 0.1151\n",
      "Epoch 33/50\n",
      "60000/60000 [==============================] - 3s 49us/step - loss: 0.1161 - val_loss: 0.1140\n",
      "Epoch 34/50\n",
      "60000/60000 [==============================] - 3s 49us/step - loss: 0.1151 - val_loss: 0.1130\n",
      "Epoch 35/50\n",
      "60000/60000 [==============================] - 3s 48us/step - loss: 0.1141 - val_loss: 0.1120\n",
      "Epoch 36/50\n",
      "60000/60000 [==============================] - 3s 48us/step - loss: 0.1131 - val_loss: 0.1111\n",
      "Epoch 37/50\n",
      "60000/60000 [==============================] - 3s 47us/step - loss: 0.1122 - val_loss: 0.1102\n",
      "Epoch 38/50\n",
      "60000/60000 [==============================] - 3s 49us/step - loss: 0.1114 - val_loss: 0.1094\n",
      "Epoch 39/50\n",
      "60000/60000 [==============================] - 3s 49us/step - loss: 0.1107 - val_loss: 0.1087\n",
      "Epoch 40/50\n",
      "60000/60000 [==============================] - 3s 50us/step - loss: 0.1099 - val_loss: 0.1080\n",
      "Epoch 41/50\n",
      "60000/60000 [==============================] - 3s 49us/step - loss: 0.1093 - val_loss: 0.1074\n",
      "Epoch 42/50\n",
      "60000/60000 [==============================] - 3s 50us/step - loss: 0.1086 - val_loss: 0.1067\n",
      "Epoch 43/50\n",
      "60000/60000 [==============================] - 3s 49us/step - loss: 0.1081 - val_loss: 0.1062\n",
      "Epoch 44/50\n",
      "60000/60000 [==============================] - 3s 48us/step - loss: 0.1075 - val_loss: 0.1056\n",
      "Epoch 45/50\n",
      "60000/60000 [==============================] - 3s 48us/step - loss: 0.1070 - val_loss: 0.1052\n",
      "Epoch 46/50\n",
      "60000/60000 [==============================] - 3s 49us/step - loss: 0.1065 - val_loss: 0.1047\n",
      "Epoch 47/50\n",
      "60000/60000 [==============================] - 3s 48us/step - loss: 0.1060 - val_loss: 0.1042\n",
      "Epoch 48/50\n",
      "60000/60000 [==============================] - 3s 49us/step - loss: 0.1056 - val_loss: 0.1038\n",
      "Epoch 49/50\n",
      "60000/60000 [==============================] - 3s 46us/step - loss: 0.1052 - val_loss: 0.1033\n",
      "Epoch 50/50\n",
      "60000/60000 [==============================] - 3s 49us/step - loss: 0.1048 - val_loss: 0.1029\n"
     ]
    },
    {
     "data": {
      "text/plain": [
       "<keras.callbacks.History at 0xb26dd1150>"
      ]
     },
     "execution_count": 9,
     "metadata": {},
     "output_type": "execute_result"
    }
   ],
   "source": [
    "autoencoder.fit(x_train, x_train,\n",
    "                epochs=50,\n",
    "                batch_size=256,\n",
    "                shuffle=True,\n",
    "                validation_data=(x_test, x_test))"
   ]
  },
  {
   "cell_type": "code",
   "execution_count": 11,
   "metadata": {},
   "outputs": [],
   "source": [
    "# encode and decode some digits\n",
    "# note that we take them from the *test* set\n",
    "encoded_imgs = encoder.predict(x_test)\n",
    "decoded_imgs = decoder.predict(encoded_imgs)"
   ]
  },
  {
   "cell_type": "code",
   "execution_count": 12,
   "metadata": {},
   "outputs": [
    {
     "data": {
      "image/png": "[encoded data removed]",
      "text/plain": [
       "<Figure size 1440x288 with 20 Axes>"
      ]
     },
     "metadata": {},
     "output_type": "display_data"
    }
   ],
   "source": [
    "# use Matplotlib (don't ask)\n",
    "import matplotlib.pyplot as plt\n",
    "\n",
    "n = 10  # how many digits we will display\n",
    "plt.figure(figsize=(20, 4))\n",
    "for i in range(n):\n",
    "    # display original\n",
    "    ax = plt.subplot(2, n, i + 1)\n",
    "    plt.imshow(x_test[i].reshape(28, 28))\n",
    "    plt.gray()\n",
    "    ax.get_xaxis().set_visible(False)\n",
    "    ax.get_yaxis().set_visible(False)\n",
    "\n",
    "    # display reconstruction\n",
    "    ax = plt.subplot(2, n, i + 1 + n)\n",
    "    plt.imshow(decoded_imgs[i].reshape(28, 28))\n",
    "    plt.gray()\n",
    "    ax.get_xaxis().set_visible(False)\n",
    "    ax.get_yaxis().set_visible(False)\n",
    "plt.show()"
   ]
  },
  {
   "cell_type": "code",
   "execution_count": null,
   "metadata": {},
   "outputs": [],
   "source": []
  }
 ],
 "metadata": {
  "kernelspec": {
   "display_name": "Python 2",
   "language": "python",
   "name": "python2"
  },
  "language_info": {
   "codemirror_mode": {
    "name": "ipython",
    "version": 2
   },
   "file_extension": ".py",
   "mimetype": "text/x-python",
   "name": "python",
   "nbconvert_exporter": "python",
   "pygments_lexer": "ipython2",
   "version": "2.7.15"
  }
 },
 "nbformat": 4,
 "nbformat_minor": 2
}
