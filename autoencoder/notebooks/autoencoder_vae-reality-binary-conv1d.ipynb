{
 "cells": [
  {
   "cell_type": "code",
   "execution_count": 1,
   "metadata": {},
   "outputs": [
    {
     "name": "stderr",
     "output_type": "stream",
     "text": [
      "/Users/tradergllc/anaconda2/lib/python2.7/site-packages/h5py/__init__.py:36: FutureWarning: Conversion of the second argument of issubdtype from `float` to `np.floating` is deprecated. In future, it will be treated as `np.float64 == np.dtype(float).type`.\n",
      "  from ._conv import register_converters as _register_converters\n",
      "Using TensorFlow backend.\n"
     ]
    }
   ],
   "source": [
    "from keras.layers import Lambda, Input, Dense, Conv1D, MaxPool1D, UpSampling1D, Flatten, Reshape\n",
    "from keras.models import Model\n",
    "# from keras.datasets import mnist\n",
    "from keras.losses import binary_crossentropy, categorical_crossentropy\n",
    "from keras import backend as K\n",
    "from keras.optimizers import Adam\n",
    "\n",
    "import numpy as np\n",
    "import matplotlib.pyplot as plt\n",
    "import pandas as pd\n",
    "from sklearn.metrics import roc_auc_score\n",
    "from time import time\n",
    "from scipy.spatial.distance import euclidean\n",
    "from sklearn.metrics import average_precision_score\n",
    "from scipy.stats import multivariate_normal as multi_norm"
   ]
  },
  {
   "cell_type": "markdown",
   "metadata": {},
   "source": [
    "### Prepare Reality Mining Data"
   ]
  },
  {
   "cell_type": "code",
   "execution_count": 2,
   "metadata": {},
   "outputs": [],
   "source": [
    "# Apps By Week\n",
    "df = pd.read_csv('/Users/tradergllc/rsi/datasets/proc/reality-mining/txt/interim/bluetoothDevicesByWeek.txt', \n",
    "                 sep=', ', header=None, engine='python', dtype=str, names=['id', 'date', 'app', 'freq'])"
   ]
  },
  {
   "cell_type": "code",
   "execution_count": 3,
   "metadata": {},
   "outputs": [
    {
     "data": {
      "text/plain": [
       "(23275,)"
      ]
     },
     "execution_count": 3,
     "metadata": {},
     "output_type": "execute_result"
    }
   ],
   "source": [
    "df['app'].unique().shape"
   ]
  },
  {
   "cell_type": "code",
   "execution_count": 4,
   "metadata": {},
   "outputs": [],
   "source": [
    "# Clean app names\n",
    "# for r in range(len(df.index)):\n",
    "#     if df.iloc[r, 2].find(':') > -1:\n",
    "#         print df.iloc[r]\n",
    "#         df.iloc[r, 2] = 'Phone'"
   ]
  },
  {
   "cell_type": "code",
   "execution_count": 5,
   "metadata": {},
   "outputs": [
    {
     "data": {
      "text/plain": [
       "id                   6\n",
       "date           2004.34\n",
       "app     413791240838.0\n",
       "freq                61\n",
       "Name: 5699, dtype: object"
      ]
     },
     "execution_count": 5,
     "metadata": {},
     "output_type": "execute_result"
    }
   ],
   "source": [
    "df.iloc[5699]"
   ]
  },
  {
   "cell_type": "code",
   "execution_count": 6,
   "metadata": {},
   "outputs": [],
   "source": [
    "def convert_to_dict(df):\n",
    "    data_dict = {}\n",
    "    \n",
    "    unique = list(df.iloc[:, 2].unique())\n",
    "    \n",
    "    date_list = [df.iloc[0, 1]]\n",
    "    pid_date_list = [(df.iloc[0,0], df.iloc[0, 1])]\n",
    "    \n",
    "    data_dict[int(df.iloc[0,0])] = {}\n",
    "    data_dict[int(df.iloc[0,0])][df.iloc[0, 1]] = np.zeros((len(unique),))\n",
    "    data_dict[int(df.iloc[0,0])][df.iloc[0, 1]][unique.index(df.iloc[0, 2])] = 1\n",
    "        \n",
    "    for r in range(1, len(df.index)):\n",
    "        pid = int(df.iloc[r, 0])\n",
    "        if pid not in data_dict.keys():\n",
    "            data_dict[pid] = {}        \n",
    "        \n",
    "        if (df.iloc[r, 0], df.iloc[r, 1]) in pid_date_list:\n",
    "            data_dict[pid][df.iloc[r, 1]][unique.index(df.iloc[r, 2])] = 1 #df.iloc[r, 3]\n",
    "        else:\n",
    "            date_list.append(df.iloc[r, 1])\n",
    "            pid_date_list.append((df.iloc[r, 0], df.iloc[r, 1]))\n",
    "            \n",
    "            data_dict[pid][df.iloc[r, 1]] = np.zeros((len(unique),))\n",
    "            data_dict[pid][df.iloc[r, 1]][unique.index(df.iloc[r, 2])] = 1\n",
    "                        \n",
    "    return data_dict, unique"
   ]
  },
  {
   "cell_type": "code",
   "execution_count": 7,
   "metadata": {},
   "outputs": [],
   "source": [
    "data_dict, unique = convert_to_dict(df)"
   ]
  },
  {
   "cell_type": "code",
   "execution_count": 8,
   "metadata": {},
   "outputs": [],
   "source": [
    "def dict_to_np_array(d):\n",
    "    vector_list = []\n",
    "    gt_pid = []\n",
    "    for pid in d.keys():\n",
    "        for date in d[pid].keys():\n",
    "#             print pid, date\n",
    "            vector_list.append(d[pid][date])\n",
    "            gt_pid.append(d.keys().index(pid))\n",
    "    return np.stack(vector_list), np.array(gt_pid)"
   ]
  },
  {
   "cell_type": "code",
   "execution_count": 9,
   "metadata": {},
   "outputs": [
    {
     "name": "stdout",
     "output_type": "stream",
     "text": [
      "(1841, 23275) (1841,)\n"
     ]
    }
   ],
   "source": [
    "x_train_full, y_train = dict_to_np_array(data_dict)\n",
    "print x_train_full.shape, y_train.shape"
   ]
  },
  {
   "cell_type": "code",
   "execution_count": 10,
   "metadata": {},
   "outputs": [
    {
     "data": {
      "text/plain": [
       "array([ 0,  0,  0, ..., 87, 87, 87])"
      ]
     },
     "execution_count": 10,
     "metadata": {},
     "output_type": "execute_result"
    }
   ],
   "source": [
    "y_train"
   ]
  },
  {
   "cell_type": "code",
   "execution_count": 11,
   "metadata": {},
   "outputs": [
    {
     "data": {
      "text/plain": [
       "(1841, 23275)"
      ]
     },
     "execution_count": 11,
     "metadata": {},
     "output_type": "execute_result"
    }
   ],
   "source": [
    "x_train_full.shape"
   ]
  },
  {
   "cell_type": "code",
   "execution_count": 12,
   "metadata": {},
   "outputs": [],
   "source": [
    "# x_train = x_train_full.copy()\n",
    "# for i in np.where(x_train_full.sum(axis=0) > 1)[0][::-1]:\n",
    "# x_train = np.delete(x_train_full, np.where(x_train_full.sum(axis=0) == 1)[0], axis=1)\n",
    "x_train = x_train_full[:, x_train_full.sum(axis=0).argsort()[::-1][:72*78]].reshape((-1, 72*78, 1))"
   ]
  },
  {
   "cell_type": "code",
   "execution_count": 13,
   "metadata": {},
   "outputs": [
    {
     "name": "stdout",
     "output_type": "stream",
     "text": [
      "(1841, 5616, 1)\n"
     ]
    }
   ],
   "source": [
    "print x_train.shape"
   ]
  },
  {
   "cell_type": "code",
   "execution_count": 14,
   "metadata": {},
   "outputs": [
    {
     "data": {
      "image/png": "[encoded data removed]",
      "text/plain": [
       "<Figure size 432x288 with 1 Axes>"
      ]
     },
     "metadata": {},
     "output_type": "display_data"
    }
   ],
   "source": [
    "plt.hist(x_train.sum(axis=0), bins=100)\n",
    "plt.show()\n",
    "\n",
    "# n = 10  # how many digits we will display\n",
    "# choice = np.random.choice(range(len(x_train)), n, replace=False)\n",
    "# plt.figure(figsize=(20, 4))\n",
    "# for i in range(n):\n",
    "#     # display original\n",
    "#     ax = plt.subplot(1, n, i + 1)\n",
    "#     plt.imshow(x_train[choice[i], :200])\n",
    "#     plt.gray()\n",
    "#     ax.get_xaxis().set_visible(False)\n",
    "#     ax.get_yaxis().set_visible(False)\n",
    "# plt.show()"
   ]
  },
  {
   "cell_type": "markdown",
   "metadata": {},
   "source": [
    "### Train VAE"
   ]
  },
  {
   "cell_type": "code",
   "execution_count": 14,
   "metadata": {},
   "outputs": [],
   "source": [
    "def sampling(args):\n",
    "    \"\"\"Reparameterization trick by sampling fr an isotropic unit Gaussian.\n",
    "\n",
    "    # Arguments:\n",
    "        args (tensor): mean and log of variance of Q(z|X)\n",
    "\n",
    "    # Returns:\n",
    "        z (tensor): sampled latent vector\n",
    "    \"\"\"\n",
    "\n",
    "    z_mean, z_log_var = args\n",
    "    batch = K.shape(z_mean)[0]\n",
    "    dim = K.int_shape(z_mean)[1]\n",
    "    print batch, dim\n",
    "    # by default, random_normal has mean=0 and std=1.0\n",
    "    epsilon = K.random_normal(shape=(batch, dim))\n",
    "    print epsilon\n",
    "    return z_mean + K.exp(0.5 * z_log_var) * epsilon"
   ]
  },
  {
   "cell_type": "code",
   "execution_count": 15,
   "metadata": {},
   "outputs": [],
   "source": [
    "original_dim = x_train.shape[-2:]\n",
    "\n",
    "# network parameters\n",
    "input_shape = original_dim\n",
    "# intermediate_dim = 1000\n",
    "# inter_dim_2 = 250\n",
    "latent_dim = 32\n",
    "filters = 32\n",
    "kernel_size = (3,)\n",
    "\n",
    "batch_size = 128\n",
    "# epochs = 50"
   ]
  },
  {
   "cell_type": "code",
   "execution_count": 16,
   "metadata": {},
   "outputs": [
    {
     "data": {
      "text/plain": [
       "(5616, 1)"
      ]
     },
     "execution_count": 16,
     "metadata": {},
     "output_type": "execute_result"
    }
   ],
   "source": [
    "input_shape"
   ]
  },
  {
   "cell_type": "code",
   "execution_count": 17,
   "metadata": {},
   "outputs": [
    {
     "name": "stdout",
     "output_type": "stream",
     "text": [
      "Tensor(\"z/strided_slice:0\", shape=(), dtype=int32) 32\n",
      "Tensor(\"z/random_normal:0\", shape=(?, 32), dtype=float32)\n",
      "__________________________________________________________________________________________________\n",
      "Layer (type)                    Output Shape         Param #     Connected to                     \n",
      "==================================================================================================\n",
      "encoder_input (InputLayer)      (None, 5616, 1)      0                                            \n",
      "__________________________________________________________________________________________________\n",
      "conv1d_1 (Conv1D)               (None, 2808, 32)     128         encoder_input[0][0]              \n",
      "__________________________________________________________________________________________________\n",
      "max_pooling1d_1 (MaxPooling1D)  (None, 1404, 32)     0           conv1d_1[0][0]                   \n",
      "__________________________________________________________________________________________________\n",
      "conv1d_2 (Conv1D)               (None, 702, 64)      6208        max_pooling1d_1[0][0]            \n",
      "__________________________________________________________________________________________________\n",
      "max_pooling1d_2 (MaxPooling1D)  (None, 351, 64)      0           conv1d_2[0][0]                   \n",
      "__________________________________________________________________________________________________\n",
      "flatten_1 (Flatten)             (None, 22464)        0           max_pooling1d_2[0][0]            \n",
      "__________________________________________________________________________________________________\n",
      "dense_1 (Dense)                 (None, 64)           1437760     flatten_1[0][0]                  \n",
      "__________________________________________________________________________________________________\n",
      "z_mean (Dense)                  (None, 32)           2080        dense_1[0][0]                    \n",
      "__________________________________________________________________________________________________\n",
      "z_log_var (Dense)               (None, 32)           2080        dense_1[0][0]                    \n",
      "__________________________________________________________________________________________________\n",
      "z (Lambda)                      (None, 32)           0           z_mean[0][0]                     \n",
      "                                                                 z_log_var[0][0]                  \n",
      "==================================================================================================\n",
      "Total params: 1,448,256\n",
      "Trainable params: 1,448,256\n",
      "Non-trainable params: 0\n",
      "__________________________________________________________________________________________________\n"
     ]
    }
   ],
   "source": [
    "# VAE model = encoder + decoder\n",
    "# build encoder model\n",
    "inputs = Input(shape=input_shape, name='encoder_input')\n",
    "x = inputs\n",
    "for i in range(2):\n",
    "    x = Conv1D(filters=filters, kernel_size=kernel_size,\n",
    "               activation='relu', strides=2, padding='same')(x)\n",
    "    x = MaxPool1D((2,), padding='same')(x)\n",
    "    filters *= 2\n",
    "    \n",
    "# shape info needed to build decoder model\n",
    "shape = K.int_shape(x)\n",
    "    \n",
    "x = Flatten()(x)\n",
    "x = Dense(2*latent_dim, activation='relu')(x)\n",
    "z_mean = Dense(latent_dim, name='z_mean')(x)\n",
    "z_log_var = Dense(latent_dim, name='z_log_var')(x)\n",
    "\n",
    "# use reparameterization trick to push the sampling out as input\n",
    "# note that \"output_shape\" isn't necessary with the TensorFlow backend\n",
    "z = Lambda(sampling, output_shape=(latent_dim,), name='z')([z_mean, z_log_var])\n",
    "\n",
    "# instantiate encoder model\n",
    "encoder = Model(inputs, [z_mean, z_log_var, z], name='encoder')\n",
    "encoder.summary()"
   ]
  },
  {
   "cell_type": "code",
   "execution_count": 18,
   "metadata": {},
   "outputs": [
    {
     "name": "stdout",
     "output_type": "stream",
     "text": [
      "_________________________________________________________________\n",
      "Layer (type)                 Output Shape              Param #   \n",
      "=================================================================\n",
      "z_sampling (InputLayer)      (None, 32)                0         \n",
      "_________________________________________________________________\n",
      "dense_2 (Dense)              (None, 22464)             741312    \n",
      "_________________________________________________________________\n",
      "reshape_1 (Reshape)          (None, 351, 64)           0         \n",
      "_________________________________________________________________\n",
      "up_sampling1d_1 (UpSampling1 (None, 702, 64)           0         \n",
      "_________________________________________________________________\n",
      "conv1d_3 (Conv1D)            (None, 702, 128)          24704     \n",
      "_________________________________________________________________\n",
      "up_sampling1d_2 (UpSampling1 (None, 1404, 128)         0         \n",
      "_________________________________________________________________\n",
      "conv1d_4 (Conv1D)            (None, 1404, 64)          24640     \n",
      "_________________________________________________________________\n",
      "up_sampling1d_3 (UpSampling1 (None, 2808, 64)          0         \n",
      "_________________________________________________________________\n",
      "conv1d_5 (Conv1D)            (None, 2808, 32)          6176      \n",
      "_________________________________________________________________\n",
      "up_sampling1d_4 (UpSampling1 (None, 5616, 32)          0         \n",
      "_________________________________________________________________\n",
      "decoder_output (Conv1D)      (None, 5616, 1)           97        \n",
      "=================================================================\n",
      "Total params: 796,929\n",
      "Trainable params: 796,929\n",
      "Non-trainable params: 0\n",
      "_________________________________________________________________\n"
     ]
    }
   ],
   "source": [
    "latent_inputs = Input(shape=(latent_dim,), name='z_sampling')\n",
    "x = Dense(shape[1] * shape[2], activation='relu')(latent_inputs)\n",
    "x = Reshape((shape[1], shape[2]))(x)\n",
    "\n",
    "for i in range(3):\n",
    "    x = UpSampling1D(2)(x)\n",
    "    x = Conv1D(filters=filters, kernel_size=kernel_size,\n",
    "                activation='relu', padding='same')(x)\n",
    "    filters //= 2\n",
    "\n",
    "x = UpSampling1D(2)(x)\n",
    "outputs = Conv1D(filters=1, kernel_size=kernel_size,\n",
    "                activation='sigmoid', padding='same', \n",
    "                 name='decoder_output')(x)\n",
    "\n",
    "# instantiate decoder model\n",
    "decoder = Model(latent_inputs, outputs, name='decoder')\n",
    "decoder.summary()"
   ]
  },
  {
   "cell_type": "code",
   "execution_count": 19,
   "metadata": {},
   "outputs": [
    {
     "name": "stdout",
     "output_type": "stream",
     "text": [
      "Tensor(\"encoder/z/strided_slice:0\", shape=(), dtype=int32) 32\n",
      "Tensor(\"encoder/z/random_normal:0\", shape=(?, 32), dtype=float32)\n"
     ]
    }
   ],
   "source": [
    "# instantiate VAE model\n",
    "outputs = decoder(encoder(inputs)[2])\n",
    "vae = Model(inputs, outputs, name='vae_mlp')"
   ]
  },
  {
   "cell_type": "code",
   "execution_count": 21,
   "metadata": {},
   "outputs": [
    {
     "name": "stdout",
     "output_type": "stream",
     "text": [
      "_________________________________________________________________\n",
      "Layer (type)                 Output Shape              Param #   \n",
      "=================================================================\n",
      "encoder_input (InputLayer)   (None, 5616, 1)           0         \n",
      "_________________________________________________________________\n",
      "encoder (Model)              [(None, 32), (None, 32),  1448256   \n",
      "_________________________________________________________________\n",
      "decoder (Model)              (None, 5616, 1)           796929    \n",
      "=================================================================\n",
      "Total params: 2,245,185\n",
      "Trainable params: 2,245,185\n",
      "Non-trainable params: 0\n",
      "_________________________________________________________________\n"
     ]
    }
   ],
   "source": [
    "reconstruction_loss = categorical_crossentropy(inputs,outputs)\n",
    "reconstruction_loss *= original_dim[0]\n",
    "kl_loss = 1 + z_log_var - K.square(z_mean) - K.exp(z_log_var)\n",
    "kl_loss = K.sum(kl_loss, axis=-1)\n",
    "kl_loss *= -0.5\n",
    "vae_loss = K.mean(reconstruction_loss + kl_loss)\n",
    "vae.add_loss(vae_loss)\n",
    "vae.compile(optimizer=Adam(lr=0.01, decay=1.0e-4))\n",
    "vae.summary()"
   ]
  },
  {
   "cell_type": "code",
   "execution_count": 22,
   "metadata": {},
   "outputs": [
    {
     "name": "stdout",
     "output_type": "stream",
     "text": [
      "Epoch 1/1000\n"
     ]
    },
    {
     "ename": "InvalidArgumentError",
     "evalue": "Incompatible shapes: [128,5616] vs. [128]\n\t [[Node: training/Adam/gradients/add_1_grad/BroadcastGradientArgs = BroadcastGradientArgs[T=DT_INT32, _class=[\"loc:@training/Adam/gradients/add_1_grad/Reshape\"], _device=\"/job:localhost/replica:0/task:0/device:CPU:0\"](training/Adam/gradients/add_1_grad/Shape, training/Adam/gradients/add_1_grad/Shape_1)]]",
     "output_type": "error",
     "traceback": [
      "\u001b[0;31m---------------------------------------------------------------------------\u001b[0m",
      "\u001b[0;31mInvalidArgumentError\u001b[0m                      Traceback (most recent call last)",
      "\u001b[0;32m<ipython-input-22-318e9c4fd4ec>\u001b[0m in \u001b[0;36m<module>\u001b[0;34m()\u001b[0m\n\u001b[0;32m----> 1\u001b[0;31m \u001b[0mvae\u001b[0m\u001b[0;34m.\u001b[0m\u001b[0mfit\u001b[0m\u001b[0;34m(\u001b[0m\u001b[0mx_train\u001b[0m\u001b[0;34m,\u001b[0m \u001b[0mepochs\u001b[0m\u001b[0;34m=\u001b[0m\u001b[0;36m1000\u001b[0m\u001b[0;34m,\u001b[0m \u001b[0mbatch_size\u001b[0m\u001b[0;34m=\u001b[0m\u001b[0mbatch_size\u001b[0m\u001b[0;34m)\u001b[0m\u001b[0;34m\u001b[0m\u001b[0m\n\u001b[0m",
      "\u001b[0;32m/Users/tradergllc/anaconda2/lib/python2.7/site-packages/keras/engine/training.pyc\u001b[0m in \u001b[0;36mfit\u001b[0;34m(self, x, y, batch_size, epochs, verbose, callbacks, validation_split, validation_data, shuffle, class_weight, sample_weight, initial_epoch, steps_per_epoch, validation_steps, **kwargs)\u001b[0m\n\u001b[1;32m   1040\u001b[0m                                         \u001b[0minitial_epoch\u001b[0m\u001b[0;34m=\u001b[0m\u001b[0minitial_epoch\u001b[0m\u001b[0;34m,\u001b[0m\u001b[0;34m\u001b[0m\u001b[0m\n\u001b[1;32m   1041\u001b[0m                                         \u001b[0msteps_per_epoch\u001b[0m\u001b[0;34m=\u001b[0m\u001b[0msteps_per_epoch\u001b[0m\u001b[0;34m,\u001b[0m\u001b[0;34m\u001b[0m\u001b[0m\n\u001b[0;32m-> 1042\u001b[0;31m                                         validation_steps=validation_steps)\n\u001b[0m\u001b[1;32m   1043\u001b[0m \u001b[0;34m\u001b[0m\u001b[0m\n\u001b[1;32m   1044\u001b[0m     def evaluate(self, x=None, y=None,\n",
      "\u001b[0;32m/Users/tradergllc/anaconda2/lib/python2.7/site-packages/keras/engine/training_arrays.pyc\u001b[0m in \u001b[0;36mfit_loop\u001b[0;34m(model, f, ins, out_labels, batch_size, epochs, verbose, callbacks, val_f, val_ins, shuffle, callback_metrics, initial_epoch, steps_per_epoch, validation_steps)\u001b[0m\n\u001b[1;32m    197\u001b[0m                     \u001b[0mins_batch\u001b[0m\u001b[0;34m[\u001b[0m\u001b[0mi\u001b[0m\u001b[0;34m]\u001b[0m \u001b[0;34m=\u001b[0m \u001b[0mins_batch\u001b[0m\u001b[0;34m[\u001b[0m\u001b[0mi\u001b[0m\u001b[0;34m]\u001b[0m\u001b[0;34m.\u001b[0m\u001b[0mtoarray\u001b[0m\u001b[0;34m(\u001b[0m\u001b[0;34m)\u001b[0m\u001b[0;34m\u001b[0m\u001b[0m\n\u001b[1;32m    198\u001b[0m \u001b[0;34m\u001b[0m\u001b[0m\n\u001b[0;32m--> 199\u001b[0;31m                 \u001b[0mouts\u001b[0m \u001b[0;34m=\u001b[0m \u001b[0mf\u001b[0m\u001b[0;34m(\u001b[0m\u001b[0mins_batch\u001b[0m\u001b[0;34m)\u001b[0m\u001b[0;34m\u001b[0m\u001b[0m\n\u001b[0m\u001b[1;32m    200\u001b[0m                 \u001b[0;32mif\u001b[0m \u001b[0;32mnot\u001b[0m \u001b[0misinstance\u001b[0m\u001b[0;34m(\u001b[0m\u001b[0mouts\u001b[0m\u001b[0;34m,\u001b[0m \u001b[0mlist\u001b[0m\u001b[0;34m)\u001b[0m\u001b[0;34m:\u001b[0m\u001b[0;34m\u001b[0m\u001b[0m\n\u001b[1;32m    201\u001b[0m                     \u001b[0mouts\u001b[0m \u001b[0;34m=\u001b[0m \u001b[0;34m[\u001b[0m\u001b[0mouts\u001b[0m\u001b[0;34m]\u001b[0m\u001b[0;34m\u001b[0m\u001b[0m\n",
      "\u001b[0;32m/Users/tradergllc/anaconda2/lib/python2.7/site-packages/keras/backend/tensorflow_backend.pyc\u001b[0m in \u001b[0;36m__call__\u001b[0;34m(self, inputs)\u001b[0m\n\u001b[1;32m   2659\u001b[0m                 \u001b[0;32mreturn\u001b[0m \u001b[0mself\u001b[0m\u001b[0;34m.\u001b[0m\u001b[0m_legacy_call\u001b[0m\u001b[0;34m(\u001b[0m\u001b[0minputs\u001b[0m\u001b[0;34m)\u001b[0m\u001b[0;34m\u001b[0m\u001b[0m\n\u001b[1;32m   2660\u001b[0m \u001b[0;34m\u001b[0m\u001b[0m\n\u001b[0;32m-> 2661\u001b[0;31m             \u001b[0;32mreturn\u001b[0m \u001b[0mself\u001b[0m\u001b[0;34m.\u001b[0m\u001b[0m_call\u001b[0m\u001b[0;34m(\u001b[0m\u001b[0minputs\u001b[0m\u001b[0;34m)\u001b[0m\u001b[0;34m\u001b[0m\u001b[0m\n\u001b[0m\u001b[1;32m   2662\u001b[0m         \u001b[0;32melse\u001b[0m\u001b[0;34m:\u001b[0m\u001b[0;34m\u001b[0m\u001b[0m\n\u001b[1;32m   2663\u001b[0m             \u001b[0;32mif\u001b[0m \u001b[0mpy_any\u001b[0m\u001b[0;34m(\u001b[0m\u001b[0mis_tensor\u001b[0m\u001b[0;34m(\u001b[0m\u001b[0mx\u001b[0m\u001b[0;34m)\u001b[0m \u001b[0;32mfor\u001b[0m \u001b[0mx\u001b[0m \u001b[0;32min\u001b[0m \u001b[0minputs\u001b[0m\u001b[0;34m)\u001b[0m\u001b[0;34m:\u001b[0m\u001b[0;34m\u001b[0m\u001b[0m\n",
      "\u001b[0;32m/Users/tradergllc/anaconda2/lib/python2.7/site-packages/keras/backend/tensorflow_backend.pyc\u001b[0m in \u001b[0;36m_call\u001b[0;34m(self, inputs)\u001b[0m\n\u001b[1;32m   2629\u001b[0m                                 \u001b[0msymbol_vals\u001b[0m\u001b[0;34m,\u001b[0m\u001b[0;34m\u001b[0m\u001b[0m\n\u001b[1;32m   2630\u001b[0m                                 session)\n\u001b[0;32m-> 2631\u001b[0;31m         \u001b[0mfetched\u001b[0m \u001b[0;34m=\u001b[0m \u001b[0mself\u001b[0m\u001b[0;34m.\u001b[0m\u001b[0m_callable_fn\u001b[0m\u001b[0;34m(\u001b[0m\u001b[0;34m*\u001b[0m\u001b[0marray_vals\u001b[0m\u001b[0;34m)\u001b[0m\u001b[0;34m\u001b[0m\u001b[0m\n\u001b[0m\u001b[1;32m   2632\u001b[0m         \u001b[0;32mreturn\u001b[0m \u001b[0mfetched\u001b[0m\u001b[0;34m[\u001b[0m\u001b[0;34m:\u001b[0m\u001b[0mlen\u001b[0m\u001b[0;34m(\u001b[0m\u001b[0mself\u001b[0m\u001b[0;34m.\u001b[0m\u001b[0moutputs\u001b[0m\u001b[0;34m)\u001b[0m\u001b[0;34m]\u001b[0m\u001b[0;34m\u001b[0m\u001b[0m\n\u001b[1;32m   2633\u001b[0m \u001b[0;34m\u001b[0m\u001b[0m\n",
      "\u001b[0;32m/Users/tradergllc/anaconda2/lib/python2.7/site-packages/tensorflow/python/client/session.pyc\u001b[0m in \u001b[0;36m__call__\u001b[0;34m(self, *args)\u001b[0m\n\u001b[1;32m   1452\u001b[0m         \u001b[0;32melse\u001b[0m\u001b[0;34m:\u001b[0m\u001b[0;34m\u001b[0m\u001b[0m\n\u001b[1;32m   1453\u001b[0m           return tf_session.TF_DeprecatedSessionRunCallable(\n\u001b[0;32m-> 1454\u001b[0;31m               self._session._session, self._handle, args, status, None)\n\u001b[0m\u001b[1;32m   1455\u001b[0m \u001b[0;34m\u001b[0m\u001b[0m\n\u001b[1;32m   1456\u001b[0m     \u001b[0;32mdef\u001b[0m \u001b[0m__del__\u001b[0m\u001b[0;34m(\u001b[0m\u001b[0mself\u001b[0m\u001b[0;34m)\u001b[0m\u001b[0;34m:\u001b[0m\u001b[0;34m\u001b[0m\u001b[0m\n",
      "\u001b[0;32m/Users/tradergllc/anaconda2/lib/python2.7/site-packages/tensorflow/python/framework/errors_impl.pyc\u001b[0m in \u001b[0;36m__exit__\u001b[0;34m(self, type_arg, value_arg, traceback_arg)\u001b[0m\n\u001b[1;32m    517\u001b[0m             \u001b[0mNone\u001b[0m\u001b[0;34m,\u001b[0m \u001b[0mNone\u001b[0m\u001b[0;34m,\u001b[0m\u001b[0;34m\u001b[0m\u001b[0m\n\u001b[1;32m    518\u001b[0m             \u001b[0mcompat\u001b[0m\u001b[0;34m.\u001b[0m\u001b[0mas_text\u001b[0m\u001b[0;34m(\u001b[0m\u001b[0mc_api\u001b[0m\u001b[0;34m.\u001b[0m\u001b[0mTF_Message\u001b[0m\u001b[0;34m(\u001b[0m\u001b[0mself\u001b[0m\u001b[0;34m.\u001b[0m\u001b[0mstatus\u001b[0m\u001b[0;34m.\u001b[0m\u001b[0mstatus\u001b[0m\u001b[0;34m)\u001b[0m\u001b[0;34m)\u001b[0m\u001b[0;34m,\u001b[0m\u001b[0;34m\u001b[0m\u001b[0m\n\u001b[0;32m--> 519\u001b[0;31m             c_api.TF_GetCode(self.status.status))\n\u001b[0m\u001b[1;32m    520\u001b[0m     \u001b[0;31m# Delete the underlying status object from memory otherwise it stays alive\u001b[0m\u001b[0;34m\u001b[0m\u001b[0;34m\u001b[0m\u001b[0m\n\u001b[1;32m    521\u001b[0m     \u001b[0;31m# as there is a reference to status from this from the traceback due to\u001b[0m\u001b[0;34m\u001b[0m\u001b[0;34m\u001b[0m\u001b[0m\n",
      "\u001b[0;31mInvalidArgumentError\u001b[0m: Incompatible shapes: [128,5616] vs. [128]\n\t [[Node: training/Adam/gradients/add_1_grad/BroadcastGradientArgs = BroadcastGradientArgs[T=DT_INT32, _class=[\"loc:@training/Adam/gradients/add_1_grad/Reshape\"], _device=\"/job:localhost/replica:0/task:0/device:CPU:0\"](training/Adam/gradients/add_1_grad/Shape, training/Adam/gradients/add_1_grad/Shape_1)]]"
     ]
    }
   ],
   "source": [
    "vae.fit(x_train, epochs=1000, batch_size=batch_size)"
   ]
  },
  {
   "cell_type": "code",
   "execution_count": 22,
   "metadata": {},
   "outputs": [],
   "source": [
    "encoded_imgs = encoder.predict(x_train)\n",
    "decoded_imgs = decoder.predict(encoded_imgs[2])"
   ]
  },
  {
   "cell_type": "code",
   "execution_count": 23,
   "metadata": {},
   "outputs": [
    {
     "data": {
      "image/png": "[encoded data removed]",
      "text/plain": [
       "<Figure size 1440x288 with 20 Axes>"
      ]
     },
     "metadata": {},
     "output_type": "display_data"
    }
   ],
   "source": [
    "n = 10  # how many digits we will display\n",
    "choice = np.random.choice(range(len(x_train)), n, replace=False)\n",
    "plt.figure(figsize=(20, 4))\n",
    "for i in range(n):\n",
    "    # display original\n",
    "    ax = plt.subplot(2, n, i + 1)\n",
    "    plt.imshow(x_train[choice[i], :200].reshape(20, 10))\n",
    "    plt.gray()\n",
    "    ax.get_xaxis().set_visible(False)\n",
    "    ax.get_yaxis().set_visible(False)\n",
    "\n",
    "    # display reconstruction\n",
    "    ax = plt.subplot(2, n, i + 1 + n)\n",
    "    plt.imshow(decoded_imgs[choice[i], :200].reshape(20, 10))\n",
    "    plt.gray()\n",
    "    ax.get_xaxis().set_visible(False)\n",
    "    ax.get_yaxis().set_visible(False)\n",
    "plt.show()"
   ]
  },
  {
   "cell_type": "code",
   "execution_count": 24,
   "metadata": {},
   "outputs": [
    {
     "data": {
      "image/png": "[encoded data removed]",
      "text/plain": [
       "<Figure size 576x432 with 2 Axes>"
      ]
     },
     "metadata": {},
     "output_type": "display_data"
    }
   ],
   "source": [
    "x_test_encoded = encoder.predict(x_train, batch_size=batch_size)\n",
    "x_test_encoded = np.array(x_test_encoded)\n",
    "plt.figure(figsize=(8, 6))\n",
    "plt.scatter(x_test_encoded[2, :, 0], x_test_encoded[2, :, 1], c=y_train)\n",
    "plt.colorbar()\n",
    "plt.show()"
   ]
  },
  {
   "cell_type": "code",
   "execution_count": 25,
   "metadata": {},
   "outputs": [],
   "source": [
    "# pair_dist = []\n",
    "# pair_label = []\n",
    "# pair_score =[]\n",
    "\n",
    "# for i in np.arange(x_test_encoded[2].shape[0]):\n",
    "#     for j in range(i + 1, x_test_encoded[2].shape[0]):\n",
    "#         d = np.sqrt(np.power(x_test_encoded[2, i] - x_test_encoded[2, j], 2).sum())\n",
    "#         pair_dist.append(d)\n",
    "#         pair_score.append(1 / (d + 1.0e-5))\n",
    "        \n",
    "#         if y_train[i] == y_train[j]:\n",
    "#             pair_label.append(True)\n",
    "#         else:\n",
    "#             pair_label.append(False)\n",
    "\n",
    "# print roc_auc_score(y_true=pair_label, y_score=pair_score)"
   ]
  },
  {
   "cell_type": "code",
   "execution_count": 26,
   "metadata": {},
   "outputs": [],
   "source": [
    "# pair_dist = np.array(pair_dist)\n",
    "# pair_label = np.array(pair_label)\n",
    "\n",
    "# bins = np.linspace(pair_dist.min(), pair_dist.max(), 100)\n",
    "\n",
    "# plt.hist(pair_dist[pair_label], bins, alpha=0.5, label='pos')\n",
    "# plt.hist(pair_dist[pair_label == False], bins, alpha=0.5, label='neg')\n",
    "# plt.legend(loc='upper right')\n",
    "# plt.show()"
   ]
  },
  {
   "cell_type": "code",
   "execution_count": 27,
   "metadata": {},
   "outputs": [],
   "source": [
    "# pair_dist = []\n",
    "# pair_label = []\n",
    "\n",
    "# for i in np.arange(x_train.shape[0]):\n",
    "#     for j in range(i, x_train.shape[0]):\n",
    "#         d = np.sqrt(np.power(x_train[i] - x_train[j], 2).sum())\n",
    "#         pair_dist.append(d)\n",
    "        \n",
    "#         if y_train[i] == y_train[j]:\n",
    "#             pair_label.append(True)\n",
    "#         else:\n",
    "#             pair_label.append(False)\n",
    "    \n",
    "# print roc_auc_score(y_true=pair_label, y_score=pair_dist)"
   ]
  },
  {
   "cell_type": "code",
   "execution_count": 28,
   "metadata": {},
   "outputs": [
    {
     "name": "stdout",
     "output_type": "stream",
     "text": [
      "[ 14.614131    -3.451315    -1.054156    -3.77469      1.7571453\n",
      "   1.6144184   -1.2198431   -0.6559473    1.196429     9.737632\n",
      "   4.9783363   -1.6362103   -1.7546933   -0.8162566   -0.75092596\n",
      "  -0.13828254   1.4389863   -0.30896485  -3.8808782   28.635338\n",
      "  -2.2553146    2.2444205   -3.7421691  -11.4277935    0.67408013\n",
      "   2.0147088   -3.9587364   -1.496527    -2.904797     0.6025982\n",
      "  -3.6351864    2.617541  ]\n",
      "[13.23395   10.15909    9.118197   9.560115  11.086982   8.661651\n",
      " 11.588699  10.019711   8.787927  14.343926  12.250062   9.896418\n",
      "  9.465989   9.982763   9.351093  10.659166  10.972062  11.210817\n",
      " 11.235339  20.203728   9.8605995 10.12376   10.934647  12.866853\n",
      "  9.78127    9.668673  10.916065   9.334157  10.73078    9.639947\n",
      "  9.240886   8.741958 ]\n"
     ]
    }
   ],
   "source": [
    "mean = np.mean(x_test_encoded[0], axis=0)\n",
    "print mean\n",
    "\n",
    "std = np.std(x_test_encoded[0], axis=0)\n",
    "print std"
   ]
  },
  {
   "cell_type": "code",
   "execution_count": 29,
   "metadata": {},
   "outputs": [
    {
     "data": {
      "image/png": "[encoded data removed]",
      "text/plain": [
       "<Figure size 432x288 with 1 Axes>"
      ]
     },
     "metadata": {},
     "output_type": "display_data"
    }
   ],
   "source": [
    "for i in range(len(std)):\n",
    "    plt.hist(x_test_encoded[0, :, i], bins=100, alpha=0.5)\n",
    "\n",
    "# plt.axvline(mean[0], color='green', linestyle='dashed', linewidth=1)\n",
    "# plt.axvline(mean[1], color='red', linestyle='dashed', linewidth=1)\n",
    "\n",
    "plt.legend()\n",
    "plt.show()"
   ]
  },
  {
   "cell_type": "code",
   "execution_count": 36,
   "metadata": {},
   "outputs": [
    {
     "data": {
      "text/plain": [
       "(1911, 32)"
      ]
     },
     "execution_count": 36,
     "metadata": {},
     "output_type": "execute_result"
    }
   ],
   "source": [
    "x_test_encoded[0].shape"
   ]
  },
  {
   "cell_type": "code",
   "execution_count": 37,
   "metadata": {},
   "outputs": [
    {
     "name": "stdout",
     "output_type": "stream",
     "text": [
      "[[ 1.83991918  0.10838809  0.0404853  ... -0.4582909   0.50363063\n",
      "  -0.77448507]\n",
      " [ 0.10838809  0.89240863 -0.50724623 ... -0.53851793 -0.17500165\n",
      "  -0.08638175]\n",
      " [ 0.0404853  -0.50724623  0.81665407 ...  0.22555581 -0.15694436\n",
      "   0.39498853]\n",
      " ...\n",
      " [-0.4582909  -0.53851793  0.22555581 ...  1.01211671 -0.03154525\n",
      "   0.24474293]\n",
      " [ 0.50363063 -0.17500165 -0.15694436 ... -0.03154525  1.99297641\n",
      "  -0.57082593]\n",
      " [-0.77448507 -0.08638175  0.39498853 ...  0.24474293 -0.57082593\n",
      "   1.27489183]]\n"
     ]
    }
   ],
   "source": [
    "cov = np.cov(x_test_encoded[0].transpose())\n",
    "print cov"
   ]
  },
  {
   "cell_type": "code",
   "execution_count": 38,
   "metadata": {},
   "outputs": [
    {
     "data": {
      "text/plain": [
       "(32, 32)"
      ]
     },
     "execution_count": 38,
     "metadata": {},
     "output_type": "execute_result"
    }
   ],
   "source": [
    "cov.shape"
   ]
  },
  {
   "cell_type": "code",
   "execution_count": 96,
   "metadata": {},
   "outputs": [
    {
     "data": {
      "image/png": "[encoded data removed]",
      "text/plain": [
       "<Figure size 576x432 with 2 Axes>"
      ]
     },
     "metadata": {},
     "output_type": "display_data"
    }
   ],
   "source": [
    "fig = plt.figure(figsize=(8,6))\n",
    "ax = fig.add_subplot(111)\n",
    "cax = ax.matshow(cov, vmin=-1, vmax=1)\n",
    "fig.colorbar(cax)\n",
    "# ticks = np.arange(0,32,1)\n",
    "# ax.set_xticks(ticks)\n",
    "# ax.set_yticks(ticks)\n",
    "# ax.set_xticklabels(names)\n",
    "# ax.set_yticklabels(names)\n",
    "plt.show()"
   ]
  },
  {
   "cell_type": "markdown",
   "metadata": {},
   "source": [
    "### Apply Generative Probabilistic Model"
   ]
  },
  {
   "cell_type": "code",
   "execution_count": 43,
   "metadata": {},
   "outputs": [],
   "source": [
    "N_SINGLETONS = 65\n",
    "N_PAIRS = 5"
   ]
  },
  {
   "cell_type": "code",
   "execution_count": 44,
   "metadata": {},
   "outputs": [
    {
     "data": {
      "text/plain": [
       "array([ 0,  1,  2,  3,  4,  5,  6,  7,  8,  9, 10, 11, 12, 13, 14, 15, 16,\n",
       "       17, 18, 19, 20, 21, 22, 23, 24, 25, 26, 27, 28, 29, 30, 31, 32, 33,\n",
       "       34, 35, 36, 37, 38, 39, 40, 41, 42, 43, 44, 45, 46, 47, 48, 49, 50,\n",
       "       51, 52, 53, 54, 55, 56, 57, 58, 59, 60, 61, 62, 63, 64, 65, 66, 67,\n",
       "       68, 69, 70, 71, 72, 73, 74, 75, 76, 77, 78, 79, 80, 81, 82, 83, 84,\n",
       "       85, 86, 87])"
      ]
     },
     "execution_count": 44,
     "metadata": {},
     "output_type": "execute_result"
    }
   ],
   "source": [
    "np.unique(y_train)"
   ]
  },
  {
   "cell_type": "code",
   "execution_count": 45,
   "metadata": {},
   "outputs": [
    {
     "name": "stdout",
     "output_type": "stream",
     "text": [
      "[39 77 55 73 33 80 53 28 64 35 38 48 46 62 74 36 10 41 57 52 65 17  0 15\n",
      " 18  8 49 50 24 22 45 75 12 21 78 30 63 61 40 81 13 42 76 47 16 19 60 71\n",
      " 87 70  1  9 67 83 66 32 68 85  5 54  3 37 84 20 72]\n"
     ]
    }
   ],
   "source": [
    "singletons = np.random.choice(range(y_train.max() + 1), N_SINGLETONS, replace=False)\n",
    "# pairs = np.random.choice( )\n",
    "print singletons"
   ]
  },
  {
   "cell_type": "code",
   "execution_count": 46,
   "metadata": {},
   "outputs": [
    {
     "name": "stdout",
     "output_type": "stream",
     "text": [
      "[2, 4, 6, 7, 11, 14, 23, 25, 26, 27, 29, 31, 34, 43, 44, 51, 56, 58, 59, 69, 79, 82, 86]\n"
     ]
    }
   ],
   "source": [
    "remaining_idx = []\n",
    "for i in np.arange(y_train.max() + 1):\n",
    "    if i not in singletons:\n",
    "        remaining_idx.append(i)\n",
    "print remaining_idx"
   ]
  },
  {
   "cell_type": "code",
   "execution_count": 47,
   "metadata": {},
   "outputs": [
    {
     "name": "stdout",
     "output_type": "stream",
     "text": [
      "[51 59  7 27 44]\n"
     ]
    }
   ],
   "source": [
    "pairs = np.random.choice(remaining_idx, N_PAIRS, replace=False)\n",
    "print pairs"
   ]
  },
  {
   "cell_type": "code",
   "execution_count": 48,
   "metadata": {},
   "outputs": [],
   "source": [
    "vec_list = []\n",
    "labels = []\n",
    "GT_POS_PAIRS = []\n",
    "\n",
    "pid_list = data_dict.keys()\n",
    "\n",
    "for p in range(len(pairs)):\n",
    "    pid = pid_list[pairs[p]]\n",
    "#     print pid\n",
    "    w1, w2 = np.random.choice(data_dict[pid].keys(), 2)\n",
    "#     print w1, w2\n",
    "    app_vec1, app_vec2 = data_dict[pid][w1], data_dict[pid][w2]\n",
    "    \n",
    "    vec_list.append(app_vec1)\n",
    "    vec_list.append(app_vec2)\n",
    "    \n",
    "    labels.append(p + 1)\n",
    "    labels.append(p + 1)\n",
    "    GT_POS_PAIRS.append((2* p, 2* p + 1))\n",
    "\n",
    "for s in singletons:\n",
    "    pid = pid_list[s]\n",
    "    w = np.random.choice(data_dict[pid].keys(), 1)\n",
    "#     print pid\n",
    "#     print w\n",
    "    app_vec = data_dict[pid][w[0]]\n",
    "    vec_list.append(app_vec)\n",
    "    labels.append(0)"
   ]
  },
  {
   "cell_type": "code",
   "execution_count": 49,
   "metadata": {},
   "outputs": [],
   "source": [
    "vec_list = np.array(vec_list)"
   ]
  },
  {
   "cell_type": "code",
   "execution_count": 50,
   "metadata": {},
   "outputs": [],
   "source": [
    "test_encoded_imgs = encoder.predict(vec_list)\n",
    "test_decoded_imgs = decoder.predict(test_encoded_imgs[2])"
   ]
  },
  {
   "cell_type": "code",
   "execution_count": 51,
   "metadata": {},
   "outputs": [
    {
     "data": {
      "image/png": "[encoded data removed]",
      "text/plain": [
       "<Figure size 1440x288 with 20 Axes>"
      ]
     },
     "metadata": {},
     "output_type": "display_data"
    }
   ],
   "source": [
    "n = 10  # how many digits we will display\n",
    "plt.figure(figsize=(20, 4))\n",
    "for i in range(n):\n",
    "    # display original\n",
    "    ax = plt.subplot(2, n, i + 1)\n",
    "    plt.imshow(vec_list[i, :200].reshape(20, 10))\n",
    "    plt.gray()\n",
    "    ax.get_xaxis().set_visible(False)\n",
    "    ax.get_yaxis().set_visible(False)\n",
    "\n",
    "    # display reconstruction\n",
    "    ax = plt.subplot(2, n, i + 1 + n)\n",
    "    plt.imshow(test_decoded_imgs[i, :200].reshape(20, 10))\n",
    "    plt.gray()\n",
    "    ax.get_xaxis().set_visible(False)\n",
    "    ax.get_yaxis().set_visible(False)\n",
    "plt.show()"
   ]
  },
  {
   "cell_type": "code",
   "execution_count": 52,
   "metadata": {},
   "outputs": [],
   "source": [
    "points = encoder.predict(np.array(vec_list))[2]"
   ]
  },
  {
   "cell_type": "code",
   "execution_count": 82,
   "metadata": {},
   "outputs": [],
   "source": [
    "from sklearn.manifold import TSNE\n",
    "tsne = TSNE(n_components=2).fit_transform(points)"
   ]
  },
  {
   "cell_type": "code",
   "execution_count": 83,
   "metadata": {},
   "outputs": [
    {
     "data": {
      "image/png": "[encoded data removed]",
      "text/plain": [
       "<Figure size 576x432 with 2 Axes>"
      ]
     },
     "metadata": {},
     "output_type": "display_data"
    }
   ],
   "source": [
    "plt.figure(figsize=(8, 6))\n",
    "plt.scatter(tsne[:, 0], tsne[:, 1], c=labels, cmap='jet')\n",
    "plt.colorbar()\n",
    "plt.show()"
   ]
  },
  {
   "cell_type": "code",
   "execution_count": 122,
   "metadata": {},
   "outputs": [
    {
     "name": "stdout",
     "output_type": "stream",
     "text": [
      "[-0.23759198 -0.602541   -0.7946218   0.03827273 -0.03928642 -0.09849337\n",
      "  0.40824294  0.7814076   0.25968134  0.4960207  -0.67223287  1.4895954\n",
      "  0.7519832   0.01561654  1.1306896  -0.9486553  -0.29654372  0.46457154\n",
      " -1.1475381  -0.46248454 -0.2839781   0.5077993  -0.89653    -0.7757096\n",
      "  0.54863465  0.64669615 -0.1670635  -0.57344645  0.6931591  -0.5355042\n",
      " -0.05315622 -0.04518405]\n",
      "[1.4998274  1.0140774  0.9160047  1.0285399  1.610918   1.0860342\n",
      " 1.6992648  1.2572731  1.1205882  0.72844803 1.2471511  1.005415\n",
      " 1.0271875  1.8344139  1.0762831  0.7090244  1.5439787  0.8576847\n",
      " 1.0488368  1.2067201  1.3205566  1.1511307  1.3687989  0.8915071\n",
      " 1.4892838  0.9764743  1.0285589  1.4421742  0.94243836 1.0367337\n",
      " 1.4879575  1.0563554 ]\n",
      "1.3676807\n"
     ]
    }
   ],
   "source": [
    "N_DIM = len(points.shape)\n",
    "test_mean = np.mean(points, axis=0)\n",
    "print test_mean\n",
    "sigma = np.std(points)\n",
    "std_axis = np.std(points, axis=0)\n",
    "print std_axis\n",
    "print sigma"
   ]
  },
  {
   "cell_type": "code",
   "execution_count": 124,
   "metadata": {},
   "outputs": [],
   "source": [
    "nu = 0.1"
   ]
  },
  {
   "cell_type": "code",
   "execution_count": 125,
   "metadata": {},
   "outputs": [],
   "source": [
    "t = (np.ones(std_axis.shape) * nu) / std_axis\n",
    "# dis_var = np.matmul(t.transpose(), cov)"
   ]
  },
  {
   "cell_type": "code",
   "execution_count": 126,
   "metadata": {},
   "outputs": [
    {
     "name": "stdout",
     "output_type": "stream",
     "text": [
      "[[0.06667434 0.         0.         ... 0.         0.         0.        ]\n",
      " [0.         0.0986118  0.         ... 0.         0.         0.        ]\n",
      " [0.         0.         0.10916974 ... 0.         0.         0.        ]\n",
      " ...\n",
      " [0.         0.         0.         ... 0.09645678 0.         0.        ]\n",
      " [0.         0.         0.         ... 0.         0.06720622 0.        ]\n",
      " [0.         0.         0.         ... 0.         0.         0.09466511]]\n"
     ]
    }
   ],
   "source": [
    "dis_var = np.diag(t)\n",
    "print dis_var"
   ]
  },
  {
   "cell_type": "code",
   "execution_count": 128,
   "metadata": {},
   "outputs": [],
   "source": [
    "cov = np.cov(points.transpose())"
   ]
  },
  {
   "cell_type": "code",
   "execution_count": 129,
   "metadata": {},
   "outputs": [
    {
     "data": {
      "text/plain": [
       "array([[ 2.27988052,  0.14650851,  0.20527899, ..., -0.68239207,\n",
       "         0.77343707, -0.80048859],\n",
       "       [ 0.14650851,  1.04225006, -0.56325659, ..., -0.59763585,\n",
       "        -0.20985815,  0.07191377],\n",
       "       [ 0.20527899, -0.56325659,  0.85040325, ...,  0.21670423,\n",
       "        -0.04528916,  0.12538596],\n",
       "       ...,\n",
       "       [-0.68239207, -0.59763585,  0.21670423, ...,  1.08934145,\n",
       "        -0.16530628,  0.34398435],\n",
       "       [ 0.77343707, -0.20985815, -0.04528916, ..., -0.16530628,\n",
       "         2.24393692, -0.58146036],\n",
       "       [-0.80048859,  0.07191377,  0.12538596, ...,  0.34398435,\n",
       "        -0.58146036,  1.13096616]])"
      ]
     },
     "execution_count": 129,
     "metadata": {},
     "output_type": "execute_result"
    }
   ],
   "source": [
    "cov"
   ]
  },
  {
   "cell_type": "code",
   "execution_count": 130,
   "metadata": {},
   "outputs": [
    {
     "name": "stdout",
     "output_type": "stream",
     "text": [
      "time elapsed: 3.403013 s\n"
     ]
    }
   ],
   "source": [
    "start = time()\n",
    "\n",
    "LR_arr = []\n",
    "LR_idx = []\n",
    "\n",
    "dist_matrix = np.zeros((points.shape[0], points.shape[0]))\n",
    "adj_matrix = np.zeros((points.shape[0], points.shape[0]))\n",
    "\n",
    "for i in np.arange(points.shape[0]):\n",
    "    for j in np.arange(i + 1, points.shape[0]):\n",
    "        midpoint = 0.5 * (points[i] + points[j])\n",
    "        \n",
    "#         m = euclidean(midpoint, test_mean)\n",
    "#         d = euclidean(0.5* (points[i] - points[j]), np.zeros(midpoint.shape))\n",
    "        \n",
    "#         m_prime = m / sigma\n",
    "#         d_prime = d / sigma\n",
    "#         t = nu / sigma\n",
    "        \n",
    "#         LR = np.power(0.5/t, N_DIM)* np.exp(0.5*(np.power(m_prime,2)+ np.power(d_prime,2)*(2- np.power(t,-2))))\n",
    "#         LR_arr.append(LR)\n",
    "#         dist_matrix[i, j] = LR\n",
    "        \n",
    "        dis = 0.5* (points[i] - points[j])\n",
    "        pdf_mid = multi_norm.pdf(midpoint, mean=mean, cov=cov, allow_singular=True)\n",
    "        pdf_dis = multi_norm.pdf(dis, mean=np.zeros(dis.shape), cov=dis_var, allow_singular=True)\n",
    "        pdf_x_i = multi_norm.pdf(points[i], mean=mean, cov=cov, allow_singular=True)\n",
    "        pdf_x_j = multi_norm.pdf(points[j], mean=mean, cov=cov, allow_singular=True)\n",
    "        LR = pdf_mid * pdf_dis / (pdf_x_i*pdf_x_j)\n",
    "        LR_arr.append(LR)\n",
    "        dist_matrix[i, j] = LR\n",
    "        \n",
    "        if (i, j) in GT_POS_PAIRS:\n",
    "            LR_idx.append(True)\n",
    "            adj_matrix[i, j] = 1\n",
    "        else:\n",
    "            LR_idx.append(False)\n",
    "            adj_matrix[i, j] = 0\n",
    "            \n",
    "print 'time elapsed: %f s' % (time() - start)\n",
    "\n",
    "LR_arr = np.array(LR_arr)\n",
    "LR_idx = np.array(LR_idx)"
   ]
  },
  {
   "cell_type": "code",
   "execution_count": 131,
   "metadata": {},
   "outputs": [
    {
     "data": {
      "image/png": "[encoded data removed]",
      "text/plain": [
       "<Figure size 432x288 with 1 Axes>"
      ]
     },
     "metadata": {},
     "output_type": "display_data"
    }
   ],
   "source": [
    "bins = np.linspace(LR_arr.min(), LR_arr.max(), 100)\n",
    "\n",
    "plt.hist(LR_arr[LR_idx], bins, alpha=0.5, label='pos')\n",
    "plt.hist(LR_arr[LR_idx == False], bins, alpha=0.5, label='neg')\n",
    "plt.legend(loc='upper right')\n",
    "plt.show()"
   ]
  },
  {
   "cell_type": "code",
   "execution_count": 132,
   "metadata": {},
   "outputs": [
    {
     "name": "stdout",
     "output_type": "stream",
     "text": [
      "0.6817328519855597\n"
     ]
    }
   ],
   "source": [
    "print roc_auc_score(y_true=LR_idx, y_score=LR_arr)"
   ]
  },
  {
   "cell_type": "code",
   "execution_count": 75,
   "metadata": {},
   "outputs": [
    {
     "name": "stdout",
     "output_type": "stream",
     "text": [
      "[[0.00000000e+000 4.93595301e+002 0.00000000e+000 ... 5.81601355e-172\n",
      "  4.17656960e-163 1.69624878e-308]\n",
      " [4.93595301e+002 0.00000000e+000 0.00000000e+000 ... 4.57121213e-161\n",
      "  1.66047308e-152 3.24742988e-295]\n",
      " [0.00000000e+000 0.00000000e+000 0.00000000e+000 ... 1.55352044e-082\n",
      "  5.11304976e-088 2.02158273e-019]\n",
      " ...\n",
      " [5.81601355e-172 4.57121213e-161 1.55352044e-082 ... 0.00000000e+000\n",
      "  2.14621988e+002 4.97468585e-020]\n",
      " [4.17656960e-163 1.66047308e-152 5.11304976e-088 ... 2.14621988e+002\n",
      "  0.00000000e+000 4.41784349e-023]\n",
      " [1.69624878e-308 3.24742988e-295 2.02158273e-019 ... 4.97468585e-020\n",
      "  4.41784349e-023 0.00000000e+000]]\n"
     ]
    }
   ],
   "source": [
    "dist_matrix = dist_matrix + dist_matrix.transpose()\n",
    "print dist_matrix"
   ]
  },
  {
   "cell_type": "code",
   "execution_count": 77,
   "metadata": {},
   "outputs": [
    {
     "name": "stdout",
     "output_type": "stream",
     "text": [
      "[[0. 1. 0. ... 0. 0. 0.]\n",
      " [1. 0. 0. ... 0. 0. 0.]\n",
      " [0. 0. 0. ... 0. 0. 0.]\n",
      " ...\n",
      " [0. 0. 0. ... 0. 0. 0.]\n",
      " [0. 0. 0. ... 0. 0. 0.]\n",
      " [0. 0. 0. ... 0. 0. 0.]]\n"
     ]
    }
   ],
   "source": [
    "adj_matrix = adj_matrix + adj_matrix.transpose()\n",
    "print adj_matrix"
   ]
  },
  {
   "cell_type": "code",
   "execution_count": 93,
   "metadata": {},
   "outputs": [
    {
     "name": "stdout",
     "output_type": "stream",
     "text": [
      "rank 1: 0.700000\n",
      "rank 5: 1.000000\n"
     ]
    }
   ],
   "source": [
    "rank = [1,5]\n",
    "\n",
    "for r in rank:\n",
    "    hit = 0\n",
    "    tot = 0.0\n",
    "    \n",
    "    for i in np.where(adj_matrix == 1)[0]:\n",
    "        idx = np.argsort(dist_matrix[i])[::-1]\n",
    "        if 1 in adj_matrix[i, idx][:r]:\n",
    "            hit += 1\n",
    "        tot += 1\n",
    "    \n",
    "    print 'rank %d: %f' % (r, hit / tot)"
   ]
  },
  {
   "cell_type": "code",
   "execution_count": 89,
   "metadata": {},
   "outputs": [
    {
     "name": "stdout",
     "output_type": "stream",
     "text": [
      "mAP: 0.816667\n"
     ]
    }
   ],
   "source": [
    "AP_list = []\n",
    "for i in np.where(adj_matrix == 1)[0]:\n",
    "    ap = average_precision_score(y_true=adj_matrix[i], y_score=dist_matrix[i])\n",
    "    AP_list.append(ap)\n",
    "print 'mAP: %f' % (np.mean(AP_list))"
   ]
  },
  {
   "cell_type": "code",
   "execution_count": null,
   "metadata": {},
   "outputs": [],
   "source": []
  }
 ],
 "metadata": {
  "kernelspec": {
   "display_name": "Python 2",
   "language": "python",
   "name": "python2"
  },
  "language_info": {
   "codemirror_mode": {
    "name": "ipython",
    "version": 2
   },
   "file_extension": ".py",
   "mimetype": "text/x-python",
   "name": "python",
   "nbconvert_exporter": "python",
   "pygments_lexer": "ipython2",
   "version": "2.7.15"
  }
 },
 "nbformat": 4,
 "nbformat_minor": 2
}
