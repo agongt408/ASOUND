{
 "cells": [
  {
   "cell_type": "code",
   "execution_count": 1,
   "metadata": {},
   "outputs": [
    {
     "name": "stderr",
     "output_type": "stream",
     "text": [
      "/Users/tradergllc/anaconda2/lib/python2.7/site-packages/h5py/__init__.py:36: FutureWarning: Conversion of the second argument of issubdtype from `float` to `np.floating` is deprecated. In future, it will be treated as `np.float64 == np.dtype(float).type`.\n",
      "  from ._conv import register_converters as _register_converters\n",
      "Using TensorFlow backend.\n"
     ]
    }
   ],
   "source": [
    "from keras.layers import Lambda, Input, Dense\n",
    "from keras.models import Model\n",
    "# from keras.datasets import mnist\n",
    "from keras.losses import binary_crossentropy, categorical_crossentropy\n",
    "from keras import backend as K\n",
    "from keras.optimizers import Adam\n",
    "\n",
    "import numpy as np\n",
    "import matplotlib.pyplot as plt\n",
    "import pandas as pd\n",
    "from sklearn.metrics import roc_auc_score\n",
    "from time import time\n",
    "from scipy.spatial.distance import euclidean\n",
    "from sklearn.metrics import average_precision_score\n",
    "from scipy.stats import multivariate_normal as multi_norm"
   ]
  },
  {
   "cell_type": "markdown",
   "metadata": {},
   "source": [
    "### Prepare Reality Mining Data"
   ]
  },
  {
   "cell_type": "code",
   "execution_count": 2,
   "metadata": {},
   "outputs": [],
   "source": [
    "# Apps By Week\n",
    "df = pd.read_csv('/Users/tradergllc/rsi/datasets/proc/reality-mining/txt/interim/appsByWeek-clean.txt', \n",
    "                 sep=', ', header=None, engine='python', dtype=str, names=['id', 'date', 'app', 'freq'])"
   ]
  },
  {
   "cell_type": "code",
   "execution_count": 3,
   "metadata": {},
   "outputs": [
    {
     "data": {
      "text/plain": [
       "(206,)"
      ]
     },
     "execution_count": 3,
     "metadata": {},
     "output_type": "execute_result"
    }
   ],
   "source": [
    "df['app'].unique().shape"
   ]
  },
  {
   "cell_type": "code",
   "execution_count": 4,
   "metadata": {},
   "outputs": [],
   "source": [
    "# Clean app names\n",
    "# for r in range(len(df.index)):\n",
    "#     if df.iloc[r, 2].find(':') > -1:\n",
    "#         print df.iloc[r]\n",
    "#         df.iloc[r, 2] = 'Phone'"
   ]
  },
  {
   "cell_type": "code",
   "execution_count": 5,
   "metadata": {},
   "outputs": [],
   "source": [
    "def convert_to_dict(df):\n",
    "    data_dict = {}\n",
    "    \n",
    "    unique = list(df.iloc[:, 2].unique())\n",
    "    \n",
    "    date_list = [df.iloc[0, 1]]\n",
    "    pid_date_list = [(df.iloc[0,0], df.iloc[0, 1])]\n",
    "    \n",
    "    data_dict[int(df.iloc[0,0])] = {}\n",
    "    data_dict[int(df.iloc[0,0])][df.iloc[0, 1]] = np.zeros((len(unique),))\n",
    "    data_dict[int(df.iloc[0,0])][df.iloc[0, 1]][unique.index(df.iloc[0, 2])] = 1\n",
    "        \n",
    "    for r in range(1, len(df.index)):\n",
    "        pid = int(df.iloc[r, 0])\n",
    "        if pid not in data_dict.keys():\n",
    "            data_dict[pid] = {}        \n",
    "        \n",
    "        if (df.iloc[r, 0], df.iloc[r, 1]) in pid_date_list:\n",
    "            data_dict[pid][df.iloc[r, 1]][unique.index(df.iloc[r, 2])] = 1 #df.iloc[r, 3]\n",
    "        else:\n",
    "            date_list.append(df.iloc[r, 1])\n",
    "            pid_date_list.append((df.iloc[r, 0], df.iloc[r, 1]))\n",
    "            \n",
    "            data_dict[pid][df.iloc[r, 1]] = np.zeros((len(unique),))\n",
    "            data_dict[pid][df.iloc[r, 1]][unique.index(df.iloc[r, 2])] = 1\n",
    "                        \n",
    "    return data_dict, unique"
   ]
  },
  {
   "cell_type": "code",
   "execution_count": 6,
   "metadata": {},
   "outputs": [],
   "source": [
    "data_dict, unique = convert_to_dict(df)"
   ]
  },
  {
   "cell_type": "code",
   "execution_count": 7,
   "metadata": {},
   "outputs": [],
   "source": [
    "def dict_to_np_array(d):\n",
    "    vector_list = []\n",
    "    gt_pid = []\n",
    "    for pid in d.keys():\n",
    "        for date in d[pid].keys():\n",
    "#             print pid, date\n",
    "            vector_list.append(d[pid][date])\n",
    "            gt_pid.append(d.keys().index(pid))\n",
    "    return np.stack(vector_list), np.array(gt_pid)"
   ]
  },
  {
   "cell_type": "code",
   "execution_count": 8,
   "metadata": {},
   "outputs": [
    {
     "name": "stdout",
     "output_type": "stream",
     "text": [
      "(1911, 206) (1911,)\n"
     ]
    }
   ],
   "source": [
    "x_train_full, y_train = dict_to_np_array(data_dict)\n",
    "print x_train_full.shape, y_train.shape"
   ]
  },
  {
   "cell_type": "code",
   "execution_count": 9,
   "metadata": {},
   "outputs": [
    {
     "data": {
      "text/plain": [
       "array([ 0,  0,  0, ..., 87, 87, 87])"
      ]
     },
     "execution_count": 9,
     "metadata": {},
     "output_type": "execute_result"
    }
   ],
   "source": [
    "y_train"
   ]
  },
  {
   "cell_type": "code",
   "execution_count": 10,
   "metadata": {},
   "outputs": [
    {
     "data": {
      "text/plain": [
       "(1911, 206)"
      ]
     },
     "execution_count": 10,
     "metadata": {},
     "output_type": "execute_result"
    }
   ],
   "source": [
    "x_train_full.shape"
   ]
  },
  {
   "cell_type": "code",
   "execution_count": 11,
   "metadata": {},
   "outputs": [],
   "source": [
    "x_train = x_train_full.copy()\n",
    "# for i in np.where(x_train_full.sum(axis=0) > 1)[0][::-1]:\n",
    "# x_train = np.delete(x_train_full, np.where(x_train_full.sum(axis=0) == 1)[0], axis=1)\n",
    "# x_train = x_train_full[:, x_train_full.sum(axis=0).argsort()[::-1][:75*75]].reshape((-1, 75*75))"
   ]
  },
  {
   "cell_type": "code",
   "execution_count": 12,
   "metadata": {},
   "outputs": [
    {
     "name": "stdout",
     "output_type": "stream",
     "text": [
      "(1911, 206)\n"
     ]
    }
   ],
   "source": [
    "print x_train.shape"
   ]
  },
  {
   "cell_type": "code",
   "execution_count": 13,
   "metadata": {},
   "outputs": [
    {
     "data": {
      "image/png": "[encoded data removed]",
      "text/plain": [
       "<Figure size 432x288 with 1 Axes>"
      ]
     },
     "metadata": {},
     "output_type": "display_data"
    }
   ],
   "source": [
    "plt.hist(x_train.sum(axis=0), bins=100)\n",
    "plt.show()\n",
    "\n",
    "# n = 10  # how many digits we will display\n",
    "# choice = np.random.choice(range(len(x_train)), n, replace=False)\n",
    "# plt.figure(figsize=(20, 4))\n",
    "# for i in range(n):\n",
    "#     # display original\n",
    "#     ax = plt.subplot(1, n, i + 1)\n",
    "#     plt.imshow(x_train[choice[i], :200])\n",
    "#     plt.gray()\n",
    "#     ax.get_xaxis().set_visible(False)\n",
    "#     ax.get_yaxis().set_visible(False)\n",
    "# plt.show()"
   ]
  },
  {
   "cell_type": "markdown",
   "metadata": {},
   "source": [
    "### Train VAE"
   ]
  },
  {
   "cell_type": "code",
   "execution_count": 14,
   "metadata": {},
   "outputs": [],
   "source": [
    "def sampling(args):\n",
    "    \"\"\"Reparameterization trick by sampling fr an isotropic unit Gaussian.\n",
    "\n",
    "    # Arguments:\n",
    "        args (tensor): mean and log of variance of Q(z|X)\n",
    "\n",
    "    # Returns:\n",
    "        z (tensor): sampled latent vector\n",
    "    \"\"\"\n",
    "\n",
    "    z_mean, z_log_var = args\n",
    "    batch = K.shape(z_mean)[0]\n",
    "    dim = K.int_shape(z_mean)[1]\n",
    "    # by default, random_normal has mean=0 and std=1.0\n",
    "    epsilon = K.random_normal(shape=(batch, dim))\n",
    "    return z_mean + K.exp(0.5 * z_log_var) * epsilon"
   ]
  },
  {
   "cell_type": "code",
   "execution_count": 15,
   "metadata": {},
   "outputs": [],
   "source": [
    "original_dim = x_train.shape[-1]\n",
    "\n",
    "# network parameters\n",
    "input_shape = (original_dim, )\n",
    "intermediate_dim = 100\n",
    "# inter_dim_2 = 250\n",
    "latent_dim = 16\n",
    "\n",
    "batch_size = 128\n",
    "# epochs = 50"
   ]
  },
  {
   "cell_type": "code",
   "execution_count": 16,
   "metadata": {},
   "outputs": [
    {
     "name": "stdout",
     "output_type": "stream",
     "text": [
      "__________________________________________________________________________________________________\n",
      "Layer (type)                    Output Shape         Param #     Connected to                     \n",
      "==================================================================================================\n",
      "encoder_input (InputLayer)      (None, 206)          0                                            \n",
      "__________________________________________________________________________________________________\n",
      "dense_1 (Dense)                 (None, 100)          20700       encoder_input[0][0]              \n",
      "__________________________________________________________________________________________________\n",
      "z_mean (Dense)                  (None, 16)           1616        dense_1[0][0]                    \n",
      "__________________________________________________________________________________________________\n",
      "z_log_var (Dense)               (None, 16)           1616        dense_1[0][0]                    \n",
      "__________________________________________________________________________________________________\n",
      "z (Lambda)                      (None, 16)           0           z_mean[0][0]                     \n",
      "                                                                 z_log_var[0][0]                  \n",
      "==================================================================================================\n",
      "Total params: 23,932\n",
      "Trainable params: 23,932\n",
      "Non-trainable params: 0\n",
      "__________________________________________________________________________________________________\n"
     ]
    }
   ],
   "source": [
    "# VAE model = encoder + decoder\n",
    "# build encoder model\n",
    "\n",
    "dim = original_dim\n",
    "# layer_dims = [dim]\n",
    "\n",
    "inputs = Input(shape=(dim,), name='encoder_input')\n",
    "x = inputs\n",
    "# while dim // 5 > latent_dim:\n",
    "#     dim = dim // 5\n",
    "#     layer_dims.append(dim)\n",
    "#     x = Dense(dim, activation='relu')(x)\n",
    "x = Dense(intermediate_dim, activation='relu')(x)\n",
    "z_mean = Dense(latent_dim, name='z_mean')(x)\n",
    "z_log_var = Dense(latent_dim, name='z_log_var')(x)\n",
    "\n",
    "# use reparameterization trick to push the sampling out as input\n",
    "# note that \"output_shape\" isn't necessary with the TensorFlow backend\n",
    "z = Lambda(sampling, output_shape=(latent_dim,), name='z')([z_mean, z_log_var])\n",
    "\n",
    "# instantiate encoder model\n",
    "encoder = Model(inputs, [z_mean, z_log_var, z], name='encoder')\n",
    "encoder.summary()"
   ]
  },
  {
   "cell_type": "code",
   "execution_count": 17,
   "metadata": {},
   "outputs": [],
   "source": [
    "# layer_dims[1:][::-1]"
   ]
  },
  {
   "cell_type": "code",
   "execution_count": 19,
   "metadata": {},
   "outputs": [
    {
     "name": "stdout",
     "output_type": "stream",
     "text": [
      "_________________________________________________________________\n",
      "Layer (type)                 Output Shape              Param #   \n",
      "=================================================================\n",
      "z_sampling (InputLayer)      (None, 16)                0         \n",
      "_________________________________________________________________\n",
      "dense_4 (Dense)              (None, 100)               1700      \n",
      "_________________________________________________________________\n",
      "dense_5 (Dense)              (None, 206)               20806     \n",
      "=================================================================\n",
      "Total params: 22,506\n",
      "Trainable params: 22,506\n",
      "Non-trainable params: 0\n",
      "_________________________________________________________________\n"
     ]
    }
   ],
   "source": [
    "# build decoder model\n",
    "latent_inputs = Input(shape=(latent_dim,), name='z_sampling')\n",
    "x = latent_inputs\n",
    "\n",
    "# for dim in layer_dims[1:][::-1]:\n",
    "#     x = Dense(dim, activation='relu')(x)\n",
    "x = Dense(intermediate_dim, activation='relu')(x)\n",
    "outputs = Dense(original_dim, activation='sigmoid')(x)\n",
    "\n",
    "# instantiate decoder model\n",
    "decoder = Model(latent_inputs, outputs, name='decoder')\n",
    "decoder.summary()"
   ]
  },
  {
   "cell_type": "code",
   "execution_count": 20,
   "metadata": {},
   "outputs": [],
   "source": [
    "# instantiate VAE model\n",
    "outputs = decoder(encoder(inputs)[2])\n",
    "vae = Model(inputs, outputs, name='vae_mlp')"
   ]
  },
  {
   "cell_type": "code",
   "execution_count": 21,
   "metadata": {},
   "outputs": [
    {
     "name": "stdout",
     "output_type": "stream",
     "text": [
      "_________________________________________________________________\n",
      "Layer (type)                 Output Shape              Param #   \n",
      "=================================================================\n",
      "encoder_input (InputLayer)   (None, 206)               0         \n",
      "_________________________________________________________________\n",
      "encoder (Model)              [(None, 16), (None, 16),  23932     \n",
      "_________________________________________________________________\n",
      "decoder (Model)              (None, 206)               22506     \n",
      "=================================================================\n",
      "Total params: 46,438\n",
      "Trainable params: 46,438\n",
      "Non-trainable params: 0\n",
      "_________________________________________________________________\n"
     ]
    }
   ],
   "source": [
    "reconstruction_loss = categorical_crossentropy(inputs,outputs)\n",
    "reconstruction_loss *= original_dim\n",
    "kl_loss = 1 + z_log_var - K.square(z_mean) - K.exp(z_log_var)\n",
    "kl_loss = K.sum(kl_loss, axis=-1)\n",
    "kl_loss *= -0.5\n",
    "vae_loss = K.mean(reconstruction_loss + kl_loss)\n",
    "vae.add_loss(vae_loss)\n",
    "vae.compile(optimizer=Adam(lr=0.001, decay=1.0e-5))\n",
    "vae.summary()"
   ]
  },
  {
   "cell_type": "code",
   "execution_count": 22,
   "metadata": {
    "scrolled": true
   },
   "outputs": [
    {
     "name": "stdout",
     "output_type": "stream",
     "text": [
      "Epoch 1/1000\n",
      "1911/1911 [==============================] - 1s 311us/step - loss: 13417.4229\n",
      "Epoch 2/1000\n",
      "1911/1911 [==============================] - 0s 41us/step - loss: 11849.5822\n",
      "Epoch 3/1000\n",
      "1911/1911 [==============================] - 0s 40us/step - loss: 10011.6103\n",
      "Epoch 4/1000\n",
      "1911/1911 [==============================] - 0s 40us/step - loss: 9614.0908\n",
      "Epoch 5/1000\n",
      "1911/1911 [==============================] - 0s 41us/step - loss: 9384.5068\n",
      "Epoch 6/1000\n",
      "1911/1911 [==============================] - 0s 42us/step - loss: 9157.4058\n",
      "Epoch 7/1000\n",
      "1911/1911 [==============================] - 0s 42us/step - loss: 8986.4895\n",
      "Epoch 8/1000\n",
      "1911/1911 [==============================] - 0s 40us/step - loss: 8895.5490\n",
      "Epoch 9/1000\n",
      "1911/1911 [==============================] - 0s 44us/step - loss: 8810.2176\n",
      "Epoch 10/1000\n",
      "1911/1911 [==============================] - 0s 47us/step - loss: 8736.9306\n",
      "Epoch 11/1000\n",
      "1911/1911 [==============================] - 0s 53us/step - loss: 8658.2392\n",
      "Epoch 12/1000\n",
      "1911/1911 [==============================] - 0s 48us/step - loss: 8595.0143\n",
      "Epoch 13/1000\n",
      "1911/1911 [==============================] - 0s 43us/step - loss: 8509.8353\n",
      "Epoch 14/1000\n",
      "1911/1911 [==============================] - 0s 60us/step - loss: 8422.4709\n",
      "Epoch 15/1000\n",
      "1911/1911 [==============================] - 0s 59us/step - loss: 8342.0739\n",
      "Epoch 16/1000\n",
      "1911/1911 [==============================] - 0s 67us/step - loss: 8267.7812\n",
      "Epoch 17/1000\n",
      "1911/1911 [==============================] - 0s 76us/step - loss: 8197.1961\n",
      "Epoch 18/1000\n",
      "1911/1911 [==============================] - 0s 50us/step - loss: 8136.5787\n",
      "Epoch 19/1000\n",
      "1911/1911 [==============================] - 0s 80us/step - loss: 8086.4455\n",
      "Epoch 20/1000\n",
      "1911/1911 [==============================] - 0s 71us/step - loss: 8036.0514\n",
      "Epoch 21/1000\n",
      "1911/1911 [==============================] - 0s 63us/step - loss: 7986.0271\n",
      "Epoch 22/1000\n",
      "1911/1911 [==============================] - 0s 64us/step - loss: 7940.2553\n",
      "Epoch 23/1000\n",
      "1911/1911 [==============================] - 0s 48us/step - loss: 7896.7269\n",
      "Epoch 24/1000\n",
      "1911/1911 [==============================] - 0s 40us/step - loss: 7856.0976\n",
      "Epoch 25/1000\n",
      "1911/1911 [==============================] - 0s 44us/step - loss: 7819.5796\n",
      "Epoch 26/1000\n",
      "1911/1911 [==============================] - 0s 44us/step - loss: 7788.6841\n",
      "Epoch 27/1000\n",
      "1911/1911 [==============================] - 0s 46us/step - loss: 7755.3448\n",
      "Epoch 28/1000\n",
      "1911/1911 [==============================] - 0s 54us/step - loss: 7727.0410\n",
      "Epoch 29/1000\n",
      "1911/1911 [==============================] - 0s 73us/step - loss: 7700.0991\n",
      "Epoch 30/1000\n",
      "1911/1911 [==============================] - 0s 57us/step - loss: 7672.2367\n",
      "Epoch 31/1000\n",
      "1911/1911 [==============================] - 0s 49us/step - loss: 7646.5628\n",
      "Epoch 32/1000\n",
      "1911/1911 [==============================] - 0s 51us/step - loss: 7623.1976\n",
      "Epoch 33/1000\n",
      "1911/1911 [==============================] - 0s 50us/step - loss: 7597.9400\n",
      "Epoch 34/1000\n",
      "1911/1911 [==============================] - 0s 50us/step - loss: 7574.9443\n",
      "Epoch 35/1000\n",
      "1911/1911 [==============================] - 0s 45us/step - loss: 7552.5675\n",
      "Epoch 36/1000\n",
      "1911/1911 [==============================] - 0s 47us/step - loss: 7531.8457\n",
      "Epoch 37/1000\n",
      "1911/1911 [==============================] - 0s 43us/step - loss: 7511.8400\n",
      "Epoch 38/1000\n",
      "1911/1911 [==============================] - 0s 44us/step - loss: 7491.8598\n",
      "Epoch 39/1000\n",
      "1911/1911 [==============================] - 0s 45us/step - loss: 7473.5408\n",
      "Epoch 40/1000\n",
      "1911/1911 [==============================] - 0s 55us/step - loss: 7458.9679\n",
      "Epoch 41/1000\n",
      "1911/1911 [==============================] - 0s 53us/step - loss: 7441.6060\n",
      "Epoch 42/1000\n",
      "1911/1911 [==============================] - 0s 47us/step - loss: 7425.3689\n",
      "Epoch 43/1000\n",
      "1911/1911 [==============================] - 0s 43us/step - loss: 7410.6808\n",
      "Epoch 44/1000\n",
      "1911/1911 [==============================] - 0s 43us/step - loss: 7397.3834\n",
      "Epoch 45/1000\n",
      "1911/1911 [==============================] - 0s 51us/step - loss: 7384.0853\n",
      "Epoch 46/1000\n",
      "1911/1911 [==============================] - 0s 58us/step - loss: 7372.7319\n",
      "Epoch 47/1000\n",
      "1911/1911 [==============================] - 0s 53us/step - loss: 7360.1803\n",
      "Epoch 48/1000\n",
      "1911/1911 [==============================] - 0s 57us/step - loss: 7349.0808\n",
      "Epoch 49/1000\n",
      "1911/1911 [==============================] - 0s 54us/step - loss: 7338.6233\n",
      "Epoch 50/1000\n",
      "1911/1911 [==============================] - 0s 54us/step - loss: 7328.7113\n",
      "Epoch 51/1000\n",
      "1911/1911 [==============================] - 0s 54us/step - loss: 7318.1566\n",
      "Epoch 52/1000\n",
      "1911/1911 [==============================] - 0s 47us/step - loss: 7307.2147\n",
      "Epoch 53/1000\n",
      "1911/1911 [==============================] - 0s 60us/step - loss: 7297.7724\n",
      "Epoch 54/1000\n",
      "1911/1911 [==============================] - 0s 56us/step - loss: 7290.1566\n",
      "Epoch 55/1000\n",
      "1911/1911 [==============================] - 0s 56us/step - loss: 7280.9643\n",
      "Epoch 56/1000\n",
      "1911/1911 [==============================] - 0s 69us/step - loss: 7275.3549\n",
      "Epoch 57/1000\n",
      "1911/1911 [==============================] - 0s 58us/step - loss: 7266.4378\n",
      "Epoch 58/1000\n",
      "1911/1911 [==============================] - 0s 49us/step - loss: 7258.7474\n",
      "Epoch 59/1000\n",
      "1911/1911 [==============================] - 0s 58us/step - loss: 7250.9975\n",
      "Epoch 60/1000\n",
      "1911/1911 [==============================] - 0s 55us/step - loss: 7243.9737\n",
      "Epoch 61/1000\n",
      "1911/1911 [==============================] - 0s 53us/step - loss: 7237.8701\n",
      "Epoch 62/1000\n",
      "1911/1911 [==============================] - 0s 49us/step - loss: 7232.1110\n",
      "Epoch 63/1000\n",
      "1911/1911 [==============================] - 0s 48us/step - loss: 7226.8807\n",
      "Epoch 64/1000\n",
      "1911/1911 [==============================] - 0s 53us/step - loss: 7220.1172\n",
      "Epoch 65/1000\n",
      "1911/1911 [==============================] - 0s 52us/step - loss: 7213.4734\n",
      "Epoch 66/1000\n",
      "1911/1911 [==============================] - 0s 50us/step - loss: 7209.6362\n",
      "Epoch 67/1000\n",
      "1911/1911 [==============================] - 0s 45us/step - loss: 7204.6065\n",
      "Epoch 68/1000\n",
      "1911/1911 [==============================] - 0s 46us/step - loss: 7198.3265\n",
      "Epoch 69/1000\n",
      "1911/1911 [==============================] - 0s 44us/step - loss: 7193.8994\n",
      "Epoch 70/1000\n",
      "1911/1911 [==============================] - 0s 43us/step - loss: 7189.1103\n",
      "Epoch 71/1000\n",
      "1911/1911 [==============================] - 0s 45us/step - loss: 7184.9980\n",
      "Epoch 72/1000\n",
      "1911/1911 [==============================] - 0s 45us/step - loss: 7179.5656\n",
      "Epoch 73/1000\n",
      "1911/1911 [==============================] - 0s 45us/step - loss: 7176.2891\n",
      "Epoch 74/1000\n",
      "1911/1911 [==============================] - 0s 45us/step - loss: 7171.3275\n",
      "Epoch 75/1000\n",
      "1911/1911 [==============================] - 0s 52us/step - loss: 7166.6697\n",
      "Epoch 76/1000\n",
      "1911/1911 [==============================] - 0s 56us/step - loss: 7162.8471\n",
      "Epoch 77/1000\n",
      "1911/1911 [==============================] - 0s 43us/step - loss: 7159.2915\n",
      "Epoch 78/1000\n",
      "1911/1911 [==============================] - 0s 51us/step - loss: 7155.1658\n",
      "Epoch 79/1000\n",
      "1911/1911 [==============================] - 0s 49us/step - loss: 7152.3898\n",
      "Epoch 80/1000\n",
      "1911/1911 [==============================] - 0s 54us/step - loss: 7148.3434\n",
      "Epoch 81/1000\n",
      "1911/1911 [==============================] - 0s 48us/step - loss: 7145.6126\n",
      "Epoch 82/1000\n",
      "1911/1911 [==============================] - 0s 45us/step - loss: 7142.1464\n",
      "Epoch 83/1000\n",
      "1911/1911 [==============================] - 0s 51us/step - loss: 7137.4594\n",
      "Epoch 84/1000\n",
      "1911/1911 [==============================] - 0s 47us/step - loss: 7135.8303\n",
      "Epoch 85/1000\n",
      "1152/1911 [=================>............] - ETA: 0s - loss: 7109.1781"
     ]
    },
    {
     "ename": "KeyboardInterrupt",
     "evalue": "",
     "output_type": "error",
     "traceback": [
      "\u001b[0;31m---------------------------------------------------------------------------\u001b[0m",
      "\u001b[0;31mKeyboardInterrupt\u001b[0m                         Traceback (most recent call last)",
      "\u001b[0;32m<ipython-input-22-318e9c4fd4ec>\u001b[0m in \u001b[0;36m<module>\u001b[0;34m()\u001b[0m\n\u001b[0;32m----> 1\u001b[0;31m \u001b[0mvae\u001b[0m\u001b[0;34m.\u001b[0m\u001b[0mfit\u001b[0m\u001b[0;34m(\u001b[0m\u001b[0mx_train\u001b[0m\u001b[0;34m,\u001b[0m \u001b[0mepochs\u001b[0m\u001b[0;34m=\u001b[0m\u001b[0;36m1000\u001b[0m\u001b[0;34m,\u001b[0m \u001b[0mbatch_size\u001b[0m\u001b[0;34m=\u001b[0m\u001b[0mbatch_size\u001b[0m\u001b[0;34m)\u001b[0m\u001b[0;34m\u001b[0m\u001b[0m\n\u001b[0m",
      "\u001b[0;32m/Users/tradergllc/anaconda2/lib/python2.7/site-packages/keras/engine/training.pyc\u001b[0m in \u001b[0;36mfit\u001b[0;34m(self, x, y, batch_size, epochs, verbose, callbacks, validation_split, validation_data, shuffle, class_weight, sample_weight, initial_epoch, steps_per_epoch, validation_steps, **kwargs)\u001b[0m\n\u001b[1;32m   1040\u001b[0m                                         \u001b[0minitial_epoch\u001b[0m\u001b[0;34m=\u001b[0m\u001b[0minitial_epoch\u001b[0m\u001b[0;34m,\u001b[0m\u001b[0;34m\u001b[0m\u001b[0m\n\u001b[1;32m   1041\u001b[0m                                         \u001b[0msteps_per_epoch\u001b[0m\u001b[0;34m=\u001b[0m\u001b[0msteps_per_epoch\u001b[0m\u001b[0;34m,\u001b[0m\u001b[0;34m\u001b[0m\u001b[0m\n\u001b[0;32m-> 1042\u001b[0;31m                                         validation_steps=validation_steps)\n\u001b[0m\u001b[1;32m   1043\u001b[0m \u001b[0;34m\u001b[0m\u001b[0m\n\u001b[1;32m   1044\u001b[0m     def evaluate(self, x=None, y=None,\n",
      "\u001b[0;32m/Users/tradergllc/anaconda2/lib/python2.7/site-packages/keras/engine/training_arrays.pyc\u001b[0m in \u001b[0;36mfit_loop\u001b[0;34m(model, f, ins, out_labels, batch_size, epochs, verbose, callbacks, val_f, val_ins, shuffle, callback_metrics, initial_epoch, steps_per_epoch, validation_steps)\u001b[0m\n\u001b[1;32m    203\u001b[0m                     \u001b[0mbatch_logs\u001b[0m\u001b[0;34m[\u001b[0m\u001b[0ml\u001b[0m\u001b[0;34m]\u001b[0m \u001b[0;34m=\u001b[0m \u001b[0mo\u001b[0m\u001b[0;34m\u001b[0m\u001b[0m\n\u001b[1;32m    204\u001b[0m \u001b[0;34m\u001b[0m\u001b[0m\n\u001b[0;32m--> 205\u001b[0;31m                 \u001b[0mcallbacks\u001b[0m\u001b[0;34m.\u001b[0m\u001b[0mon_batch_end\u001b[0m\u001b[0;34m(\u001b[0m\u001b[0mbatch_index\u001b[0m\u001b[0;34m,\u001b[0m \u001b[0mbatch_logs\u001b[0m\u001b[0;34m)\u001b[0m\u001b[0;34m\u001b[0m\u001b[0m\n\u001b[0m\u001b[1;32m    206\u001b[0m                 \u001b[0;32mif\u001b[0m \u001b[0mcallback_model\u001b[0m\u001b[0;34m.\u001b[0m\u001b[0mstop_training\u001b[0m\u001b[0;34m:\u001b[0m\u001b[0;34m\u001b[0m\u001b[0m\n\u001b[1;32m    207\u001b[0m                     \u001b[0;32mbreak\u001b[0m\u001b[0;34m\u001b[0m\u001b[0m\n",
      "\u001b[0;32m/Users/tradergllc/anaconda2/lib/python2.7/site-packages/keras/callbacks.pyc\u001b[0m in \u001b[0;36mon_batch_end\u001b[0;34m(self, batch, logs)\u001b[0m\n\u001b[1;32m    111\u001b[0m         \u001b[0mt_before_callbacks\u001b[0m \u001b[0;34m=\u001b[0m \u001b[0mtime\u001b[0m\u001b[0;34m.\u001b[0m\u001b[0mtime\u001b[0m\u001b[0;34m(\u001b[0m\u001b[0;34m)\u001b[0m\u001b[0;34m\u001b[0m\u001b[0m\n\u001b[1;32m    112\u001b[0m         \u001b[0;32mfor\u001b[0m \u001b[0mcallback\u001b[0m \u001b[0;32min\u001b[0m \u001b[0mself\u001b[0m\u001b[0;34m.\u001b[0m\u001b[0mcallbacks\u001b[0m\u001b[0;34m:\u001b[0m\u001b[0;34m\u001b[0m\u001b[0m\n\u001b[0;32m--> 113\u001b[0;31m             \u001b[0mcallback\u001b[0m\u001b[0;34m.\u001b[0m\u001b[0mon_batch_end\u001b[0m\u001b[0;34m(\u001b[0m\u001b[0mbatch\u001b[0m\u001b[0;34m,\u001b[0m \u001b[0mlogs\u001b[0m\u001b[0;34m)\u001b[0m\u001b[0;34m\u001b[0m\u001b[0m\n\u001b[0m\u001b[1;32m    114\u001b[0m         \u001b[0mself\u001b[0m\u001b[0;34m.\u001b[0m\u001b[0m_delta_ts_batch_end\u001b[0m\u001b[0;34m.\u001b[0m\u001b[0mappend\u001b[0m\u001b[0;34m(\u001b[0m\u001b[0mtime\u001b[0m\u001b[0;34m.\u001b[0m\u001b[0mtime\u001b[0m\u001b[0;34m(\u001b[0m\u001b[0;34m)\u001b[0m \u001b[0;34m-\u001b[0m \u001b[0mt_before_callbacks\u001b[0m\u001b[0;34m)\u001b[0m\u001b[0;34m\u001b[0m\u001b[0m\n\u001b[1;32m    115\u001b[0m         \u001b[0mdelta_t_median\u001b[0m \u001b[0;34m=\u001b[0m \u001b[0mnp\u001b[0m\u001b[0;34m.\u001b[0m\u001b[0mmedian\u001b[0m\u001b[0;34m(\u001b[0m\u001b[0mself\u001b[0m\u001b[0;34m.\u001b[0m\u001b[0m_delta_ts_batch_end\u001b[0m\u001b[0;34m)\u001b[0m\u001b[0;34m\u001b[0m\u001b[0m\n",
      "\u001b[0;32m/Users/tradergllc/anaconda2/lib/python2.7/site-packages/keras/callbacks.pyc\u001b[0m in \u001b[0;36mon_batch_end\u001b[0;34m(self, batch, logs)\u001b[0m\n\u001b[1;32m    326\u001b[0m         \u001b[0;31m# will be handled by on_epoch_end.\u001b[0m\u001b[0;34m\u001b[0m\u001b[0;34m\u001b[0m\u001b[0m\n\u001b[1;32m    327\u001b[0m         \u001b[0;32mif\u001b[0m \u001b[0mself\u001b[0m\u001b[0;34m.\u001b[0m\u001b[0mverbose\u001b[0m \u001b[0;32mand\u001b[0m \u001b[0mself\u001b[0m\u001b[0;34m.\u001b[0m\u001b[0mseen\u001b[0m \u001b[0;34m<\u001b[0m \u001b[0mself\u001b[0m\u001b[0;34m.\u001b[0m\u001b[0mtarget\u001b[0m\u001b[0;34m:\u001b[0m\u001b[0;34m\u001b[0m\u001b[0m\n\u001b[0;32m--> 328\u001b[0;31m             \u001b[0mself\u001b[0m\u001b[0;34m.\u001b[0m\u001b[0mprogbar\u001b[0m\u001b[0;34m.\u001b[0m\u001b[0mupdate\u001b[0m\u001b[0;34m(\u001b[0m\u001b[0mself\u001b[0m\u001b[0;34m.\u001b[0m\u001b[0mseen\u001b[0m\u001b[0;34m,\u001b[0m \u001b[0mself\u001b[0m\u001b[0;34m.\u001b[0m\u001b[0mlog_values\u001b[0m\u001b[0;34m)\u001b[0m\u001b[0;34m\u001b[0m\u001b[0m\n\u001b[0m\u001b[1;32m    329\u001b[0m \u001b[0;34m\u001b[0m\u001b[0m\n\u001b[1;32m    330\u001b[0m     \u001b[0;32mdef\u001b[0m \u001b[0mon_epoch_end\u001b[0m\u001b[0;34m(\u001b[0m\u001b[0mself\u001b[0m\u001b[0;34m,\u001b[0m \u001b[0mepoch\u001b[0m\u001b[0;34m,\u001b[0m \u001b[0mlogs\u001b[0m\u001b[0;34m=\u001b[0m\u001b[0mNone\u001b[0m\u001b[0;34m)\u001b[0m\u001b[0;34m:\u001b[0m\u001b[0;34m\u001b[0m\u001b[0m\n",
      "\u001b[0;32m/Users/tradergllc/anaconda2/lib/python2.7/site-packages/keras/utils/generic_utils.pyc\u001b[0m in \u001b[0;36mupdate\u001b[0;34m(self, current, values)\u001b[0m\n\u001b[1;32m    422\u001b[0m \u001b[0;34m\u001b[0m\u001b[0m\n\u001b[1;32m    423\u001b[0m             \u001b[0msys\u001b[0m\u001b[0;34m.\u001b[0m\u001b[0mstdout\u001b[0m\u001b[0;34m.\u001b[0m\u001b[0mwrite\u001b[0m\u001b[0;34m(\u001b[0m\u001b[0minfo\u001b[0m\u001b[0;34m)\u001b[0m\u001b[0;34m\u001b[0m\u001b[0m\n\u001b[0;32m--> 424\u001b[0;31m             \u001b[0msys\u001b[0m\u001b[0;34m.\u001b[0m\u001b[0mstdout\u001b[0m\u001b[0;34m.\u001b[0m\u001b[0mflush\u001b[0m\u001b[0;34m(\u001b[0m\u001b[0;34m)\u001b[0m\u001b[0;34m\u001b[0m\u001b[0m\n\u001b[0m\u001b[1;32m    425\u001b[0m \u001b[0;34m\u001b[0m\u001b[0m\n\u001b[1;32m    426\u001b[0m         \u001b[0;32melif\u001b[0m \u001b[0mself\u001b[0m\u001b[0;34m.\u001b[0m\u001b[0mverbose\u001b[0m \u001b[0;34m==\u001b[0m \u001b[0;36m2\u001b[0m\u001b[0;34m:\u001b[0m\u001b[0;34m\u001b[0m\u001b[0m\n",
      "\u001b[0;32m/Users/tradergllc/anaconda2/lib/python2.7/site-packages/ipykernel/iostream.pyc\u001b[0m in \u001b[0;36mflush\u001b[0;34m(self)\u001b[0m\n\u001b[1;32m    338\u001b[0m             \u001b[0;32mif\u001b[0m \u001b[0;32mnot\u001b[0m \u001b[0mimport_lock_held\u001b[0m\u001b[0;34m(\u001b[0m\u001b[0;34m)\u001b[0m\u001b[0;34m:\u001b[0m\u001b[0;34m\u001b[0m\u001b[0m\n\u001b[1;32m    339\u001b[0m                 \u001b[0mevt\u001b[0m \u001b[0;34m=\u001b[0m \u001b[0mthreading\u001b[0m\u001b[0;34m.\u001b[0m\u001b[0mEvent\u001b[0m\u001b[0;34m(\u001b[0m\u001b[0;34m)\u001b[0m\u001b[0;34m\u001b[0m\u001b[0m\n\u001b[0;32m--> 340\u001b[0;31m                 \u001b[0mself\u001b[0m\u001b[0;34m.\u001b[0m\u001b[0mpub_thread\u001b[0m\u001b[0;34m.\u001b[0m\u001b[0mschedule\u001b[0m\u001b[0;34m(\u001b[0m\u001b[0mevt\u001b[0m\u001b[0;34m.\u001b[0m\u001b[0mset\u001b[0m\u001b[0;34m)\u001b[0m\u001b[0;34m\u001b[0m\u001b[0m\n\u001b[0m\u001b[1;32m    341\u001b[0m                 \u001b[0;31m# and give a timeout to avoid\u001b[0m\u001b[0;34m\u001b[0m\u001b[0;34m\u001b[0m\u001b[0m\n\u001b[1;32m    342\u001b[0m                 \u001b[0;32mif\u001b[0m \u001b[0;32mnot\u001b[0m \u001b[0mevt\u001b[0m\u001b[0;34m.\u001b[0m\u001b[0mwait\u001b[0m\u001b[0;34m(\u001b[0m\u001b[0mself\u001b[0m\u001b[0;34m.\u001b[0m\u001b[0mflush_timeout\u001b[0m\u001b[0;34m)\u001b[0m\u001b[0;34m:\u001b[0m\u001b[0;34m\u001b[0m\u001b[0m\n",
      "\u001b[0;32m/Users/tradergllc/anaconda2/lib/python2.7/site-packages/ipykernel/iostream.pyc\u001b[0m in \u001b[0;36mschedule\u001b[0;34m(self, f)\u001b[0m\n\u001b[1;32m    201\u001b[0m             \u001b[0mself\u001b[0m\u001b[0;34m.\u001b[0m\u001b[0m_events\u001b[0m\u001b[0;34m.\u001b[0m\u001b[0mappend\u001b[0m\u001b[0;34m(\u001b[0m\u001b[0mf\u001b[0m\u001b[0;34m)\u001b[0m\u001b[0;34m\u001b[0m\u001b[0m\n\u001b[1;32m    202\u001b[0m             \u001b[0;31m# wake event thread (message content is ignored)\u001b[0m\u001b[0;34m\u001b[0m\u001b[0;34m\u001b[0m\u001b[0m\n\u001b[0;32m--> 203\u001b[0;31m             \u001b[0mself\u001b[0m\u001b[0;34m.\u001b[0m\u001b[0m_event_pipe\u001b[0m\u001b[0;34m.\u001b[0m\u001b[0msend\u001b[0m\u001b[0;34m(\u001b[0m\u001b[0;34mb''\u001b[0m\u001b[0;34m)\u001b[0m\u001b[0;34m\u001b[0m\u001b[0m\n\u001b[0m\u001b[1;32m    204\u001b[0m         \u001b[0;32melse\u001b[0m\u001b[0;34m:\u001b[0m\u001b[0;34m\u001b[0m\u001b[0m\n\u001b[1;32m    205\u001b[0m             \u001b[0mf\u001b[0m\u001b[0;34m(\u001b[0m\u001b[0;34m)\u001b[0m\u001b[0;34m\u001b[0m\u001b[0m\n",
      "\u001b[0;32m/Users/tradergllc/anaconda2/lib/python2.7/site-packages/zmq/sugar/socket.pyc\u001b[0m in \u001b[0;36msend\u001b[0;34m(self, data, flags, copy, track, routing_id, group)\u001b[0m\n\u001b[1;32m    389\u001b[0m                                  copy_threshold=self.copy_threshold)\n\u001b[1;32m    390\u001b[0m             \u001b[0mdata\u001b[0m\u001b[0;34m.\u001b[0m\u001b[0mgroup\u001b[0m \u001b[0;34m=\u001b[0m \u001b[0mgroup\u001b[0m\u001b[0;34m\u001b[0m\u001b[0m\n\u001b[0;32m--> 391\u001b[0;31m         \u001b[0;32mreturn\u001b[0m \u001b[0msuper\u001b[0m\u001b[0;34m(\u001b[0m\u001b[0mSocket\u001b[0m\u001b[0;34m,\u001b[0m \u001b[0mself\u001b[0m\u001b[0;34m)\u001b[0m\u001b[0;34m.\u001b[0m\u001b[0msend\u001b[0m\u001b[0;34m(\u001b[0m\u001b[0mdata\u001b[0m\u001b[0;34m,\u001b[0m \u001b[0mflags\u001b[0m\u001b[0;34m=\u001b[0m\u001b[0mflags\u001b[0m\u001b[0;34m,\u001b[0m \u001b[0mcopy\u001b[0m\u001b[0;34m=\u001b[0m\u001b[0mcopy\u001b[0m\u001b[0;34m,\u001b[0m \u001b[0mtrack\u001b[0m\u001b[0;34m=\u001b[0m\u001b[0mtrack\u001b[0m\u001b[0;34m)\u001b[0m\u001b[0;34m\u001b[0m\u001b[0m\n\u001b[0m\u001b[1;32m    392\u001b[0m \u001b[0;34m\u001b[0m\u001b[0m\n\u001b[1;32m    393\u001b[0m     \u001b[0;32mdef\u001b[0m \u001b[0msend_multipart\u001b[0m\u001b[0;34m(\u001b[0m\u001b[0mself\u001b[0m\u001b[0;34m,\u001b[0m \u001b[0mmsg_parts\u001b[0m\u001b[0;34m,\u001b[0m \u001b[0mflags\u001b[0m\u001b[0;34m=\u001b[0m\u001b[0;36m0\u001b[0m\u001b[0;34m,\u001b[0m \u001b[0mcopy\u001b[0m\u001b[0;34m=\u001b[0m\u001b[0mTrue\u001b[0m\u001b[0;34m,\u001b[0m \u001b[0mtrack\u001b[0m\u001b[0;34m=\u001b[0m\u001b[0mFalse\u001b[0m\u001b[0;34m,\u001b[0m \u001b[0;34m**\u001b[0m\u001b[0mkwargs\u001b[0m\u001b[0;34m)\u001b[0m\u001b[0;34m:\u001b[0m\u001b[0;34m\u001b[0m\u001b[0m\n",
      "\u001b[0;31mKeyboardInterrupt\u001b[0m: "
     ]
    }
   ],
   "source": [
    "vae.fit(x_train, epochs=1000, batch_size=batch_size)"
   ]
  },
  {
   "cell_type": "code",
   "execution_count": 25,
   "metadata": {},
   "outputs": [],
   "source": [
    "# np.save('encoder-bluetoothByWeek.npy', encoder.get_weights())\n",
    "# np.save('decoder-bluetoothByWeek.npy', decoder.get_weights())"
   ]
  },
  {
   "cell_type": "code",
   "execution_count": 24,
   "metadata": {},
   "outputs": [],
   "source": [
    "encoded_imgs = encoder.predict(x_train)\n",
    "decoded_imgs = decoder.predict(encoded_imgs[2])"
   ]
  },
  {
   "cell_type": "code",
   "execution_count": 25,
   "metadata": {},
   "outputs": [
    {
     "data": {
      "image/png": "[encoded data removed]",
      "text/plain": [
       "<Figure size 1440x288 with 20 Axes>"
      ]
     },
     "metadata": {},
     "output_type": "display_data"
    }
   ],
   "source": [
    "n = 10  # how many digits we will display\n",
    "choice = np.random.choice(range(len(x_train)), n, replace=False)\n",
    "plt.figure(figsize=(20, 4))\n",
    "for i in range(n):\n",
    "    # display original\n",
    "    ax = plt.subplot(2, n, i + 1)\n",
    "    plt.imshow(x_train[choice[i], :200].reshape(20, 10))\n",
    "    plt.gray()\n",
    "    ax.get_xaxis().set_visible(False)\n",
    "    ax.get_yaxis().set_visible(False)\n",
    "\n",
    "    # display reconstruction\n",
    "    ax = plt.subplot(2, n, i + 1 + n)\n",
    "    plt.imshow(decoded_imgs[choice[i], :200].reshape(20, 10))\n",
    "    plt.gray()\n",
    "    ax.get_xaxis().set_visible(False)\n",
    "    ax.get_yaxis().set_visible(False)\n",
    "plt.show()"
   ]
  },
  {
   "cell_type": "code",
   "execution_count": 26,
   "metadata": {},
   "outputs": [
    {
     "data": {
      "image/png": "[encoded data removed]",
      "text/plain": [
       "<Figure size 576x432 with 2 Axes>"
      ]
     },
     "metadata": {},
     "output_type": "display_data"
    }
   ],
   "source": [
    "x_test_encoded = encoder.predict(x_train, batch_size=batch_size)\n",
    "x_test_encoded = np.array(x_test_encoded)\n",
    "plt.figure(figsize=(8, 6))\n",
    "plt.scatter(x_test_encoded[2, :, 0], x_test_encoded[2, :, 1], c=y_train)\n",
    "plt.colorbar()\n",
    "plt.show()"
   ]
  },
  {
   "cell_type": "code",
   "execution_count": 27,
   "metadata": {},
   "outputs": [],
   "source": [
    "# pair_dist = []\n",
    "# pair_label = []\n",
    "# pair_score =[]\n",
    "\n",
    "# for i in np.arange(x_test_encoded[2].shape[0]):\n",
    "#     for j in range(i + 1, x_test_encoded[2].shape[0]):\n",
    "#         d = np.sqrt(np.power(x_test_encoded[2, i] - x_test_encoded[2, j], 2).sum())\n",
    "#         pair_dist.append(d)\n",
    "#         pair_score.append(1 / (d + 1.0e-5))\n",
    "        \n",
    "#         if y_train[i] == y_train[j]:\n",
    "#             pair_label.append(True)\n",
    "#         else:\n",
    "#             pair_label.append(False)\n",
    "\n",
    "# print roc_auc_score(y_true=pair_label, y_score=pair_score)"
   ]
  },
  {
   "cell_type": "code",
   "execution_count": 28,
   "metadata": {},
   "outputs": [],
   "source": [
    "# pair_dist = np.array(pair_dist)\n",
    "# pair_label = np.array(pair_label)\n",
    "\n",
    "# bins = np.linspace(pair_dist.min(), pair_dist.max(), 100)\n",
    "\n",
    "# plt.hist(pair_dist[pair_label], bins, alpha=0.5, label='pos')\n",
    "# plt.hist(pair_dist[pair_label == False], bins, alpha=0.5, label='neg')\n",
    "# plt.legend(loc='upper right')\n",
    "# plt.show()"
   ]
  },
  {
   "cell_type": "code",
   "execution_count": 29,
   "metadata": {},
   "outputs": [],
   "source": [
    "# pair_dist = []\n",
    "# pair_label = []\n",
    "\n",
    "# for i in np.arange(x_train.shape[0]):\n",
    "#     for j in range(i, x_train.shape[0]):\n",
    "#         d = np.sqrt(np.power(x_train[i] - x_train[j], 2).sum())\n",
    "#         pair_dist.append(d)\n",
    "        \n",
    "#         if y_train[i] == y_train[j]:\n",
    "#             pair_label.append(True)\n",
    "#         else:\n",
    "#             pair_label.append(False)\n",
    "    \n",
    "# print roc_auc_score(y_true=pair_label, y_score=pair_dist)"
   ]
  },
  {
   "cell_type": "code",
   "execution_count": 30,
   "metadata": {},
   "outputs": [
    {
     "name": "stdout",
     "output_type": "stream",
     "text": [
      "[ 0.7426416  -0.12773056 -0.7488425   0.8598446  -2.4607792  -2.763582\n",
      " -1.1414791   1.73216    -0.7590586  -2.440402    3.026728   -1.4912816\n",
      "  1.3388287  -2.0471094  -2.8044896   0.6316562   0.8574933  -2.407217\n",
      " -1.9545661   0.9868325   0.41743812  0.8381245   0.45762527  2.0526843\n",
      "  0.25224325 -0.46649727  1.1218117  -2.5883522   1.1843181  -1.9919894\n",
      " -2.92074     1.6957086 ]\n",
      "[4.2714825 3.987217  3.2220218 5.41015   4.1514015 3.2683067 4.5209947\n",
      " 4.165388  4.7300277 6.257205  3.6209657 3.917407  4.306157  5.1593437\n",
      " 3.353457  4.648568  3.3242998 3.6573524 3.8680396 4.1047897 5.1172414\n",
      " 5.1101017 4.8580275 3.5607738 5.4290156 3.928771  4.263306  3.4107301\n",
      " 4.146998  3.8737469 3.5313926 4.4847994]\n"
     ]
    }
   ],
   "source": [
    "mean = np.mean(x_test_encoded[0], axis=0)\n",
    "print mean\n",
    "\n",
    "std = np.std(x_test_encoded[0], axis=0)\n",
    "print std"
   ]
  },
  {
   "cell_type": "code",
   "execution_count": 31,
   "metadata": {},
   "outputs": [
    {
     "data": {
      "image/png": "[encoded data removed]",
      "text/plain": [
       "<Figure size 432x288 with 1 Axes>"
      ]
     },
     "metadata": {},
     "output_type": "display_data"
    }
   ],
   "source": [
    "for i in range(len(std)):\n",
    "    plt.hist(x_test_encoded[0, :, i], bins=100, alpha=0.5)\n",
    "\n",
    "# plt.axvline(mean[0], color='green', linestyle='dashed', linewidth=1)\n",
    "# plt.axvline(mean[1], color='red', linestyle='dashed', linewidth=1)\n",
    "\n",
    "plt.legend()\n",
    "plt.show()"
   ]
  },
  {
   "cell_type": "code",
   "execution_count": 32,
   "metadata": {},
   "outputs": [
    {
     "data": {
      "text/plain": [
       "(1841, 32)"
      ]
     },
     "execution_count": 32,
     "metadata": {},
     "output_type": "execute_result"
    }
   ],
   "source": [
    "x_test_encoded[0].shape"
   ]
  },
  {
   "cell_type": "code",
   "execution_count": 33,
   "metadata": {},
   "outputs": [
    {
     "name": "stdout",
     "output_type": "stream",
     "text": [
      "[[18.25547965  2.04565696 -1.98420301 ... -0.42435973 -6.94284737\n",
      "  -0.79531604]\n",
      " [ 2.04565696 15.90654113  2.43836737 ...  4.44951943 -0.81918029\n",
      "   2.685906  ]\n",
      " [-1.98420301  2.43836737 10.38705702 ...  1.88477016 -3.03801592\n",
      "  -1.53472493]\n",
      " ...\n",
      " [-0.42435973  4.44951943  1.88477016 ... 15.01405767  3.47677744\n",
      "   1.92920881]\n",
      " [-6.94284737 -0.81918029 -3.03801592 ...  3.47677744 12.47750825\n",
      "   4.4089432 ]\n",
      " [-0.79531604  2.685906   -1.53472493 ...  1.92920881  4.4089432\n",
      "  20.12437918]]\n"
     ]
    }
   ],
   "source": [
    "cov = np.cov(x_test_encoded[0].transpose())\n",
    "print cov"
   ]
  },
  {
   "cell_type": "code",
   "execution_count": 34,
   "metadata": {},
   "outputs": [
    {
     "data": {
      "text/plain": [
       "(32, 32)"
      ]
     },
     "execution_count": 34,
     "metadata": {},
     "output_type": "execute_result"
    }
   ],
   "source": [
    "cov.shape"
   ]
  },
  {
   "cell_type": "code",
   "execution_count": 35,
   "metadata": {},
   "outputs": [
    {
     "data": {
      "image/png": "[encoded data removed]",
      "text/plain": [
       "<Figure size 576x432 with 2 Axes>"
      ]
     },
     "metadata": {},
     "output_type": "display_data"
    }
   ],
   "source": [
    "fig = plt.figure(figsize=(8,6))\n",
    "ax = fig.add_subplot(111)\n",
    "cax = ax.matshow(cov, vmin=-1, vmax=1)\n",
    "fig.colorbar(cax)\n",
    "# ticks = np.arange(0,32,1)\n",
    "# ax.set_xticks(ticks)\n",
    "# ax.set_yticks(ticks)\n",
    "# ax.set_xticklabels(names)\n",
    "# ax.set_yticklabels(names)\n",
    "plt.show()"
   ]
  },
  {
   "cell_type": "markdown",
   "metadata": {},
   "source": [
    "### Apply Generative Probabilistic Model"
   ]
  },
  {
   "cell_type": "code",
   "execution_count": 36,
   "metadata": {},
   "outputs": [],
   "source": [
    "N_SINGLETONS = 65\n",
    "N_PAIRS = 5"
   ]
  },
  {
   "cell_type": "code",
   "execution_count": 37,
   "metadata": {},
   "outputs": [
    {
     "data": {
      "text/plain": [
       "array([ 0,  1,  2,  3,  4,  5,  6,  7,  8,  9, 10, 11, 12, 13, 14, 15, 16,\n",
       "       17, 18, 19, 20, 21, 22, 23, 24, 25, 26, 27, 28, 29, 30, 31, 32, 33,\n",
       "       34, 35, 36, 37, 38, 39, 40, 41, 42, 43, 44, 45, 46, 47, 48, 49, 50,\n",
       "       51, 52, 53, 54, 55, 56, 57, 58, 59, 60, 61, 62, 63, 64, 65, 66, 67,\n",
       "       68, 69, 70, 71, 72, 73, 74, 75, 76, 77, 78, 79, 80, 81, 82, 83, 84,\n",
       "       85, 86, 87])"
      ]
     },
     "execution_count": 37,
     "metadata": {},
     "output_type": "execute_result"
    }
   ],
   "source": [
    "np.unique(y_train)"
   ]
  },
  {
   "cell_type": "code",
   "execution_count": 38,
   "metadata": {},
   "outputs": [
    {
     "name": "stdout",
     "output_type": "stream",
     "text": [
      "[ 6 23 30 38 71 28 18 61 82  2  0 36 69  3 35 13 27 11 84 37 51 14 31 44\n",
      "  7 41 33 62 22 78 67 52  5 68 50 64 49 77 85 45 43 48 65 83 12  9 57 10\n",
      " 87 20 66 54 15 56 19 60 42  8 39 25 75 58 16 34 74]\n"
     ]
    }
   ],
   "source": [
    "singletons = np.random.choice(range(y_train.max() + 1), N_SINGLETONS, replace=False)\n",
    "# pairs = np.random.choice( )\n",
    "print singletons"
   ]
  },
  {
   "cell_type": "code",
   "execution_count": 39,
   "metadata": {},
   "outputs": [
    {
     "name": "stdout",
     "output_type": "stream",
     "text": [
      "[1, 4, 17, 21, 24, 26, 29, 32, 40, 46, 47, 53, 55, 59, 63, 70, 72, 73, 76, 79, 80, 81, 86]\n"
     ]
    }
   ],
   "source": [
    "remaining_idx = []\n",
    "for i in np.arange(y_train.max() + 1):\n",
    "    if i not in singletons:\n",
    "        remaining_idx.append(i)\n",
    "print remaining_idx"
   ]
  },
  {
   "cell_type": "code",
   "execution_count": 40,
   "metadata": {},
   "outputs": [
    {
     "name": "stdout",
     "output_type": "stream",
     "text": [
      "[17 47 70 73 32]\n"
     ]
    }
   ],
   "source": [
    "pairs = np.random.choice(remaining_idx, N_PAIRS, replace=False)\n",
    "print pairs"
   ]
  },
  {
   "cell_type": "code",
   "execution_count": 41,
   "metadata": {},
   "outputs": [],
   "source": [
    "vec_list = []\n",
    "labels = []\n",
    "GT_POS_PAIRS = []\n",
    "\n",
    "pid_list = data_dict.keys()\n",
    "\n",
    "for p in range(len(pairs)):\n",
    "    pid = pid_list[pairs[p]]\n",
    "#     print pid\n",
    "    w1, w2 = np.random.choice(data_dict[pid].keys(), 2)\n",
    "#     print w1, w2\n",
    "    app_vec1, app_vec2 = data_dict[pid][w1], data_dict[pid][w2]\n",
    "    \n",
    "    vec_list.append(app_vec1)\n",
    "    vec_list.append(app_vec2)\n",
    "    \n",
    "    labels.append(p + 1)\n",
    "    labels.append(p + 1)\n",
    "    GT_POS_PAIRS.append((2* p, 2* p + 1))\n",
    "\n",
    "for s in singletons:\n",
    "    pid = pid_list[s]\n",
    "    w = np.random.choice(data_dict[pid].keys(), 1)\n",
    "#     print pid\n",
    "#     print w\n",
    "    app_vec = data_dict[pid][w[0]]\n",
    "    vec_list.append(app_vec)\n",
    "    labels.append(0)"
   ]
  },
  {
   "cell_type": "code",
   "execution_count": 42,
   "metadata": {},
   "outputs": [],
   "source": [
    "vec_list = np.array(vec_list)\n",
    "vec_list = vec_list[:, x_train_full.sum(axis=0).argsort()[::-1][:75*75]].reshape((-1, 75*75))"
   ]
  },
  {
   "cell_type": "code",
   "execution_count": 43,
   "metadata": {},
   "outputs": [],
   "source": [
    "test_encoded_imgs = encoder.predict(vec_list)\n",
    "test_decoded_imgs = decoder.predict(test_encoded_imgs[2])"
   ]
  },
  {
   "cell_type": "code",
   "execution_count": 44,
   "metadata": {},
   "outputs": [
    {
     "data": {
      "image/png": "[encoded data removed]",
      "text/plain": [
       "<Figure size 1440x288 with 20 Axes>"
      ]
     },
     "metadata": {},
     "output_type": "display_data"
    }
   ],
   "source": [
    "n = 10  # how many digits we will display\n",
    "plt.figure(figsize=(20, 4))\n",
    "for i in range(n):\n",
    "    # display original\n",
    "    ax = plt.subplot(2, n, i + 1)\n",
    "    plt.imshow(vec_list[i, :200].reshape(20, 10))\n",
    "    plt.gray()\n",
    "    ax.get_xaxis().set_visible(False)\n",
    "    ax.get_yaxis().set_visible(False)\n",
    "\n",
    "    # display reconstruction\n",
    "    ax = plt.subplot(2, n, i + 1 + n)\n",
    "    plt.imshow(test_decoded_imgs[i, :200].reshape(20, 10))\n",
    "    plt.gray()\n",
    "    ax.get_xaxis().set_visible(False)\n",
    "    ax.get_yaxis().set_visible(False)\n",
    "plt.show()"
   ]
  },
  {
   "cell_type": "code",
   "execution_count": 45,
   "metadata": {},
   "outputs": [],
   "source": [
    "points = encoder.predict(np.array(vec_list))[2]"
   ]
  },
  {
   "cell_type": "code",
   "execution_count": 46,
   "metadata": {},
   "outputs": [],
   "source": [
    "from sklearn.manifold import TSNE\n",
    "tsne = TSNE(n_components=2).fit_transform(points)"
   ]
  },
  {
   "cell_type": "code",
   "execution_count": 47,
   "metadata": {},
   "outputs": [
    {
     "data": {
      "image/png": "[encoded data removed]",
      "text/plain": [
       "<Figure size 576x432 with 2 Axes>"
      ]
     },
     "metadata": {},
     "output_type": "display_data"
    }
   ],
   "source": [
    "plt.figure(figsize=(8, 6))\n",
    "plt.scatter(tsne[:, 0], tsne[:, 1], c=labels, cmap='jet')\n",
    "plt.colorbar()\n",
    "plt.show()"
   ]
  },
  {
   "cell_type": "code",
   "execution_count": 48,
   "metadata": {},
   "outputs": [
    {
     "name": "stdout",
     "output_type": "stream",
     "text": [
      "[ 0.4580857  -0.41482434 -1.0833981   1.2238616  -1.8519875  -2.5595756\n",
      " -0.6157807   0.94756794 -0.39861092 -2.2467752   4.2204814  -1.3019704\n",
      "  0.4713055  -1.9856502  -2.9191706   0.664683    1.0228459  -2.7473273\n",
      " -1.2496738   0.89999753 -0.3254343   1.747995    1.0389365   2.402427\n",
      "  0.46984777 -0.66478014  1.0841213  -3.0393615   0.6270559  -1.8659723\n",
      " -3.2782087   1.7412173 ]\n",
      "[3.9357858 4.58495   3.562998  5.361337  4.2629085 3.037452  4.05391\n",
      " 4.01333   5.1598964 6.1398883 3.3508668 3.7653077 4.579945  4.781282\n",
      " 2.6954732 4.295056  3.160163  3.7175326 3.5831645 4.3187613 5.631141\n",
      " 4.949461  4.8580074 3.4038556 4.956287  4.4422374 4.150476  2.9892702\n",
      " 3.9656749 3.4594142 3.2064264 4.8007584]\n",
      "4.590642\n"
     ]
    }
   ],
   "source": [
    "N_DIM = len(points.shape)\n",
    "test_mean = np.mean(points, axis=0)\n",
    "print test_mean\n",
    "sigma = np.std(points)\n",
    "std_axis = np.std(points, axis=0)\n",
    "print std_axis\n",
    "print sigma"
   ]
  },
  {
   "cell_type": "code",
   "execution_count": 49,
   "metadata": {},
   "outputs": [],
   "source": [
    "nu = 0.1"
   ]
  },
  {
   "cell_type": "code",
   "execution_count": 50,
   "metadata": {},
   "outputs": [],
   "source": [
    "t = (np.ones(std_axis.shape) * nu) / std_axis\n",
    "# dis_var = np.matmul(t.transpose(), cov)"
   ]
  },
  {
   "cell_type": "code",
   "execution_count": 51,
   "metadata": {},
   "outputs": [
    {
     "name": "stdout",
     "output_type": "stream",
     "text": [
      "[[0.02540789 0.         0.         ... 0.         0.         0.        ]\n",
      " [0.         0.02181049 0.         ... 0.         0.         0.        ]\n",
      " [0.         0.         0.02806625 ... 0.         0.         0.        ]\n",
      " ...\n",
      " [0.         0.         0.         ... 0.02890663 0.         0.        ]\n",
      " [0.         0.         0.         ... 0.         0.03118737 0.        ]\n",
      " [0.         0.         0.         ... 0.         0.         0.02083004]]\n"
     ]
    }
   ],
   "source": [
    "dis_var = np.diag(t)\n",
    "print dis_var"
   ]
  },
  {
   "cell_type": "code",
   "execution_count": 52,
   "metadata": {},
   "outputs": [],
   "source": [
    "cov = np.cov(points.transpose())"
   ]
  },
  {
   "cell_type": "code",
   "execution_count": 53,
   "metadata": {},
   "outputs": [
    {
     "data": {
      "text/plain": [
       "array([[15.69974068,  1.14773184, -1.19805002, ..., -1.05958873,\n",
       "        -4.26012667,  0.23450177],\n",
       "       [ 1.14773184, 21.30584553,  4.62510333, ...,  5.49235811,\n",
       "        -1.60083515,  0.79768208],\n",
       "       [-1.19805002,  4.62510333, 12.86651011, ...,  1.53097973,\n",
       "        -4.71090949, -1.9195766 ],\n",
       "       ...,\n",
       "       [-1.05958873,  5.49235811,  1.53097973, ..., 12.12926968,\n",
       "         3.04050284, -0.18231083],\n",
       "       [-4.26012667, -1.60083515, -4.71090949, ...,  3.04050284,\n",
       "        10.42010757,  4.82436661],\n",
       "       [ 0.23450177,  0.79768208, -1.9195766 , ..., -0.18231083,\n",
       "         4.82436661, 23.35872825]])"
      ]
     },
     "execution_count": 53,
     "metadata": {},
     "output_type": "execute_result"
    }
   ],
   "source": [
    "cov"
   ]
  },
  {
   "cell_type": "code",
   "execution_count": 54,
   "metadata": {},
   "outputs": [
    {
     "name": "stdout",
     "output_type": "stream",
     "text": [
      "time elapsed: 0.271895 s\n"
     ]
    }
   ],
   "source": [
    "start = time()\n",
    "\n",
    "LR_arr = []\n",
    "LR_idx = []\n",
    "\n",
    "dist_matrix = np.zeros((points.shape[0], points.shape[0]))\n",
    "adj_matrix = np.zeros((points.shape[0], points.shape[0]))\n",
    "\n",
    "for i in np.arange(points.shape[0]):\n",
    "    for j in np.arange(i + 1, points.shape[0]):\n",
    "        midpoint = 0.5 * (points[i] + points[j])\n",
    "        \n",
    "        m = euclidean(midpoint, test_mean)\n",
    "        d = euclidean(0.5* (points[i] - points[j]), np.zeros(midpoint.shape))\n",
    "        \n",
    "        m_prime = m / sigma\n",
    "        d_prime = d / sigma\n",
    "        t = nu / sigma\n",
    "        \n",
    "        LR = np.power(0.5/t, N_DIM)* np.exp(0.5*(np.power(m_prime,2)+ np.power(d_prime,2)*(2- np.power(t,-2))))\n",
    "        LR_arr.append(LR)\n",
    "        dist_matrix[i, j] = LR\n",
    "        \n",
    "#         dis = 0.5* (points[i] - points[j])\n",
    "#         pdf_mid = multi_norm.pdf(midpoint, mean=mean, cov=cov, allow_singular=True)\n",
    "#         pdf_dis = multi_norm.pdf(dis, mean=np.zeros(dis.shape), cov=dis_var, allow_singular=True)\n",
    "#         pdf_x_i = multi_norm.pdf(points[i], mean=mean, cov=cov, allow_singular=True)\n",
    "#         pdf_x_j = multi_norm.pdf(points[j], mean=mean, cov=cov, allow_singular=True)\n",
    "#         LR = pdf_mid * pdf_dis / (pdf_x_i*pdf_x_j)\n",
    "#         LR_arr.append(LR)\n",
    "#         dist_matrix[i, j] = LR\n",
    "        \n",
    "        if (i, j) in GT_POS_PAIRS:\n",
    "            LR_idx.append(True)\n",
    "            adj_matrix[i, j] = 1\n",
    "        else:\n",
    "            LR_idx.append(False)\n",
    "            adj_matrix[i, j] = 0\n",
    "            \n",
    "print 'time elapsed: %f s' % (time() - start)\n",
    "\n",
    "LR_arr = np.array(LR_arr)\n",
    "LR_idx = np.array(LR_idx)"
   ]
  },
  {
   "cell_type": "code",
   "execution_count": 55,
   "metadata": {},
   "outputs": [
    {
     "data": {
      "image/png": "[encoded data removed]",
      "text/plain": [
       "<Figure size 432x288 with 1 Axes>"
      ]
     },
     "metadata": {},
     "output_type": "display_data"
    }
   ],
   "source": [
    "bins = np.linspace(LR_arr.min(), LR_arr.max(), 100)\n",
    "\n",
    "plt.hist(LR_arr[LR_idx], bins, alpha=0.5, label='pos')\n",
    "plt.hist(LR_arr[LR_idx == False], bins, alpha=0.5, label='neg')\n",
    "plt.legend(loc='upper right')\n",
    "plt.show()"
   ]
  },
  {
   "cell_type": "code",
   "execution_count": 56,
   "metadata": {},
   "outputs": [
    {
     "name": "stdout",
     "output_type": "stream",
     "text": [
      "0.4994584837545126\n"
     ]
    }
   ],
   "source": [
    "print roc_auc_score(y_true=LR_idx, y_score=LR_arr)"
   ]
  },
  {
   "cell_type": "code",
   "execution_count": 75,
   "metadata": {},
   "outputs": [
    {
     "name": "stdout",
     "output_type": "stream",
     "text": [
      "[[0.00000000e+000 4.93595301e+002 0.00000000e+000 ... 5.81601355e-172\n",
      "  4.17656960e-163 1.69624878e-308]\n",
      " [4.93595301e+002 0.00000000e+000 0.00000000e+000 ... 4.57121213e-161\n",
      "  1.66047308e-152 3.24742988e-295]\n",
      " [0.00000000e+000 0.00000000e+000 0.00000000e+000 ... 1.55352044e-082\n",
      "  5.11304976e-088 2.02158273e-019]\n",
      " ...\n",
      " [5.81601355e-172 4.57121213e-161 1.55352044e-082 ... 0.00000000e+000\n",
      "  2.14621988e+002 4.97468585e-020]\n",
      " [4.17656960e-163 1.66047308e-152 5.11304976e-088 ... 2.14621988e+002\n",
      "  0.00000000e+000 4.41784349e-023]\n",
      " [1.69624878e-308 3.24742988e-295 2.02158273e-019 ... 4.97468585e-020\n",
      "  4.41784349e-023 0.00000000e+000]]\n"
     ]
    }
   ],
   "source": [
    "dist_matrix = dist_matrix + dist_matrix.transpose()\n",
    "print dist_matrix"
   ]
  },
  {
   "cell_type": "code",
   "execution_count": 77,
   "metadata": {},
   "outputs": [
    {
     "name": "stdout",
     "output_type": "stream",
     "text": [
      "[[0. 1. 0. ... 0. 0. 0.]\n",
      " [1. 0. 0. ... 0. 0. 0.]\n",
      " [0. 0. 0. ... 0. 0. 0.]\n",
      " ...\n",
      " [0. 0. 0. ... 0. 0. 0.]\n",
      " [0. 0. 0. ... 0. 0. 0.]\n",
      " [0. 0. 0. ... 0. 0. 0.]]\n"
     ]
    }
   ],
   "source": [
    "adj_matrix = adj_matrix + adj_matrix.transpose()\n",
    "print adj_matrix"
   ]
  },
  {
   "cell_type": "code",
   "execution_count": 93,
   "metadata": {},
   "outputs": [
    {
     "name": "stdout",
     "output_type": "stream",
     "text": [
      "rank 1: 0.700000\n",
      "rank 5: 1.000000\n"
     ]
    }
   ],
   "source": [
    "rank = [1,5]\n",
    "\n",
    "for r in rank:\n",
    "    hit = 0\n",
    "    tot = 0.0\n",
    "    \n",
    "    for i in np.where(adj_matrix == 1)[0]:\n",
    "        idx = np.argsort(dist_matrix[i])[::-1]\n",
    "        if 1 in adj_matrix[i, idx][:r]:\n",
    "            hit += 1\n",
    "        tot += 1\n",
    "    \n",
    "    print 'rank %d: %f' % (r, hit / tot)"
   ]
  },
  {
   "cell_type": "code",
   "execution_count": 89,
   "metadata": {},
   "outputs": [
    {
     "name": "stdout",
     "output_type": "stream",
     "text": [
      "mAP: 0.816667\n"
     ]
    }
   ],
   "source": [
    "AP_list = []\n",
    "for i in np.where(adj_matrix == 1)[0]:\n",
    "    ap = average_precision_score(y_true=adj_matrix[i], y_score=dist_matrix[i])\n",
    "    AP_list.append(ap)\n",
    "print 'mAP: %f' % (np.mean(AP_list))"
   ]
  },
  {
   "cell_type": "code",
   "execution_count": null,
   "metadata": {},
   "outputs": [],
   "source": []
  }
 ],
 "metadata": {
  "kernelspec": {
   "display_name": "Python 2",
   "language": "python",
   "name": "python2"
  },
  "language_info": {
   "codemirror_mode": {
    "name": "ipython",
    "version": 2
   },
   "file_extension": ".py",
   "mimetype": "text/x-python",
   "name": "python",
   "nbconvert_exporter": "python",
   "pygments_lexer": "ipython2",
   "version": "2.7.15"
  }
 },
 "nbformat": 4,
 "nbformat_minor": 2
}
