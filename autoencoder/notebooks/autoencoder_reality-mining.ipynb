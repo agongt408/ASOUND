{
 "cells": [
  {
   "cell_type": "code",
   "execution_count": 1,
   "metadata": {},
   "outputs": [
    {
     "name": "stderr",
     "output_type": "stream",
     "text": [
      "/Users/tradergllc/anaconda2/lib/python2.7/site-packages/h5py/__init__.py:36: FutureWarning: Conversion of the second argument of issubdtype from `float` to `np.floating` is deprecated. In future, it will be treated as `np.float64 == np.dtype(float).type`.\n",
      "  from ._conv import register_converters as _register_converters\n",
      "Using TensorFlow backend.\n"
     ]
    }
   ],
   "source": [
    "import numpy as np\n",
    "import pandas as pd\n",
    "import matplotlib.pyplot as plt\n",
    "%matplotlib inline\n",
    "\n",
    "from keras.layers import Input, Dense\n",
    "from keras.models import Model\n",
    "from sklearn.metrics import roc_auc_score"
   ]
  },
  {
   "cell_type": "code",
   "execution_count": 2,
   "metadata": {},
   "outputs": [],
   "source": [
    "df = pd.read_csv('../datasets/proc/reality-mining/txt/interim/appsByWeek.txt', \n",
    "                 sep=', ', header=None, engine='python', dtype=str, \n",
    "                 names=['id', 'date', 'app', 'freq'])"
   ]
  },
  {
   "cell_type": "code",
   "execution_count": 3,
   "metadata": {},
   "outputs": [
    {
     "name": "stdout",
     "output_type": "stream",
     "text": [
      "id                                                   11\n",
      "date                                            2004.44\n",
      "app     Phone20041027T235032area,cell,nw:5119,40791,TMO\n",
      "freq                                                  1\n",
      "Name: 2684, dtype: object\n",
      "id                                           67\n",
      "date                                    2004.41\n",
      "app     Phone??20041009T021013UserActivity:idle\n",
      "freq                                          1\n",
      "Name: 15101, dtype: object\n"
     ]
    }
   ],
   "source": [
    "for r in range(len(df.index)):\n",
    "    if df.iloc[r, 2].find(':') > -1:\n",
    "        print df.iloc[r]\n",
    "        df.iloc[r, 2] = 'Phone'"
   ]
  },
  {
   "cell_type": "code",
   "execution_count": 4,
   "metadata": {},
   "outputs": [
    {
     "data": {
      "text/plain": [
       "(200,)"
      ]
     },
     "execution_count": 4,
     "metadata": {},
     "output_type": "execute_result"
    }
   ],
   "source": [
    "df['app'].unique().shape"
   ]
  },
  {
   "cell_type": "code",
   "execution_count": 5,
   "metadata": {},
   "outputs": [],
   "source": [
    "def convert_to_dict(df, col='app'):\n",
    "    data_dict = {}\n",
    "    \n",
    "    unique = list(df[col].unique())\n",
    "    \n",
    "    pid = int(df.iloc[0,0])\n",
    "    date = df.iloc[0, 1]\n",
    "    data_dict[pid] = {}\n",
    "    data_dict[pid][date] = np.zeros((len(unique),))\n",
    "    \n",
    "    for r in range(1, len(df.index)):\n",
    "        if int(df.iloc[r, 0]) != pid:\n",
    "            pid = int(df.iloc[r, 0])\n",
    "            data_dict[pid] = {}\n",
    "            date = None\n",
    "        \n",
    "        if df.iloc[r, 1] == date:\n",
    "            data_dict[pid][date][unique.index(df.iloc[r, 2])] = df.iloc[r, 3]\n",
    "        else:\n",
    "            date = df.iloc[r, 1]\n",
    "            data_dict[pid][date] = np.zeros((len(unique),))\n",
    "            data_dict[pid][date][unique.index(df.iloc[r, 2])] = int(df.iloc[r, 3])\n",
    "#             print pid, date\n",
    "    return data_dict, unique"
   ]
  },
  {
   "cell_type": "code",
   "execution_count": 6,
   "metadata": {},
   "outputs": [],
   "source": [
    "data_dict, unique = convert_to_dict(df)"
   ]
  },
  {
   "cell_type": "code",
   "execution_count": 7,
   "metadata": {},
   "outputs": [],
   "source": [
    "def dict_to_np_array(d):\n",
    "    vector_list = []\n",
    "    gt_pid = []\n",
    "    for pid in d.keys():\n",
    "        for date in d[pid].keys():\n",
    "            vector_list.append(d[pid][date])\n",
    "            gt_pid.append(d.keys().index(pid))\n",
    "    return np.stack(vector_list), np.array(gt_pid)"
   ]
  },
  {
   "cell_type": "code",
   "execution_count": 8,
   "metadata": {},
   "outputs": [
    {
     "name": "stdout",
     "output_type": "stream",
     "text": [
      "(1911, 200)\n"
     ]
    }
   ],
   "source": [
    "data, y_train = dict_to_np_array(data_dict)\n",
    "print data.shape"
   ]
  },
  {
   "cell_type": "code",
   "execution_count": 9,
   "metadata": {},
   "outputs": [
    {
     "data": {
      "text/plain": [
       "array([[17.,  7.,  0., ...,  0.,  0.,  0.],\n",
       "       [ 0.,  6.,  0., ...,  0.,  0.,  0.],\n",
       "       [12.,  6.,  1., ...,  0.,  0.,  0.],\n",
       "       ...,\n",
       "       [14.,  7.,  0., ...,  0.,  0.,  0.],\n",
       "       [ 9.,  2.,  0., ...,  0.,  0.,  0.],\n",
       "       [ 7.,  2.,  0., ...,  0.,  0.,  0.]])"
      ]
     },
     "execution_count": 9,
     "metadata": {},
     "output_type": "execute_result"
    }
   ],
   "source": [
    "data[:10]"
   ]
  },
  {
   "cell_type": "code",
   "execution_count": 10,
   "metadata": {},
   "outputs": [],
   "source": [
    "data_norm = data / data.max(axis=1)[:, None]"
   ]
  },
  {
   "cell_type": "code",
   "execution_count": 11,
   "metadata": {},
   "outputs": [],
   "source": [
    "# this is the size of our encoded representations\n",
    "encoding_dim = 32\n",
    "input_dim = 200\n",
    "\n",
    "# this is our input placeholder\n",
    "input_img = Input(shape=(input_dim,))\n",
    "x = Dense(encoding_dim, activation='relu')(input_img)\n",
    "x = Dense(encoding_dim, activation='relu')(x)\n",
    "encoder = Model(input_img, x, name='encoder')\n",
    "\n",
    "encoded_ip = Input(shape=(encoding_dim,))\n",
    "y = Dense(encoding_dim, activation='relu')(encoded_ip)\n",
    "y = Dense(input_dim, activation='sigmoid')(y)\n",
    "decoder = Model(encoded_ip, y, name='decoder')\n",
    "\n",
    "# this model maps an input to its reconstruction\n",
    "autoencoder = Model(input_img, decoder(encoder(input_img)))"
   ]
  },
  {
   "cell_type": "code",
   "execution_count": 12,
   "metadata": {},
   "outputs": [],
   "source": [
    "autoencoder.compile(optimizer='adadelta', loss='categorical_crossentropy')"
   ]
  },
  {
   "cell_type": "code",
   "execution_count": 13,
   "metadata": {},
   "outputs": [
    {
     "name": "stdout",
     "output_type": "stream",
     "text": [
      "_________________________________________________________________\n",
      "Layer (type)                 Output Shape              Param #   \n",
      "=================================================================\n",
      "input_1 (InputLayer)         (None, 200)               0         \n",
      "_________________________________________________________________\n",
      "encoder (Model)              (None, 32)                7488      \n",
      "_________________________________________________________________\n",
      "decoder (Model)              (None, 200)               7656      \n",
      "=================================================================\n",
      "Total params: 15,144\n",
      "Trainable params: 15,144\n",
      "Non-trainable params: 0\n",
      "_________________________________________________________________\n"
     ]
    }
   ],
   "source": [
    "autoencoder.summary()"
   ]
  },
  {
   "cell_type": "code",
   "execution_count": 14,
   "metadata": {
    "scrolled": true
   },
   "outputs": [
    {
     "name": "stdout",
     "output_type": "stream",
     "text": [
      "Epoch 1/100\n",
      "1911/1911 [==============================] - 0s 174us/step - loss: 11.9393\n",
      "Epoch 2/100\n",
      "1911/1911 [==============================] - 0s 25us/step - loss: 11.8172\n",
      "Epoch 3/100\n",
      "1911/1911 [==============================] - 0s 25us/step - loss: 11.2625\n",
      "Epoch 4/100\n",
      "1911/1911 [==============================] - 0s 25us/step - loss: 9.1678\n",
      "Epoch 5/100\n",
      "1911/1911 [==============================] - 0s 25us/step - loss: 5.6976\n",
      "Epoch 6/100\n",
      "1911/1911 [==============================] - 0s 29us/step - loss: 5.4693\n",
      "Epoch 7/100\n",
      "1911/1911 [==============================] - 0s 23us/step - loss: 5.4285\n",
      "Epoch 8/100\n",
      "1911/1911 [==============================] - 0s 23us/step - loss: 5.3524\n",
      "Epoch 9/100\n",
      "1911/1911 [==============================] - 0s 27us/step - loss: 5.3531\n",
      "Epoch 10/100\n",
      "1911/1911 [==============================] - 0s 24us/step - loss: 5.3542\n",
      "Epoch 11/100\n",
      "1911/1911 [==============================] - 0s 28us/step - loss: 5.3406\n",
      "Epoch 12/100\n",
      "1911/1911 [==============================] - 0s 24us/step - loss: 5.3422\n",
      "Epoch 13/100\n",
      "1911/1911 [==============================] - 0s 29us/step - loss: 5.3408\n",
      "Epoch 14/100\n",
      "1911/1911 [==============================] - 0s 25us/step - loss: 5.3433\n",
      "Epoch 15/100\n",
      "1911/1911 [==============================] - 0s 22us/step - loss: 5.3325\n",
      "Epoch 16/100\n",
      "1911/1911 [==============================] - 0s 30us/step - loss: 5.3207\n",
      "Epoch 17/100\n",
      "1911/1911 [==============================] - 0s 26us/step - loss: 5.3214\n",
      "Epoch 18/100\n",
      "1911/1911 [==============================] - 0s 26us/step - loss: 5.3144\n",
      "Epoch 19/100\n",
      "1911/1911 [==============================] - 0s 25us/step - loss: 5.3170\n",
      "Epoch 20/100\n",
      "1911/1911 [==============================] - 0s 25us/step - loss: 5.3076\n",
      "Epoch 21/100\n",
      "1911/1911 [==============================] - 0s 25us/step - loss: 5.3097\n",
      "Epoch 22/100\n",
      "1911/1911 [==============================] - 0s 31us/step - loss: 5.3082\n",
      "Epoch 23/100\n",
      "1911/1911 [==============================] - 0s 23us/step - loss: 5.3001\n",
      "Epoch 24/100\n",
      "1911/1911 [==============================] - 0s 22us/step - loss: 5.2545\n",
      "Epoch 25/100\n",
      "1911/1911 [==============================] - 0s 26us/step - loss: 5.2320\n",
      "Epoch 26/100\n",
      "1911/1911 [==============================] - 0s 30us/step - loss: 5.1966\n",
      "Epoch 27/100\n",
      "1911/1911 [==============================] - 0s 24us/step - loss: 5.1591\n",
      "Epoch 28/100\n",
      "1911/1911 [==============================] - 0s 23us/step - loss: 5.1240\n",
      "Epoch 29/100\n",
      "1911/1911 [==============================] - 0s 23us/step - loss: 5.1287\n",
      "Epoch 30/100\n",
      "1911/1911 [==============================] - 0s 30us/step - loss: 5.1265\n",
      "Epoch 31/100\n",
      "1911/1911 [==============================] - 0s 25us/step - loss: 5.1145\n",
      "Epoch 32/100\n",
      "1911/1911 [==============================] - 0s 23us/step - loss: 5.1042\n",
      "Epoch 33/100\n",
      "1911/1911 [==============================] - 0s 28us/step - loss: 5.0961\n",
      "Epoch 34/100\n",
      "1911/1911 [==============================] - 0s 25us/step - loss: 5.0973\n",
      "Epoch 35/100\n",
      "1911/1911 [==============================] - 0s 28us/step - loss: 5.0920\n",
      "Epoch 36/100\n",
      "1911/1911 [==============================] - 0s 25us/step - loss: 5.0724\n",
      "Epoch 37/100\n",
      "1911/1911 [==============================] - 0s 55us/step - loss: 5.0015\n",
      "Epoch 38/100\n",
      "1911/1911 [==============================] - 0s 62us/step - loss: 4.9225\n",
      "Epoch 39/100\n",
      "1911/1911 [==============================] - 0s 60us/step - loss: 4.8976\n",
      "Epoch 40/100\n",
      "1911/1911 [==============================] - 0s 43us/step - loss: 4.8884\n",
      "Epoch 41/100\n",
      "1911/1911 [==============================] - 0s 26us/step - loss: 4.8619\n",
      "Epoch 42/100\n",
      "1911/1911 [==============================] - 0s 26us/step - loss: 4.8463\n",
      "Epoch 43/100\n",
      "1911/1911 [==============================] - 0s 27us/step - loss: 4.8465\n",
      "Epoch 44/100\n",
      "1911/1911 [==============================] - 0s 30us/step - loss: 4.8268\n",
      "Epoch 45/100\n",
      "1911/1911 [==============================] - 0s 29us/step - loss: 4.8107\n",
      "Epoch 46/100\n",
      "1911/1911 [==============================] - 0s 31us/step - loss: 4.7951\n",
      "Epoch 47/100\n",
      "1911/1911 [==============================] - 0s 30us/step - loss: 4.8098\n",
      "Epoch 48/100\n",
      "1911/1911 [==============================] - 0s 27us/step - loss: 4.7922\n",
      "Epoch 49/100\n",
      "1911/1911 [==============================] - 0s 30us/step - loss: 4.7696\n",
      "Epoch 50/100\n",
      "1911/1911 [==============================] - 0s 62us/step - loss: 4.7749\n",
      "Epoch 51/100\n",
      "1911/1911 [==============================] - 0s 56us/step - loss: 4.7635\n",
      "Epoch 52/100\n",
      "1911/1911 [==============================] - 0s 46us/step - loss: 4.7613\n",
      "Epoch 53/100\n",
      "1911/1911 [==============================] - 0s 36us/step - loss: 4.7557\n",
      "Epoch 54/100\n",
      "1911/1911 [==============================] - 0s 34us/step - loss: 4.7439\n",
      "Epoch 55/100\n",
      "1911/1911 [==============================] - 0s 39us/step - loss: 4.7154\n",
      "Epoch 56/100\n",
      "1911/1911 [==============================] - 0s 34us/step - loss: 4.7202\n",
      "Epoch 57/100\n",
      "1911/1911 [==============================] - 0s 38us/step - loss: 4.7115\n",
      "Epoch 58/100\n",
      "1911/1911 [==============================] - 0s 38us/step - loss: 4.7006\n",
      "Epoch 59/100\n",
      "1911/1911 [==============================] - 0s 34us/step - loss: 4.6990\n",
      "Epoch 60/100\n",
      "1911/1911 [==============================] - 0s 34us/step - loss: 4.6922\n",
      "Epoch 61/100\n",
      "1911/1911 [==============================] - 0s 38us/step - loss: 4.6887\n",
      "Epoch 62/100\n",
      "1911/1911 [==============================] - 0s 35us/step - loss: 4.6800\n",
      "Epoch 63/100\n",
      "1911/1911 [==============================] - 0s 27us/step - loss: 4.6611\n",
      "Epoch 64/100\n",
      "1911/1911 [==============================] - 0s 24us/step - loss: 4.6670\n",
      "Epoch 65/100\n",
      "1911/1911 [==============================] - 0s 21us/step - loss: 4.6791\n",
      "Epoch 66/100\n",
      "1911/1911 [==============================] - 0s 23us/step - loss: 4.6582\n",
      "Epoch 67/100\n",
      "1911/1911 [==============================] - 0s 26us/step - loss: 4.6533\n",
      "Epoch 68/100\n",
      "1911/1911 [==============================] - 0s 25us/step - loss: 4.6494\n",
      "Epoch 69/100\n",
      "1911/1911 [==============================] - 0s 25us/step - loss: 4.6400\n",
      "Epoch 70/100\n",
      "1911/1911 [==============================] - 0s 26us/step - loss: 4.5040\n",
      "Epoch 71/100\n",
      "1911/1911 [==============================] - 0s 27us/step - loss: 4.5103\n",
      "Epoch 72/100\n",
      "1911/1911 [==============================] - 0s 20us/step - loss: 4.4657\n",
      "Epoch 73/100\n",
      "1911/1911 [==============================] - 0s 23us/step - loss: 4.4290\n",
      "Epoch 74/100\n",
      "1911/1911 [==============================] - 0s 24us/step - loss: 4.4474\n",
      "Epoch 75/100\n",
      "1911/1911 [==============================] - 0s 24us/step - loss: 4.3797\n",
      "Epoch 76/100\n",
      "1911/1911 [==============================] - 0s 23us/step - loss: 4.4041\n",
      "Epoch 77/100\n",
      "1911/1911 [==============================] - 0s 22us/step - loss: 4.3751\n",
      "Epoch 78/100\n",
      "1911/1911 [==============================] - 0s 21us/step - loss: 4.3710\n",
      "Epoch 79/100\n",
      "1911/1911 [==============================] - 0s 22us/step - loss: 4.3640\n",
      "Epoch 80/100\n",
      "1911/1911 [==============================] - 0s 20us/step - loss: 4.3520\n",
      "Epoch 81/100\n",
      "1911/1911 [==============================] - 0s 22us/step - loss: 4.3591\n",
      "Epoch 82/100\n",
      "1911/1911 [==============================] - 0s 22us/step - loss: 4.3463\n",
      "Epoch 83/100\n",
      "1911/1911 [==============================] - 0s 21us/step - loss: 4.3410\n",
      "Epoch 84/100\n",
      "1911/1911 [==============================] - 0s 22us/step - loss: 4.3395\n",
      "Epoch 85/100\n",
      "1911/1911 [==============================] - 0s 22us/step - loss: 4.3220\n",
      "Epoch 86/100\n",
      "1911/1911 [==============================] - 0s 20us/step - loss: 4.3360\n",
      "Epoch 87/100\n",
      "1911/1911 [==============================] - 0s 23us/step - loss: 4.3211\n",
      "Epoch 88/100\n",
      "1911/1911 [==============================] - 0s 20us/step - loss: 4.3026\n",
      "Epoch 89/100\n",
      "1911/1911 [==============================] - 0s 22us/step - loss: 4.2908\n",
      "Epoch 90/100\n",
      "1911/1911 [==============================] - 0s 20us/step - loss: 4.2979\n",
      "Epoch 91/100\n",
      "1911/1911 [==============================] - 0s 21us/step - loss: 4.2900\n",
      "Epoch 92/100\n",
      "1911/1911 [==============================] - 0s 21us/step - loss: 4.2856\n",
      "Epoch 93/100\n",
      "1911/1911 [==============================] - 0s 21us/step - loss: 4.2748\n",
      "Epoch 94/100\n",
      "1911/1911 [==============================] - 0s 22us/step - loss: 4.2656\n",
      "Epoch 95/100\n",
      "1911/1911 [==============================] - 0s 21us/step - loss: 4.2556\n",
      "Epoch 96/100\n"
     ]
    },
    {
     "name": "stdout",
     "output_type": "stream",
     "text": [
      "1911/1911 [==============================] - 0s 23us/step - loss: 4.2713\n",
      "Epoch 97/100\n",
      "1911/1911 [==============================] - 0s 21us/step - loss: 4.2650\n",
      "Epoch 98/100\n",
      "1911/1911 [==============================] - 0s 23us/step - loss: 4.2611\n",
      "Epoch 99/100\n",
      "1911/1911 [==============================] - 0s 21us/step - loss: 4.2565\n",
      "Epoch 100/100\n",
      "1911/1911 [==============================] - 0s 20us/step - loss: 4.2487\n"
     ]
    },
    {
     "data": {
      "text/plain": [
       "<keras.callbacks.History at 0x1a2805ec50>"
      ]
     },
     "execution_count": 14,
     "metadata": {},
     "output_type": "execute_result"
    }
   ],
   "source": [
    "autoencoder.fit(data_norm, data_norm,\n",
    "                epochs=100,\n",
    "                batch_size=256,\n",
    "                shuffle=True)"
   ]
  },
  {
   "cell_type": "code",
   "execution_count": 15,
   "metadata": {},
   "outputs": [],
   "source": [
    "# encode and decode some digits\n",
    "# note that we take them from the *test* set\n",
    "encoded_imgs = encoder.predict(data_norm)\n",
    "decoded_imgs = decoder.predict(encoded_imgs)"
   ]
  },
  {
   "cell_type": "code",
   "execution_count": 16,
   "metadata": {},
   "outputs": [
    {
     "data": {
      "image/png": "[encoded data removed]",
      "text/plain": [
       "<Figure size 1440x288 with 20 Axes>"
      ]
     },
     "metadata": {},
     "output_type": "display_data"
    }
   ],
   "source": [
    "# use Matplotlib (don't ask)\n",
    "import matplotlib.pyplot as plt\n",
    "\n",
    "n = 10  # how many digits we will display\n",
    "plt.figure(figsize=(20, 4))\n",
    "for i in range(n):\n",
    "    # display original\n",
    "    ax = plt.subplot(2, n, i + 1)\n",
    "    plt.imshow(data_norm[i].reshape(20, 10))\n",
    "    plt.gray()\n",
    "    ax.get_xaxis().set_visible(False)\n",
    "    ax.get_yaxis().set_visible(False)\n",
    "\n",
    "    # display reconstruction\n",
    "    ax = plt.subplot(2, n, i + 1 + n)\n",
    "    plt.imshow(decoded_imgs[i].reshape(20, 10))\n",
    "    plt.gray()\n",
    "    ax.get_xaxis().set_visible(False)\n",
    "    ax.get_yaxis().set_visible(False)\n",
    "plt.show()"
   ]
  },
  {
   "cell_type": "code",
   "execution_count": 17,
   "metadata": {},
   "outputs": [
    {
     "name": "stdout",
     "output_type": "stream",
     "text": [
      "0.3096283892574261\n"
     ]
    }
   ],
   "source": [
    "pair_dist = []\n",
    "pair_label = []\n",
    "\n",
    "for i in np.arange(encoded_imgs.shape[0]):\n",
    "    for j in range(i, encoded_imgs.shape[0]):\n",
    "        d = np.sqrt(np.power(encoded_imgs[i] - encoded_imgs[j], 2).sum())\n",
    "        pair_dist.append(d)\n",
    "        \n",
    "        if y_train[i] == y_train[j]:\n",
    "            pair_label.append(True)\n",
    "        else:\n",
    "            pair_label.append(False)\n",
    "print roc_auc_score(y_true=pair_label, y_score=pair_dist)"
   ]
  },
  {
   "cell_type": "code",
   "execution_count": 19,
   "metadata": {},
   "outputs": [
    {
     "data": {
      "text/plain": [
       "(1911, 32)"
      ]
     },
     "execution_count": 19,
     "metadata": {},
     "output_type": "execute_result"
    }
   ],
   "source": [
    "encoded_imgs.shape"
   ]
  },
  {
   "cell_type": "code",
   "execution_count": null,
   "metadata": {},
   "outputs": [],
   "source": []
  }
 ],
 "metadata": {
  "kernelspec": {
   "display_name": "Python 2",
   "language": "python",
   "name": "python2"
  },
  "language_info": {
   "codemirror_mode": {
    "name": "ipython",
    "version": 2
   },
   "file_extension": ".py",
   "mimetype": "text/x-python",
   "name": "python",
   "nbconvert_exporter": "python",
   "pygments_lexer": "ipython2",
   "version": "2.7.15"
  }
 },
 "nbformat": 4,
 "nbformat_minor": 2
}
