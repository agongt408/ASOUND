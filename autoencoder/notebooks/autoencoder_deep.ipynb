{
 "cells": [
  {
   "cell_type": "markdown",
   "metadata": {},
   "source": [
    "https://blog.keras.io/building-autoencoders-in-keras.html"
   ]
  },
  {
   "cell_type": "code",
   "execution_count": 1,
   "metadata": {},
   "outputs": [
    {
     "name": "stderr",
     "output_type": "stream",
     "text": [
      "/Users/tradergllc/anaconda2/lib/python2.7/site-packages/h5py/__init__.py:36: FutureWarning: Conversion of the second argument of issubdtype from `float` to `np.floating` is deprecated. In future, it will be treated as `np.float64 == np.dtype(float).type`.\n",
      "  from ._conv import register_converters as _register_converters\n",
      "Using TensorFlow backend.\n"
     ]
    }
   ],
   "source": [
    "from keras.layers import Input, Dense\n",
    "from keras.models import Model"
   ]
  },
  {
   "cell_type": "code",
   "execution_count": 2,
   "metadata": {},
   "outputs": [],
   "source": [
    "# this is the size of our encoded representations\n",
    "encoding_dim = 32  # 32 floats -> compression of factor 24.5, assuming the input is 784 floats\n",
    "\n",
    "# this is our input placeholder\n",
    "input_img = Input(shape=(784,))\n",
    "# x = Dense(encoding_dim * 10, activation='relu')(input_img)\n",
    "x = Dense(encoding_dim, activation='relu')(input_img)\n",
    "encoder = Model(input_img, x)\n",
    "\n",
    "encoded_ip = Input(shape=(encoding_dim,))\n",
    "# y = Dense(encoding_dim * 10, activation='relu')(encoded_ip)\n",
    "y = Dense(784, activation='sigmoid')(encoded_ip)\n",
    "decoder = Model(encoded_ip, y)\n",
    "\n",
    "# this model maps an input to its reconstruction\n",
    "autoencoder = Model(input_img, decoder(encoder(input_img)))"
   ]
  },
  {
   "cell_type": "code",
   "execution_count": 3,
   "metadata": {},
   "outputs": [],
   "source": [
    "autoencoder.compile(optimizer='adadelta', loss='binary_crossentropy')"
   ]
  },
  {
   "cell_type": "code",
   "execution_count": 4,
   "metadata": {},
   "outputs": [],
   "source": [
    "from keras.datasets import mnist\n",
    "import numpy as np\n",
    "(x_train, _), (x_test, _) = mnist.load_data()"
   ]
  },
  {
   "cell_type": "code",
   "execution_count": 5,
   "metadata": {},
   "outputs": [
    {
     "name": "stdout",
     "output_type": "stream",
     "text": [
      "(60000, 784)\n",
      "(10000, 784)\n"
     ]
    }
   ],
   "source": [
    "x_train = x_train.astype('float32') / 255.\n",
    "x_test = x_test.astype('float32') / 255.\n",
    "x_train = x_train.reshape((len(x_train), np.prod(x_train.shape[1:])))\n",
    "x_test = x_test.reshape((len(x_test), np.prod(x_test.shape[1:])))\n",
    "print x_train.shape\n",
    "print x_test.shape"
   ]
  },
  {
   "cell_type": "code",
   "execution_count": 6,
   "metadata": {},
   "outputs": [
    {
     "name": "stdout",
     "output_type": "stream",
     "text": [
      "Train on 60000 samples, validate on 10000 samples\n",
      "Epoch 1/50\n",
      "60000/60000 [==============================] - 3s 57us/step - loss: 0.3685 - val_loss: 0.2720\n",
      "Epoch 2/50\n",
      "60000/60000 [==============================] - 3s 52us/step - loss: 0.2659 - val_loss: 0.2569\n",
      "Epoch 3/50\n",
      "60000/60000 [==============================] - 3s 55us/step - loss: 0.2471 - val_loss: 0.2347\n",
      "Epoch 4/50\n",
      "60000/60000 [==============================] - 3s 58us/step - loss: 0.2258 - val_loss: 0.2151\n",
      "Epoch 5/50\n",
      "60000/60000 [==============================] - 4s 60us/step - loss: 0.2096 - val_loss: 0.2019\n",
      "Epoch 6/50\n",
      "60000/60000 [==============================] - 3s 56us/step - loss: 0.1986 - val_loss: 0.1928\n",
      "Epoch 7/50\n",
      "60000/60000 [==============================] - 3s 54us/step - loss: 0.1907 - val_loss: 0.1858\n",
      "Epoch 8/50\n",
      "60000/60000 [==============================] - 3s 55us/step - loss: 0.1842 - val_loss: 0.1797\n",
      "Epoch 9/50\n",
      "60000/60000 [==============================] - 3s 55us/step - loss: 0.1786 - val_loss: 0.1744\n",
      "Epoch 10/50\n",
      "60000/60000 [==============================] - 3s 55us/step - loss: 0.1736 - val_loss: 0.1697\n",
      "Epoch 11/50\n",
      "60000/60000 [==============================] - 3s 57us/step - loss: 0.1690 - val_loss: 0.1653\n",
      "Epoch 12/50\n",
      "60000/60000 [==============================] - 3s 56us/step - loss: 0.1650 - val_loss: 0.1615\n",
      "Epoch 13/50\n",
      "60000/60000 [==============================] - 3s 57us/step - loss: 0.1613 - val_loss: 0.1580\n",
      "Epoch 14/50\n",
      "60000/60000 [==============================] - 3s 56us/step - loss: 0.1578 - val_loss: 0.1546\n",
      "Epoch 15/50\n",
      "60000/60000 [==============================] - 3s 57us/step - loss: 0.1546 - val_loss: 0.1515\n",
      "Epoch 16/50\n",
      "60000/60000 [==============================] - 3s 56us/step - loss: 0.1516 - val_loss: 0.1486\n",
      "Epoch 17/50\n",
      "60000/60000 [==============================] - 3s 57us/step - loss: 0.1488 - val_loss: 0.1459\n",
      "Epoch 18/50\n",
      "60000/60000 [==============================] - 3s 57us/step - loss: 0.1462 - val_loss: 0.1434\n",
      "Epoch 19/50\n",
      "60000/60000 [==============================] - 3s 56us/step - loss: 0.1438 - val_loss: 0.1411\n",
      "Epoch 20/50\n",
      "60000/60000 [==============================] - 3s 56us/step - loss: 0.1415 - val_loss: 0.1388\n",
      "Epoch 21/50\n",
      "60000/60000 [==============================] - 3s 56us/step - loss: 0.1393 - val_loss: 0.1368\n",
      "Epoch 22/50\n",
      "60000/60000 [==============================] - 3s 56us/step - loss: 0.1373 - val_loss: 0.1348\n",
      "Epoch 23/50\n",
      "60000/60000 [==============================] - 3s 56us/step - loss: 0.1354 - val_loss: 0.1330\n",
      "Epoch 24/50\n",
      "60000/60000 [==============================] - 4s 61us/step - loss: 0.1337 - val_loss: 0.1312\n",
      "Epoch 25/50\n",
      "60000/60000 [==============================] - 4s 65us/step - loss: 0.1320 - val_loss: 0.1295\n",
      "Epoch 26/50\n",
      "60000/60000 [==============================] - 3s 54us/step - loss: 0.1304 - val_loss: 0.1280\n",
      "Epoch 27/50\n",
      "60000/60000 [==============================] - 3s 55us/step - loss: 0.1288 - val_loss: 0.1264\n",
      "Epoch 28/50\n",
      "60000/60000 [==============================] - 3s 56us/step - loss: 0.1273 - val_loss: 0.1250\n",
      "Epoch 29/50\n",
      "60000/60000 [==============================] - 3s 55us/step - loss: 0.1259 - val_loss: 0.1236\n",
      "Epoch 30/50\n",
      "60000/60000 [==============================] - 3s 57us/step - loss: 0.1245 - val_loss: 0.1223\n",
      "Epoch 31/50\n",
      "60000/60000 [==============================] - 3s 55us/step - loss: 0.1232 - val_loss: 0.1210\n",
      "Epoch 32/50\n",
      "60000/60000 [==============================] - 3s 57us/step - loss: 0.1220 - val_loss: 0.1197\n",
      "Epoch 33/50\n",
      "60000/60000 [==============================] - 3s 57us/step - loss: 0.1208 - val_loss: 0.1186\n",
      "Epoch 34/50\n",
      "60000/60000 [==============================] - 3s 56us/step - loss: 0.1196 - val_loss: 0.1175\n",
      "Epoch 35/50\n",
      "60000/60000 [==============================] - 4s 62us/step - loss: 0.1186 - val_loss: 0.1164\n",
      "Epoch 36/50\n",
      "60000/60000 [==============================] - 3s 55us/step - loss: 0.1176 - val_loss: 0.1155\n",
      "Epoch 37/50\n",
      "60000/60000 [==============================] - 3s 55us/step - loss: 0.1166 - val_loss: 0.1145\n",
      "Epoch 38/50\n",
      "60000/60000 [==============================] - 3s 54us/step - loss: 0.1157 - val_loss: 0.1137\n",
      "Epoch 39/50\n",
      "60000/60000 [==============================] - 3s 56us/step - loss: 0.1149 - val_loss: 0.1129\n",
      "Epoch 40/50\n",
      "60000/60000 [==============================] - 3s 54us/step - loss: 0.1141 - val_loss: 0.1121\n",
      "Epoch 41/50\n",
      "60000/60000 [==============================] - 3s 55us/step - loss: 0.1134 - val_loss: 0.1114\n",
      "Epoch 42/50\n",
      "60000/60000 [==============================] - 3s 56us/step - loss: 0.1127 - val_loss: 0.1107\n",
      "Epoch 43/50\n",
      "60000/60000 [==============================] - 3s 57us/step - loss: 0.1120 - val_loss: 0.1101\n",
      "Epoch 44/50\n",
      "60000/60000 [==============================] - 4s 61us/step - loss: 0.1115 - val_loss: 0.1096\n",
      "Epoch 45/50\n",
      "60000/60000 [==============================] - 3s 55us/step - loss: 0.1109 - val_loss: 0.1090\n",
      "Epoch 46/50\n",
      "60000/60000 [==============================] - 4s 59us/step - loss: 0.1104 - val_loss: 0.1085\n",
      "Epoch 47/50\n",
      "60000/60000 [==============================] - 4s 61us/step - loss: 0.1099 - val_loss: 0.1080\n",
      "Epoch 48/50\n",
      "60000/60000 [==============================] - 3s 55us/step - loss: 0.1094 - val_loss: 0.1075\n",
      "Epoch 49/50\n",
      "60000/60000 [==============================] - 3s 52us/step - loss: 0.1090 - val_loss: 0.1071\n",
      "Epoch 50/50\n",
      "60000/60000 [==============================] - 3s 54us/step - loss: 0.1085 - val_loss: 0.1067\n"
     ]
    },
    {
     "data": {
      "text/plain": [
       "<keras.callbacks.History at 0xb2a68bf90>"
      ]
     },
     "execution_count": 6,
     "metadata": {},
     "output_type": "execute_result"
    }
   ],
   "source": [
    "autoencoder.fit(x_train, x_train,\n",
    "                epochs=50,\n",
    "                batch_size=256,\n",
    "                shuffle=True,\n",
    "                validation_data=(x_test, x_test))"
   ]
  },
  {
   "cell_type": "code",
   "execution_count": 7,
   "metadata": {},
   "outputs": [],
   "source": [
    "# encode and decode some digits\n",
    "# note that we take them from the *test* set\n",
    "encoded_imgs = encoder.predict(x_test)\n",
    "decoded_imgs = decoder.predict(encoded_imgs)"
   ]
  },
  {
   "cell_type": "code",
   "execution_count": 9,
   "metadata": {},
   "outputs": [
    {
     "data": {
      "image/png": "[encoded data removed]",
      "text/plain": [
       "<Figure size 1440x288 with 20 Axes>"
      ]
     },
     "metadata": {},
     "output_type": "display_data"
    }
   ],
   "source": [
    "# use Matplotlib (don't ask)\n",
    "import matplotlib.pyplot as plt\n",
    "\n",
    "n = 10  # how many digits we will display\n",
    "plt.figure(figsize=(20, 4))\n",
    "for i in range(n):\n",
    "    # display original\n",
    "    ax = plt.subplot(2, n, i + 1)\n",
    "    plt.imshow(x_test[i].reshape(28, 28))\n",
    "    plt.gray()\n",
    "    ax.get_xaxis().set_visible(False)\n",
    "    ax.get_yaxis().set_visible(False)\n",
    "\n",
    "    # display reconstruction\n",
    "    ax = plt.subplot(2, n, i + 1 + n)\n",
    "    plt.imshow(decoded_imgs[i].reshape(28, 28))\n",
    "    plt.gray()\n",
    "    ax.get_xaxis().set_visible(False)\n",
    "    ax.get_yaxis().set_visible(False)\n",
    "plt.show()"
   ]
  },
  {
   "cell_type": "code",
   "execution_count": null,
   "metadata": {},
   "outputs": [],
   "source": []
  }
 ],
 "metadata": {
  "kernelspec": {
   "display_name": "Python 2",
   "language": "python",
   "name": "python2"
  },
  "language_info": {
   "codemirror_mode": {
    "name": "ipython",
    "version": 2
   },
   "file_extension": ".py",
   "mimetype": "text/x-python",
   "name": "python",
   "nbconvert_exporter": "python",
   "pygments_lexer": "ipython2",
   "version": "2.7.15"
  }
 },
 "nbformat": 4,
 "nbformat_minor": 2
}
