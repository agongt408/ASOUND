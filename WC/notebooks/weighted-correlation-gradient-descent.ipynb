{
 "cells": [
  {
   "cell_type": "code",
   "execution_count": 1,
   "metadata": {},
   "outputs": [
    {
     "name": "stderr",
     "output_type": "stream",
     "text": [
      "/Users/tradergllc/anaconda2/lib/python2.7/site-packages/h5py/__init__.py:36: FutureWarning: Conversion of the second argument of issubdtype from `float` to `np.floating` is deprecated. In future, it will be treated as `np.float64 == np.dtype(float).type`.\n",
      "  from ._conv import register_converters as _register_converters\n"
     ]
    }
   ],
   "source": [
    "import numpy as np\n",
    "import pandas as pd\n",
    "import matplotlib.pyplot as plt\n",
    "%matplotlib inline\n",
    "from scipy.stats import norm\n",
    "from time import time\n",
    "from sklearn.metrics import roc_auc_score\n",
    "import tensorflow as tf"
   ]
  },
  {
   "cell_type": "code",
   "execution_count": 2,
   "metadata": {},
   "outputs": [],
   "source": [
    "import BiMent"
   ]
  },
  {
   "cell_type": "markdown",
   "metadata": {},
   "source": [
    "## Get Data"
   ]
  },
  {
   "cell_type": "code",
   "execution_count": 3,
   "metadata": {},
   "outputs": [],
   "source": [
    "# Apps By Week\n",
    "df = pd.read_csv('/Users/tradergllc/rsi/datasets/proc/reality-mining/txt/interim/appsByWeek-clean.txt', \n",
    "                 sep=', ', header=None, engine='python', dtype=str, names=['id', 'date', 'app', 'freq'])"
   ]
  },
  {
   "cell_type": "code",
   "execution_count": 4,
   "metadata": {},
   "outputs": [],
   "source": [
    "def convert_to_dict(df):\n",
    "    data_dict = {}\n",
    "    \n",
    "    unique = list(df.iloc[:, 2].unique())\n",
    "    \n",
    "    date_list = [df.iloc[0, 1]]\n",
    "    pid_date_list = [(df.iloc[0,0], df.iloc[0, 1])]\n",
    "    \n",
    "    data_dict[int(df.iloc[0,0])] = {}\n",
    "    data_dict[int(df.iloc[0,0])][df.iloc[0, 1]] = np.zeros((len(unique),))\n",
    "    data_dict[int(df.iloc[0,0])][df.iloc[0, 1]][unique.index(df.iloc[0, 2])] = 1\n",
    "        \n",
    "    for r in range(1, len(df.index)):\n",
    "        pid = int(df.iloc[r, 0])\n",
    "        if pid not in data_dict.keys():\n",
    "            data_dict[pid] = {}        \n",
    "        \n",
    "        if (df.iloc[r, 0], df.iloc[r, 1]) in pid_date_list:\n",
    "            data_dict[pid][df.iloc[r, 1]][unique.index(df.iloc[r, 2])] = 1 #df.iloc[r, 3]\n",
    "        else:\n",
    "            date_list.append(df.iloc[r, 1])\n",
    "            pid_date_list.append((df.iloc[r, 0], df.iloc[r, 1]))\n",
    "            \n",
    "            data_dict[pid][df.iloc[r, 1]] = np.zeros((len(unique),))\n",
    "            data_dict[pid][df.iloc[r, 1]][unique.index(df.iloc[r, 2])] = 1\n",
    "                        \n",
    "    return data_dict, unique"
   ]
  },
  {
   "cell_type": "code",
   "execution_count": 5,
   "metadata": {},
   "outputs": [],
   "source": [
    "data_dict, unique = convert_to_dict(df)"
   ]
  },
  {
   "cell_type": "code",
   "execution_count": 6,
   "metadata": {},
   "outputs": [],
   "source": [
    "def dict_to_np_array(d):\n",
    "    vector_list = []\n",
    "    gt_pid = []\n",
    "    for pid in d.keys():\n",
    "        for date in d[pid].keys():\n",
    "#             print pid, date\n",
    "            vector_list.append(d[pid][date])\n",
    "            gt_pid.append(d.keys().index(pid))\n",
    "    return np.stack(vector_list), np.array(gt_pid)"
   ]
  },
  {
   "cell_type": "code",
   "execution_count": 7,
   "metadata": {},
   "outputs": [],
   "source": [
    "x_train, y_train = dict_to_np_array(data_dict)"
   ]
  },
  {
   "cell_type": "markdown",
   "metadata": {},
   "source": [
    "## Weighted Correlation"
   ]
  },
  {
   "cell_type": "markdown",
   "metadata": {},
   "source": [
    "### Generate Test Data"
   ]
  },
  {
   "cell_type": "code",
   "execution_count": 8,
   "metadata": {},
   "outputs": [],
   "source": [
    "N_SINGLETONS = 65\n",
    "N_PAIRS = 5"
   ]
  },
  {
   "cell_type": "code",
   "execution_count": 9,
   "metadata": {},
   "outputs": [],
   "source": [
    "singletons = np.random.choice(range(y_train.max() + 1), N_SINGLETONS, replace=False)\n",
    "\n",
    "remaining_idx = []\n",
    "for i in np.arange(y_train.max() + 1):\n",
    "    if i not in singletons:\n",
    "        remaining_idx.append(i)\n",
    "\n",
    "pairs = np.random.choice(remaining_idx, N_PAIRS, replace=False)"
   ]
  },
  {
   "cell_type": "code",
   "execution_count": 10,
   "metadata": {},
   "outputs": [],
   "source": [
    "vec_list = []\n",
    "labels = []\n",
    "GT_POS_PAIRS = []\n",
    "\n",
    "pid_list = data_dict.keys()\n",
    "\n",
    "for p in range(len(pairs)):\n",
    "    pid = pid_list[pairs[p]]\n",
    "    w1, w2 = np.random.choice(data_dict[pid].keys(), 2)\n",
    "    app_vec1, app_vec2 = data_dict[pid][w1], data_dict[pid][w2]\n",
    "\n",
    "    vec_list.append(app_vec1)\n",
    "    vec_list.append(app_vec2)\n",
    "\n",
    "    labels.append(p + 1)\n",
    "    labels.append(p + 1)\n",
    "    GT_POS_PAIRS.append((2* p, 2* p + 1))\n",
    "\n",
    "for s in singletons:\n",
    "    pid = pid_list[s]\n",
    "    w = np.random.choice(data_dict[pid].keys(), 1)\n",
    "    app_vec = data_dict[pid][w[0]]\n",
    "    vec_list.append(app_vec)\n",
    "    labels.append(0)\n",
    "    \n",
    "adj_mx = np.array(vec_list)"
   ]
  },
  {
   "cell_type": "code",
   "execution_count": 11,
   "metadata": {},
   "outputs": [
    {
     "name": "stdout",
     "output_type": "stream",
     "text": [
      "[[1. 1. 0. ... 0. 0. 0.]\n",
      " [1. 1. 0. ... 0. 0. 0.]\n",
      " [1. 1. 0. ... 0. 0. 0.]\n",
      " ...\n",
      " [1. 0. 1. ... 0. 0. 0.]\n",
      " [1. 1. 0. ... 0. 0. 0.]\n",
      " [1. 1. 1. ... 0. 0. 0.]]\n"
     ]
    }
   ],
   "source": [
    "print adj_mx"
   ]
  },
  {
   "cell_type": "markdown",
   "metadata": {},
   "source": [
    "### Baseline"
   ]
  },
  {
   "cell_type": "code",
   "execution_count": 12,
   "metadata": {},
   "outputs": [
    {
     "name": "stdout",
     "output_type": "stream",
     "text": [
      "[0.94666667 0.90666667 0.21333333 0.88       0.53333333 0.04\n",
      " 0.98666667 0.90666667 0.72       0.93333333 0.14666667 0.36\n",
      " 0.33333333 0.2        0.02666667 0.28       0.21333333 0.16\n",
      " 0.05333333 0.85333333]\n"
     ]
    }
   ],
   "source": [
    "phi = adj_mx.sum(axis=0) / adj_mx.shape[0]\n",
    "print phi[:20]"
   ]
  },
  {
   "cell_type": "code",
   "execution_count": 13,
   "metadata": {},
   "outputs": [
    {
     "name": "stdout",
     "output_type": "stream",
     "text": [
      "[0.94666667 0.90666667 0.21333333 0.88       0.53333333 0.04\n",
      " 0.98666667 0.90666667 0.72       0.93333333 0.14666667 0.36\n",
      " 0.33333333 0.2        0.02666667 0.28       0.21333333 0.16\n",
      " 0.05333333 0.85333333 0.08       0.10666667 0.44       0.26666667\n",
      " 0.08       0.05333333 0.01333333 0.10666667 0.42666667 0.01333333\n",
      " 0.04       0.09333333 0.05333333 0.06666667 0.16       0.08\n",
      " 0.14666667 0.06666667 0.01333333 0.02666667 0.14666667 0.05333333\n",
      " 0.04       0.01333333 0.06666667 0.01333333 0.01333333 0.10666667\n",
      " 0.05333333 0.10666667 0.05333333 0.02666667 0.06666667 0.12\n",
      " 0.08       0.01333333 0.01333333 0.02666667 0.01333333 0.01333333\n",
      " 0.01333333 0.01333333 0.01333333 0.01333333 0.01333333 0.02666667\n",
      " 0.01333333 0.01333333 0.01333333]\n"
     ]
    }
   ],
   "source": [
    "# Ensure all p_i's are non-zero\n",
    "adj_mx_nonzero = adj_mx.copy()\n",
    "adj_mx_nonzero = adj_mx_nonzero[:, np.where(np.logical_and(phi > 0, phi < 1))[0]]\n",
    "\n",
    "phi = adj_mx_nonzero.sum(axis=0) / adj_mx_nonzero.shape[0]\n",
    "print phi"
   ]
  },
  {
   "cell_type": "code",
   "execution_count": 14,
   "metadata": {},
   "outputs": [
    {
     "name": "stdout",
     "output_type": "stream",
     "text": [
      "time elapsed: 0.058976 sec\n"
     ]
    }
   ],
   "source": [
    "# %%timeit\n",
    "start = time()\n",
    "\n",
    "WC_arr = []\n",
    "WC_idx = []\n",
    "for i in np.arange(adj_mx_nonzero.shape[0]):\n",
    "    for j in np.arange(i + 1, adj_mx_nonzero.shape[0]):\n",
    "        X = adj_mx_nonzero[i]\n",
    "        Y = adj_mx_nonzero[j]\n",
    "        \n",
    "        WC = (1.0/ phi.shape[0])* (X- phi)* (Y- phi)/ (phi*(1-phi))\n",
    "        WC_arr.append(WC.sum())\n",
    "        \n",
    "        if (i, j) in GT_POS_PAIRS:\n",
    "            WC_idx.append(True)\n",
    "        else:\n",
    "            WC_idx.append(False)\n",
    "            \n",
    "print 'time elapsed: %f sec' % (time() - start)\n",
    "WC_arr = np.array(WC_arr)\n",
    "WC_idx = np.array(WC_idx)"
   ]
  },
  {
   "cell_type": "code",
   "execution_count": 15,
   "metadata": {},
   "outputs": [
    {
     "data": {
      "text/plain": [
       "array([ 0.08230412, -0.35925411,  0.16966359,  0.03460939,  0.08745092])"
      ]
     },
     "execution_count": 15,
     "metadata": {},
     "output_type": "execute_result"
    }
   ],
   "source": [
    "WC_arr[WC_idx]"
   ]
  },
  {
   "cell_type": "code",
   "execution_count": 16,
   "metadata": {},
   "outputs": [
    {
     "data": {
      "image/png": "[encoded data removed]",
      "text/plain": [
       "<Figure size 432x288 with 1 Axes>"
      ]
     },
     "metadata": {},
     "output_type": "display_data"
    }
   ],
   "source": [
    "bins = np.linspace(WC_arr.min(), WC_arr.max(), 100)\n",
    "\n",
    "plt.hist(WC_arr[WC_idx], bins, alpha=0.5, label='pos')\n",
    "plt.hist(WC_arr[WC_idx == False], bins, alpha=0.5, label='neg')\n",
    "plt.legend(loc='upper right')\n",
    "plt.show()"
   ]
  },
  {
   "cell_type": "code",
   "execution_count": 17,
   "metadata": {},
   "outputs": [
    {
     "name": "stdout",
     "output_type": "stream",
     "text": [
      "0.6855956678700361\n"
     ]
    }
   ],
   "source": [
    "print roc_auc_score(y_true=WC_idx, y_score=WC_arr)"
   ]
  },
  {
   "cell_type": "markdown",
   "metadata": {},
   "source": [
    "### Estimate Phi using ERGM"
   ]
  },
  {
   "cell_type": "code",
   "execution_count": 22,
   "metadata": {
    "scrolled": true
   },
   "outputs": [
    {
     "name": "stdout",
     "output_type": "stream",
     "text": [
      "counter=0, change=2.588970\n",
      "counter=500, change=0.096531\n",
      "counter=1000, change=0.001060\n",
      "counter=1500, change=0.000012\n",
      "Solver done in 4.0 seconds.\n",
      "Solver converged in 1517 iterations.\n"
     ]
    }
   ],
   "source": [
    "fs = adj_mx.sum(axis=1)\n",
    "gs = adj_mx.sum(axis=0)\n",
    "X, Y, X_bak, Y_bak = BiMent.solver(fs, gs, tolerance=1e-5, max_iter=10000)"
   ]
  },
  {
   "cell_type": "code",
   "execution_count": 24,
   "metadata": {
    "scrolled": true
   },
   "outputs": [
    {
     "data": {
      "text/plain": [
       "(array([0.34960295, 0.28603878, 0.09534626, 0.98524468, 0.34960295,\n",
       "        0.34960295, 0.38138504, 0.31782086, 0.28603878, 0.85811633,\n",
       "        0.47673129, 0.44494921, 0.25425669, 0.28603878, 0.28603878,\n",
       "        0.28603878, 0.15891043, 0.28603878, 0.31782086, 0.54029547,\n",
       "        0.41316712, 0.66742381, 0.34960295, 0.31782086, 0.41316712,\n",
       "        0.41316712, 0.66742381, 0.09534626, 0.47673129, 0.63564173,\n",
       "        0.57207755, 0.28603878, 0.09534626, 0.44494921, 0.28603878,\n",
       "        0.28603878, 0.54029547, 0.34960295, 0.44494921, 0.41316712,\n",
       "        0.31782086, 0.25425669, 0.44494921, 0.31782086, 0.38138504,\n",
       "        0.38138504, 0.15891043, 0.50851338, 0.19069252, 0.34960295,\n",
       "        0.28603878, 0.44494921, 0.73098799, 0.88989842, 0.47673129,\n",
       "        0.95346259, 0.34960295, 0.63564173, 0.25425669, 0.38138504,\n",
       "        0.54029547, 0.38138504, 0.41316712, 1.04880885, 0.41316712,\n",
       "        0.34960295, 0.79455216, 0.28603878, 0.41316712, 0.28603878,\n",
       "        0.66742381, 0.03178209, 0.41316712, 0.38138504, 0.57207755]),\n",
       " array([2.25652813, 2.16118187, 0.50851338, 2.0976177 , 1.27128345,\n",
       "        0.09534626, 2.35187439, 2.16118187, 1.71623266, 2.22474604,\n",
       "        0.34960295, 0.85811633, 0.79455216, 0.47673129, 0.06356417,\n",
       "        0.66742381, 0.50851338, 0.38138504, 0.12712835, 2.03405352,\n",
       "        0.        , 0.19069252, 0.25425669, 1.04880885, 0.63564173,\n",
       "        0.19069252, 0.12712835, 0.03178209, 0.25425669, 1.01702676,\n",
       "        0.03178209, 0.09534626, 0.2224746 , 0.12712835, 0.15891043,\n",
       "        0.        , 0.38138504, 0.19069252, 0.34960295, 0.15891043,\n",
       "        0.03178209, 0.06356417, 0.34960295, 0.        , 0.12712835,\n",
       "        0.09534626, 0.03178209, 0.        , 0.        , 0.15891043,\n",
       "        0.        , 0.        , 0.        , 0.        , 0.        ,\n",
       "        0.        , 0.03178209, 0.        , 0.03178209, 0.        ,\n",
       "        0.        , 0.        , 0.        , 0.        , 0.        ,\n",
       "        0.        , 0.        , 0.        , 0.        , 0.25425669,\n",
       "        0.        , 0.12712835, 0.25425669, 0.12712835, 0.06356417,\n",
       "        0.15891043, 0.        , 0.        , 0.28603878, 0.19069252,\n",
       "        0.        , 0.        , 0.        , 0.03178209, 0.        ,\n",
       "        0.        , 0.        , 0.        , 0.        , 0.        ,\n",
       "        0.        , 0.        , 0.        , 0.        , 0.        ,\n",
       "        0.        , 0.03178209, 0.        , 0.        , 0.        ,\n",
       "        0.        , 0.        , 0.        , 0.        , 0.        ,\n",
       "        0.        , 0.        , 0.        , 0.        , 0.        ,\n",
       "        0.        , 0.        , 0.        , 0.06356417, 0.        ,\n",
       "        0.        , 0.        , 0.        , 0.        , 0.        ,\n",
       "        0.        , 0.        , 0.        , 0.        , 0.03178209,\n",
       "        0.03178209, 0.        , 0.03178209, 0.03178209, 0.        ,\n",
       "        0.        , 0.        , 0.        , 0.        , 0.        ,\n",
       "        0.        , 0.        , 0.        , 0.        , 0.        ,\n",
       "        0.        , 0.        , 0.        , 0.        , 0.        ,\n",
       "        0.        , 0.        , 0.        , 0.        , 0.        ,\n",
       "        0.        , 0.        , 0.        , 0.        , 0.        ,\n",
       "        0.        , 0.        , 0.        , 0.        , 0.        ,\n",
       "        0.        , 0.        , 0.        , 0.        , 0.        ,\n",
       "        0.        , 0.03178209, 0.        , 0.        , 0.        ,\n",
       "        0.        , 0.        , 0.        , 0.        , 0.        ,\n",
       "        0.        , 0.        , 0.        , 0.03178209, 0.        ,\n",
       "        0.        , 0.        , 0.        , 0.        , 0.        ,\n",
       "        0.        , 0.        , 0.        , 0.        , 0.        ,\n",
       "        0.        , 0.        , 0.        , 0.        , 0.03178209,\n",
       "        0.06356417, 0.        , 0.03178209, 0.03178209, 0.        ,\n",
       "        0.03178209, 0.        , 0.        , 0.        , 0.        ,\n",
       "        0.        ]))"
      ]
     },
     "execution_count": 24,
     "metadata": {},
     "output_type": "execute_result"
    }
   ],
   "source": [
    "X_bak, Y_bak"
   ]
  },
  {
   "cell_type": "code",
   "execution_count": 27,
   "metadata": {},
   "outputs": [],
   "source": [
    "N = np.sum(fs)\n",
    "X = tf.Variable(fs / np.sqrt(N))\n",
    "Y = tf.Variable(gs / np.sqrt(N))\n",
    "fs_const = tf.constant(fs)\n",
    "gs_const = tf.constant(gs)"
   ]
  },
  {
   "cell_type": "code",
   "execution_count": 28,
   "metadata": {},
   "outputs": [
    {
     "name": "stdout",
     "output_type": "stream",
     "text": [
      "Tensor(\"sub_2:0\", shape=(75,), dtype=float64)\n"
     ]
    }
   ],
   "source": [
    "XYt = tf.matmul(tf.reshape(X, (-1, 1)), tf.reshape(Y, (1,-1)))\n",
    "f_func = tf.reduce_sum(XYt / (1+ XYt), axis=1) - fs_const\n",
    "print f_func\n",
    "# tf.matmul(tf.reshape(X, (-1, 1)), tf.reshape(Y, (1,-1)))"
   ]
  },
  {
   "cell_type": "code",
   "execution_count": 29,
   "metadata": {},
   "outputs": [
    {
     "name": "stdout",
     "output_type": "stream",
     "text": [
      "Tensor(\"sub_3:0\", shape=(206,), dtype=float64)\n"
     ]
    }
   ],
   "source": [
    "YXt = tf.matmul(tf.reshape(Y, (-1, 1)), tf.reshape(X, (1,-1)))\n",
    "g_func = tf.reduce_sum(YXt / (1+ YXt), axis=1) - gs_const\n",
    "print g_func"
   ]
  },
  {
   "cell_type": "code",
   "execution_count": 30,
   "metadata": {},
   "outputs": [
    {
     "name": "stdout",
     "output_type": "stream",
     "text": [
      "Tensor(\"Sum_5:0\", shape=(), dtype=float64)\n"
     ]
    }
   ],
   "source": [
    "loss = tf.reduce_sum(tf.concat([f_func, g_func], axis=0))\n",
    "print loss"
   ]
  },
  {
   "cell_type": "code",
   "execution_count": 31,
   "metadata": {
    "scrolled": true
   },
   "outputs": [
    {
     "name": "stdout",
     "output_type": "stream",
     "text": [
      "[0.34960295 0.28603878 0.09534626 0.98524468 0.34960295 0.34960295\n",
      " 0.38138504 0.31782086 0.28603878 0.85811633 0.47673129 0.44494921\n",
      " 0.25425669 0.28603878 0.28603878 0.28603878 0.15891043 0.28603878\n",
      " 0.31782086 0.54029547 0.41316712 0.66742381 0.34960295 0.31782086\n",
      " 0.41316712 0.41316712 0.66742381 0.09534626 0.47673129 0.63564173\n",
      " 0.57207755 0.28603878 0.09534626 0.44494921 0.28603878 0.28603878\n",
      " 0.54029547 0.34960295 0.44494921 0.41316712 0.31782086 0.25425669\n",
      " 0.44494921 0.31782086 0.38138504 0.38138504 0.15891043 0.50851338\n",
      " 0.19069252 0.34960295 0.28603878 0.44494921 0.73098799 0.88989842\n",
      " 0.47673129 0.95346259 0.34960295 0.63564173 0.25425669 0.38138504\n",
      " 0.54029547 0.38138504 0.41316712 1.04880885 0.41316712 0.34960295\n",
      " 0.79455216 0.28603878 0.41316712 0.28603878 0.66742381 0.03178209\n",
      " 0.41316712 0.38138504 0.57207755]\n",
      "[2.25652813 2.16118187 0.50851338 2.0976177  1.27128345 0.09534626\n",
      " 2.35187439 2.16118187 1.71623266 2.22474604 0.34960295 0.85811633\n",
      " 0.79455216 0.47673129 0.06356417 0.66742381 0.50851338 0.38138504\n",
      " 0.12712835 2.03405352 0.         0.19069252 0.25425669 1.04880885\n",
      " 0.63564173 0.19069252 0.12712835 0.03178209 0.25425669 1.01702676\n",
      " 0.03178209 0.09534626 0.2224746  0.12712835 0.15891043 0.\n",
      " 0.38138504 0.19069252 0.34960295 0.15891043 0.03178209 0.06356417\n",
      " 0.34960295 0.         0.12712835 0.09534626 0.03178209 0.\n",
      " 0.         0.15891043 0.         0.         0.         0.\n",
      " 0.         0.         0.03178209 0.         0.03178209 0.\n",
      " 0.         0.         0.         0.         0.         0.\n",
      " 0.         0.         0.         0.25425669 0.         0.12712835\n",
      " 0.25425669 0.12712835 0.06356417 0.15891043 0.         0.\n",
      " 0.28603878 0.19069252 0.         0.         0.         0.03178209\n",
      " 0.         0.         0.         0.         0.         0.\n",
      " 0.         0.         0.         0.         0.         0.\n",
      " 0.03178209 0.         0.         0.         0.         0.\n",
      " 0.         0.         0.         0.         0.         0.\n",
      " 0.         0.         0.         0.         0.         0.06356417\n",
      " 0.         0.         0.         0.         0.         0.\n",
      " 0.         0.         0.         0.         0.03178209 0.03178209\n",
      " 0.         0.03178209 0.03178209 0.         0.         0.\n",
      " 0.         0.         0.         0.         0.         0.\n",
      " 0.         0.         0.         0.         0.         0.\n",
      " 0.         0.         0.         0.         0.         0.\n",
      " 0.         0.         0.         0.         0.         0.\n",
      " 0.         0.         0.         0.         0.         0.\n",
      " 0.         0.         0.         0.         0.03178209 0.\n",
      " 0.         0.         0.         0.         0.         0.\n",
      " 0.         0.         0.         0.         0.03178209 0.\n",
      " 0.         0.         0.         0.         0.         0.\n",
      " 0.         0.         0.         0.         0.         0.\n",
      " 0.         0.         0.03178209 0.06356417 0.         0.03178209\n",
      " 0.03178209 0.         0.03178209 0.         0.         0.\n",
      " 0.         0.        ]\n"
     ]
    }
   ],
   "source": [
    "opt = tf.train.AdamOptimizer(2.0).minimize(loss)\n",
    "\n",
    "sess = tf.Session()\n",
    "sess.run(tf.global_variables_initializer())\n",
    "\n",
    "print sess.run(X)\n",
    "print sess.run(Y)"
   ]
  },
  {
   "cell_type": "code",
   "execution_count": 32,
   "metadata": {},
   "outputs": [
    {
     "name": "stdout",
     "output_type": "stream",
     "text": [
      "i=0, loss=-719.003987\n",
      "i=1000, loss=28919.440733\n",
      "i=2000, loss=28919.094971\n",
      "i=3000, loss=28912.170696\n",
      "i=4000, loss=28917.149641\n",
      "i=5000, loss=28916.545625\n",
      "i=6000, loss=28917.985242\n",
      "i=7000, loss=28916.907918\n",
      "i=8000, loss=28913.440444\n",
      "i=9000, loss=28924.974832\n",
      "i=9999, loss=28922.381943\n"
     ]
    }
   ],
   "source": [
    "iterations = 10000\n",
    "for i in range(iterations):\n",
    "    if i % 1000 == 0 or i + 1 == iterations:\n",
    "        print 'i=%d, loss=%f' % (i, sess.run(loss))\n",
    "    sess.run(opt)"
   ]
  },
  {
   "cell_type": "code",
   "execution_count": 33,
   "metadata": {},
   "outputs": [
    {
     "data": {
      "text/plain": [
       "array([ 23.15627534, -91.69177223,  35.13176131,  36.29898602,\n",
       "        23.15627534,  23.15627534,  18.79752163,  61.3545261 ,\n",
       "       -91.69177223,  65.46050452,  63.36115972,  50.30754974,\n",
       "        62.58587789, -91.69177223, -91.69177223, -91.69177223,\n",
       "        69.96097748, -91.69177223,  61.3545261 ,  92.40996343,\n",
       "       110.79311455, -11.04621249,  23.15627534,  61.3545261 ,\n",
       "       110.79311455, 110.79311455, -11.04621249,  35.13176131,\n",
       "        63.36115972, -54.99567251, -63.4915764 , -91.69177223,\n",
       "        35.13176131,  50.30754974, -91.69177223, -91.69177223,\n",
       "        92.40996343,  23.15627534,  50.30754974, 110.79311455,\n",
       "        61.3545261 ,  62.58587789,  50.30754974,  61.3545261 ,\n",
       "        18.79752163,  18.79752163,  69.96097748, 109.06487684,\n",
       "        21.15171543,  23.15627534, -91.69177223,  50.30754974,\n",
       "        92.89707646,  58.19412663,  63.36115972,  23.04279156,\n",
       "        23.15627534, -54.99567251,  62.58587789,  18.79752163,\n",
       "        92.40996343,  18.79752163, 110.79311455,  22.05200499,\n",
       "       110.79311455,  23.15627534,  81.20469452, -91.69177223,\n",
       "       110.79311455, -91.69177223, -11.04621249,  99.71680978,\n",
       "       110.79311455,  18.79752163, -63.4915764 ])"
      ]
     },
     "execution_count": 33,
     "metadata": {},
     "output_type": "execute_result"
    }
   ],
   "source": [
    "sess.run(X)"
   ]
  },
  {
   "cell_type": "code",
   "execution_count": 19,
   "metadata": {},
   "outputs": [
    {
     "data": {
      "text/plain": [
       "array([0.23786968, 0.44175798, 0.50972075, 0.54370213, 0.33981383,\n",
       "       0.4077766 , 0.54370213, 0.37379522, 0.37379522, 0.2038883 ,\n",
       "       0.16990692, 0.13592553, 0.44175798, 0.23786968, 0.44175798,\n",
       "       0.4077766 , 0.6116649 , 0.33981383, 0.33981383, 0.37379522,\n",
       "       0.50972075, 0.10194415, 0.06796277, 0.33981383, 0.47573937,\n",
       "       0.2038883 , 0.4077766 , 0.4077766 , 0.06796277, 0.30583245,\n",
       "       0.23786968, 0.23786968, 0.4077766 , 0.37379522, 0.64564628,\n",
       "       0.16990692, 0.27185107, 0.10194415, 0.33981383, 0.37379522,\n",
       "       0.50972075, 0.57768352, 0.47573937, 0.33981383, 0.37379522,\n",
       "       0.30583245, 0.47573937, 0.33981383, 0.37379522, 0.16990692,\n",
       "       0.44175798, 0.44175798, 0.50972075, 1.0194415 , 0.33981383,\n",
       "       0.50972075, 0.23786968, 0.33981383, 0.6116649 , 0.33981383,\n",
       "       0.4077766 , 0.37379522, 0.33981383, 0.33981383, 0.30583245,\n",
       "       0.50972075, 0.33981383, 0.91749735, 1.12138565, 0.4077766 ,\n",
       "       0.33981383, 0.50972075, 0.27185107, 0.57768352, 0.4077766 ])"
      ]
     },
     "execution_count": 19,
     "metadata": {},
     "output_type": "execute_result"
    }
   ],
   "source": [
    "fs / np.sqrt(N)"
   ]
  },
  {
   "cell_type": "code",
   "execution_count": 20,
   "metadata": {},
   "outputs": [
    {
     "name": "stdout",
     "output_type": "stream",
     "text": [
      "[[3.91176060e-01 6.24347339e-01 1.58163586e-03 ... 0.00000000e+00\n",
      "  0.00000000e+00 4.18924386e-05]\n",
      " [9.99109326e-01 9.99655494e-01 7.34446348e-01 ... 0.00000000e+00\n",
      "  0.00000000e+00 6.81569958e-02]\n",
      " [9.84905560e-01 9.94110238e-01 1.38581476e-01 ... 0.00000000e+00\n",
      "  0.00000000e+00 4.23649867e-03]\n",
      " ...\n",
      " [9.70464809e-01 9.88371573e-01 7.49415353e-02 ... 0.00000000e+00\n",
      "  0.00000000e+00 2.13788251e-03]\n",
      " [9.88510811e-01 9.95526971e-01 1.75007101e-01 ... 0.00000000e+00\n",
      "  0.00000000e+00 5.57873532e-03]\n",
      " [9.88510811e-01 9.95526971e-01 1.75007101e-01 ... 0.00000000e+00\n",
      "  0.00000000e+00 5.57873532e-03]]\n"
     ]
    }
   ],
   "source": [
    "phi_ia = X[:, None] * Y / (1 + X[:, None] * Y)\n",
    "print phi_ia"
   ]
  },
  {
   "cell_type": "code",
   "execution_count": 21,
   "metadata": {},
   "outputs": [
    {
     "data": {
      "text/plain": [
       "(75, 206)"
      ]
     },
     "execution_count": 21,
     "metadata": {},
     "output_type": "execute_result"
    }
   ],
   "source": [
    "phi_ia.shape"
   ]
  },
  {
   "cell_type": "code",
   "execution_count": 22,
   "metadata": {},
   "outputs": [
    {
     "data": {
      "text/plain": [
       "0.0015816358595229865"
      ]
     },
     "execution_count": 22,
     "metadata": {},
     "output_type": "execute_result"
    }
   ],
   "source": [
    "X[0]*Y[2] / (1+X[0]*Y[2])"
   ]
  },
  {
   "cell_type": "code",
   "execution_count": 23,
   "metadata": {},
   "outputs": [
    {
     "name": "stdout",
     "output_type": "stream",
     "text": [
      "time elapsed: 0.064398 sec\n"
     ]
    }
   ],
   "source": [
    "# %%timeit\n",
    "start = time()\n",
    "\n",
    "WC_arr = []\n",
    "WC_idx = []\n",
    "for i in np.arange(adj_mx.shape[0]):\n",
    "    for j in np.arange(i + 1, adj_mx.shape[0]):\n",
    "        X = adj_mx[i]\n",
    "        Y = adj_mx[j]\n",
    "        E_X = phi_ia[i]\n",
    "        E_Y = phi_ia[j]\n",
    "        \n",
    "        WC = (1.0/ phi_ia.shape[1])* (X- E_X)* (Y- E_Y)/ (np.sqrt(E_X*E_Y*(1-E_X)*(1-E_Y)) + 1e-6)\n",
    "#         print WC\n",
    "        WC_arr.append(WC.sum())\n",
    "        \n",
    "        if (i, j) in GT_POS_PAIRS:\n",
    "            WC_idx.append(True)\n",
    "        else:\n",
    "            WC_idx.append(False)\n",
    "            \n",
    "print 'time elapsed: %f sec' % (time() - start)\n",
    "WC_arr = np.array(WC_arr)\n",
    "WC_idx = np.array(WC_idx)"
   ]
  },
  {
   "cell_type": "code",
   "execution_count": 24,
   "metadata": {},
   "outputs": [
    {
     "data": {
      "text/plain": [
       "array([ 0.00117127,  0.35071993, -0.02112845,  0.01081529,  0.01734086])"
      ]
     },
     "execution_count": 24,
     "metadata": {},
     "output_type": "execute_result"
    }
   ],
   "source": [
    "WC_arr[WC_idx]"
   ]
  },
  {
   "cell_type": "code",
   "execution_count": 25,
   "metadata": {},
   "outputs": [
    {
     "data": {
      "image/png": "[encoded data removed]",
      "text/plain": [
       "<Figure size 432x288 with 1 Axes>"
      ]
     },
     "metadata": {},
     "output_type": "display_data"
    }
   ],
   "source": [
    "bins = np.linspace(WC_arr.min(), WC_arr.max(), 100)\n",
    "\n",
    "plt.hist(WC_arr[WC_idx], bins, alpha=0.5, label='pos')\n",
    "plt.hist(WC_arr[WC_idx == False], bins, alpha=0.5, label='neg')\n",
    "plt.legend(loc='upper right')\n",
    "plt.show()"
   ]
  },
  {
   "cell_type": "code",
   "execution_count": 26,
   "metadata": {},
   "outputs": [
    {
     "name": "stdout",
     "output_type": "stream",
     "text": [
      "0.7088447653429604\n"
     ]
    }
   ],
   "source": [
    "print roc_auc_score(y_true=WC_idx, y_score=WC_arr)"
   ]
  },
  {
   "cell_type": "code",
   "execution_count": null,
   "metadata": {},
   "outputs": [],
   "source": []
  }
 ],
 "metadata": {
  "kernelspec": {
   "display_name": "Python 2",
   "language": "python",
   "name": "python2"
  },
  "language_info": {
   "codemirror_mode": {
    "name": "ipython",
    "version": 2
   },
   "file_extension": ".py",
   "mimetype": "text/x-python",
   "name": "python",
   "nbconvert_exporter": "python",
   "pygments_lexer": "ipython2",
   "version": "2.7.15"
  }
 },
 "nbformat": 4,
 "nbformat_minor": 2
}
