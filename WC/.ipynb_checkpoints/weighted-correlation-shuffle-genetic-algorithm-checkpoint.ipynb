{
 "cells": [
  {
   "cell_type": "code",
   "execution_count": 1,
   "metadata": {},
   "outputs": [],
   "source": [
    "import numpy as np\n",
    "import pandas as pd\n",
    "import matplotlib.pyplot as plt\n",
    "%matplotlib inline\n",
    "from scipy.stats import norm\n",
    "from time import time\n",
    "from sklearn.metrics import roc_auc_score\n",
    "import networkx as nx"
   ]
  },
  {
   "cell_type": "code",
   "execution_count": 2,
   "metadata": {},
   "outputs": [],
   "source": [
    "import BiMent"
   ]
  },
  {
   "cell_type": "markdown",
   "metadata": {},
   "source": [
    "## Get Data"
   ]
  },
  {
   "cell_type": "code",
   "execution_count": 3,
   "metadata": {},
   "outputs": [],
   "source": [
    "# Apps By Week\n",
    "df = pd.read_csv('/Users/tradergllc/rsi/datasets/reality-mining/txt/interim/appsByWeek-clean.txt', \n",
    "                 sep=', ', header=None, engine='python', dtype=str, names=['id', 'date', 'app', 'freq'])"
   ]
  },
  {
   "cell_type": "code",
   "execution_count": 4,
   "metadata": {},
   "outputs": [],
   "source": [
    "def convert_to_dict(df):\n",
    "    data_dict = {}\n",
    "    \n",
    "    unique = list(df.iloc[:, 2].unique())\n",
    "    \n",
    "    date_list = [df.iloc[0, 1]]\n",
    "    pid_date_list = [(df.iloc[0,0], df.iloc[0, 1])]\n",
    "    \n",
    "    data_dict[int(df.iloc[0,0])] = {}\n",
    "    data_dict[int(df.iloc[0,0])][df.iloc[0, 1]] = np.zeros((len(unique),))\n",
    "    data_dict[int(df.iloc[0,0])][df.iloc[0, 1]][unique.index(df.iloc[0, 2])] = 1\n",
    "        \n",
    "    for r in range(1, len(df.index)):\n",
    "        pid = int(df.iloc[r, 0])\n",
    "        if pid not in data_dict.keys():\n",
    "            data_dict[pid] = {}        \n",
    "        \n",
    "        if (df.iloc[r, 0], df.iloc[r, 1]) in pid_date_list:\n",
    "            data_dict[pid][df.iloc[r, 1]][unique.index(df.iloc[r, 2])] = 1 #df.iloc[r, 3]\n",
    "        else:\n",
    "            date_list.append(df.iloc[r, 1])\n",
    "            pid_date_list.append((df.iloc[r, 0], df.iloc[r, 1]))\n",
    "            \n",
    "            data_dict[pid][df.iloc[r, 1]] = np.zeros((len(unique),))\n",
    "            data_dict[pid][df.iloc[r, 1]][unique.index(df.iloc[r, 2])] = 1\n",
    "                        \n",
    "    return data_dict, unique"
   ]
  },
  {
   "cell_type": "code",
   "execution_count": 5,
   "metadata": {},
   "outputs": [],
   "source": [
    "data_dict, unique = convert_to_dict(df)"
   ]
  },
  {
   "cell_type": "code",
   "execution_count": 6,
   "metadata": {},
   "outputs": [],
   "source": [
    "def dict_to_np_array(d):\n",
    "    vector_list = []\n",
    "    gt_pid = []\n",
    "    idx_list = []\n",
    "    for pid in d.keys():\n",
    "        for date in d[pid].keys():\n",
    "            vector_list.append(d[pid][date])\n",
    "            gt_pid.append(d.keys().index(pid))\n",
    "            idx_list.append((pid, date))\n",
    "    return np.stack(vector_list), np.array(gt_pid), idx_list"
   ]
  },
  {
   "cell_type": "code",
   "execution_count": 7,
   "metadata": {},
   "outputs": [
    {
     "name": "stdout",
     "output_type": "stream",
     "text": [
      "(1911, 206) (1911,)\n"
     ]
    }
   ],
   "source": [
    "x_train, y_train, idx_list = dict_to_np_array(data_dict)\n",
    "print x_train.shape, y_train.shape"
   ]
  },
  {
   "cell_type": "code",
   "execution_count": 8,
   "metadata": {},
   "outputs": [
    {
     "data": {
      "text/plain": [
       "[(3, '2004.36'),\n",
       " (3, '2004.37'),\n",
       " (3, '2004.34'),\n",
       " (3, '2004.35'),\n",
       " (3, '2004.47'),\n",
       " (3, '2004.51'),\n",
       " (3, '2004.49'),\n",
       " (3, '2004.48'),\n",
       " (3, '2004.39'),\n",
       " (3, '2005.1')]"
      ]
     },
     "execution_count": 8,
     "metadata": {},
     "output_type": "execute_result"
    }
   ],
   "source": [
    "idx_list[:10]"
   ]
  },
  {
   "cell_type": "code",
   "execution_count": 9,
   "metadata": {},
   "outputs": [
    {
     "data": {
      "image/png": "[encoded data removed]",
      "text/plain": [
       "<Figure size 432x288 with 1 Axes>"
      ]
     },
     "metadata": {},
     "output_type": "display_data"
    }
   ],
   "source": [
    "plt.hist(x_train.sum(axis=1), bins=20)\n",
    "plt.show()"
   ]
  },
  {
   "cell_type": "code",
   "execution_count": 10,
   "metadata": {},
   "outputs": [],
   "source": [
    "# x_max = x_train.sum(axis=1).max()\n",
    "# p_max = 0.75\n",
    "# p = -(p_max / x_max)*np.arange(x_max) + p_max\n",
    "# p = p / p.sum()\n",
    "# print p"
   ]
  },
  {
   "cell_type": "code",
   "execution_count": 11,
   "metadata": {},
   "outputs": [],
   "source": [
    "# choice = np.random.choice(np.arange(x_max), 75, replace=True, p=p)"
   ]
  },
  {
   "cell_type": "code",
   "execution_count": 12,
   "metadata": {},
   "outputs": [],
   "source": [
    "# plt.hist(choice, bins=20)\n",
    "# plt.show()"
   ]
  },
  {
   "cell_type": "markdown",
   "metadata": {},
   "source": [
    "## Weighted Correlation"
   ]
  },
  {
   "cell_type": "markdown",
   "metadata": {},
   "source": [
    "### Generate Test Data"
   ]
  },
  {
   "cell_type": "code",
   "execution_count": 13,
   "metadata": {},
   "outputs": [],
   "source": [
    "N_SINGLETONS = 75\n",
    "N_PAIRS = 5\n",
    "N_TOTAL = N_SINGLETONS + 2 * N_PAIRS"
   ]
  },
  {
   "cell_type": "code",
   "execution_count": 14,
   "metadata": {},
   "outputs": [],
   "source": [
    "singletons = np.random.choice(range(y_train.max() + 1), N_SINGLETONS, replace=False)\n",
    "\n",
    "remaining_idx = []\n",
    "for i in np.arange(y_train.max() + 1):\n",
    "    if i not in singletons:\n",
    "        remaining_idx.append(i)\n",
    "\n",
    "pairs = np.random.choice(remaining_idx, N_PAIRS, replace=False)"
   ]
  },
  {
   "cell_type": "code",
   "execution_count": 15,
   "metadata": {},
   "outputs": [],
   "source": [
    "# vec_list = []\n",
    "idx_choice = np.zeros((N_TOTAL), dtype=np.int32)\n",
    "adj_mx = np.zeros((N_TOTAL, x_train.shape[1]))\n",
    "\n",
    "pid_list = data_dict.keys()\n",
    "\n",
    "idx_pairs = np.random.choice(range(N_TOTAL), 2 * N_PAIRS, replace=False)\n",
    "idx_single = []\n",
    "for i in range(N_TOTAL):\n",
    "    if i not in idx_pairs:\n",
    "        idx_single.append(i)\n",
    "        \n",
    "GT_POS_PAIRS = [(idx_pairs[2*i], idx_pairs[2*i + 1]) for i in range(N_PAIRS)]"
   ]
  },
  {
   "cell_type": "code",
   "execution_count": 16,
   "metadata": {},
   "outputs": [
    {
     "data": {
      "text/plain": [
       "[(17, 59), (20, 61), (21, 82), (11, 4), (44, 64)]"
      ]
     },
     "execution_count": 16,
     "metadata": {},
     "output_type": "execute_result"
    }
   ],
   "source": [
    "GT_POS_PAIRS"
   ]
  },
  {
   "cell_type": "code",
   "execution_count": 17,
   "metadata": {},
   "outputs": [
    {
     "name": "stdout",
     "output_type": "stream",
     "text": [
      "[0, 1, 2, 3, 5, 6, 7, 8, 9, 10, 12, 13, 14, 15, 16, 18, 19, 22, 23, 24, 25, 26, 27, 28, 29, 30, 31, 32, 33, 34, 35, 36, 37, 38, 39, 40, 41, 42, 43, 45, 46, 47, 48, 49, 50, 51, 52, 53, 54, 55, 56, 57, 58, 60, 62, 63, 65, 66, 67, 68, 69, 70, 71, 72, 73, 74, 75, 76, 77, 78, 79, 80, 81, 83, 84]\n"
     ]
    }
   ],
   "source": [
    "print idx_single"
   ]
  },
  {
   "cell_type": "code",
   "execution_count": 18,
   "metadata": {},
   "outputs": [],
   "source": [
    "for p in range(len(pairs)):\n",
    "    pid = pid_list[pairs[p]]\n",
    "    \n",
    "    w1, w2 = np.random.choice(data_dict[pid].keys(), 2)\n",
    "    app_vec1, app_vec2 = data_dict[pid][w1], data_dict[pid][w2]\n",
    "\n",
    "    adj_mx[GT_POS_PAIRS[p][0]] = app_vec1\n",
    "    adj_mx[GT_POS_PAIRS[p][1]] = app_vec2\n",
    "    \n",
    "    idx_choice[GT_POS_PAIRS[p][0]] = idx_list.index((pid, w1))\n",
    "    idx_choice[GT_POS_PAIRS[p][1]] = idx_list.index((pid, w2))\n",
    "\n",
    "for s in range(len(singletons)):\n",
    "    pid = pid_list[singletons[s]]\n",
    "    \n",
    "    w = np.random.choice(data_dict[pid].keys(), 1)\n",
    "    app_vec = data_dict[pid][w[0]]\n",
    "    adj_mx[idx_single[s]] = app_vec\n",
    "    \n",
    "    idx_choice[idx_single[s]] = idx_list.index((pid, w))"
   ]
  },
  {
   "cell_type": "code",
   "execution_count": 19,
   "metadata": {},
   "outputs": [
    {
     "name": "stdout",
     "output_type": "stream",
     "text": [
      "[[1. 1. 0. ... 0. 0. 0.]\n",
      " [1. 1. 0. ... 0. 0. 0.]\n",
      " [1. 1. 0. ... 0. 0. 0.]\n",
      " ...\n",
      " [1. 1. 0. ... 0. 0. 0.]\n",
      " [1. 1. 0. ... 0. 0. 0.]\n",
      " [1. 0. 0. ... 0. 0. 0.]]\n"
     ]
    }
   ],
   "source": [
    "print adj_mx"
   ]
  },
  {
   "cell_type": "code",
   "execution_count": 20,
   "metadata": {},
   "outputs": [
    {
     "data": {
      "image/png": "[encoded data removed]",
      "text/plain": [
       "<Figure size 432x288 with 1 Axes>"
      ]
     },
     "metadata": {},
     "output_type": "display_data"
    }
   ],
   "source": [
    "plt.hist(adj_mx.sum(axis=1))\n",
    "plt.show()"
   ]
  },
  {
   "cell_type": "code",
   "execution_count": 21,
   "metadata": {},
   "outputs": [
    {
     "data": {
      "image/png": "[encoded data removed]",
      "text/plain": [
       "<Figure size 432x288 with 1 Axes>"
      ]
     },
     "metadata": {},
     "output_type": "display_data"
    }
   ],
   "source": [
    "plt.hist(adj_mx.sum(axis=0))\n",
    "plt.show()"
   ]
  },
  {
   "cell_type": "markdown",
   "metadata": {},
   "source": [
    "### Baseline"
   ]
  },
  {
   "cell_type": "code",
   "execution_count": 22,
   "metadata": {},
   "outputs": [
    {
     "name": "stdout",
     "output_type": "stream",
     "text": [
      "[0.93354265 0.92569335 0.16535845 0.89848247 0.50340136 0.06488749\n",
      " 0.98587127 0.9126112  0.73992674 0.93720565 0.18367347 0.36577708\n",
      " 0.20565149 0.16012559 0.03192046 0.23600209 0.19832548 0.18576661\n",
      " 0.04709576 0.8325484 ]\n"
     ]
    }
   ],
   "source": [
    "# phi = adj_mx.sum(axis=0) / adj_mx.shape[0]\n",
    "phi = x_train.sum(axis=0) / x_train.shape[0]\n",
    "print phi[:20]"
   ]
  },
  {
   "cell_type": "code",
   "execution_count": 23,
   "metadata": {},
   "outputs": [],
   "source": [
    "# Ensure all p_i's are non-zero\n",
    "adj_mx_nonzero = adj_mx.copy()\n",
    "# adj_mx_nonzero = adj_mx_nonzero[:, np.where(np.logical_and(phi > 0, phi < 1))[0]]\n",
    "\n",
    "# phi = adj_mx_nonzero.sum(axis=0) / adj_mx_nonzero.shape[0]\n",
    "# print phi[:20]"
   ]
  },
  {
   "cell_type": "code",
   "execution_count": 24,
   "metadata": {},
   "outputs": [
    {
     "name": "stdout",
     "output_type": "stream",
     "text": [
      "time elapsed: 0.078643 sec\n"
     ]
    }
   ],
   "source": [
    "# %%timeit\n",
    "start = time()\n",
    "\n",
    "WC_arr = []\n",
    "WC_idx = []\n",
    "for i in np.arange(adj_mx_nonzero.shape[0]):\n",
    "    for j in np.arange(i + 1, adj_mx_nonzero.shape[0]):\n",
    "        X = adj_mx_nonzero[i]\n",
    "        Y = adj_mx_nonzero[j]\n",
    "        \n",
    "        WC = (1.0/ phi.shape[0])* (X- phi)* (Y- phi)/ (phi*(1-phi))\n",
    "        WC_arr.append(WC.sum())\n",
    "        \n",
    "        if (i, j) in GT_POS_PAIRS or (j, i) in GT_POS_PAIRS:\n",
    "            WC_idx.append(True)\n",
    "        else:\n",
    "            WC_idx.append(False)\n",
    "            \n",
    "print 'time elapsed: %f sec' % (time() - start)\n",
    "WC_arr = np.array(WC_arr)\n",
    "WC_idx = np.array(WC_idx)"
   ]
  },
  {
   "cell_type": "code",
   "execution_count": 25,
   "metadata": {},
   "outputs": [
    {
     "data": {
      "text/plain": [
       "array([ 0.03555186, -0.0767977 ,  0.01392739,  0.08861162,  0.08631376])"
      ]
     },
     "execution_count": 25,
     "metadata": {},
     "output_type": "execute_result"
    }
   ],
   "source": [
    "WC_arr[WC_idx]"
   ]
  },
  {
   "cell_type": "code",
   "execution_count": 26,
   "metadata": {},
   "outputs": [
    {
     "data": {
      "image/png": "[encoded data removed]",
      "text/plain": [
       "<Figure size 432x288 with 1 Axes>"
      ]
     },
     "metadata": {},
     "output_type": "display_data"
    }
   ],
   "source": [
    "bins = np.linspace(WC_arr.min(), WC_arr.max(), 100)\n",
    "\n",
    "plt.hist(WC_arr[WC_idx], bins, alpha=0.5, label='pos')\n",
    "plt.hist(WC_arr[WC_idx == False], bins, alpha=0.5, label='neg')\n",
    "plt.legend(loc='upper right')\n",
    "plt.show()"
   ]
  },
  {
   "cell_type": "code",
   "execution_count": 27,
   "metadata": {},
   "outputs": [
    {
     "name": "stdout",
     "output_type": "stream",
     "text": [
      "0.7119214586255259\n"
     ]
    }
   ],
   "source": [
    "print roc_auc_score(y_true=WC_idx, y_score=WC_arr)"
   ]
  },
  {
   "cell_type": "markdown",
   "metadata": {},
   "source": [
    "### Estimate Phi using ERGM"
   ]
  },
  {
   "cell_type": "code",
   "execution_count": 28,
   "metadata": {},
   "outputs": [
    {
     "data": {
      "text/plain": [
       "True"
      ]
     },
     "execution_count": 28,
     "metadata": {},
     "output_type": "execute_result"
    }
   ],
   "source": [
    "np.all(adj_mx == x_train[idx_choice])"
   ]
  },
  {
   "cell_type": "code",
   "execution_count": 29,
   "metadata": {
    "scrolled": true
   },
   "outputs": [
    {
     "name": "stdout",
     "output_type": "stream",
     "text": [
      "counter=0, change=13.219167\n",
      "counter=500, change=0.287301\n",
      "counter=1000, change=0.002021\n",
      "counter=1500, change=0.000014\n",
      "Solver done in 13.0 seconds.\n",
      "Solver converged in 1536 iterations.\n"
     ]
    }
   ],
   "source": [
    "fs = x_train.sum(axis=1)\n",
    "gs = x_train.sum(axis=0)\n",
    "# fs = adj_mx.sum(axis=1)\n",
    "# gs = adj_mx.sum(axis=0)\n",
    "X, Y, X_bak, Y_bak = BiMent.solver(fs, gs, tolerance=1e-5, max_iter=10000)"
   ]
  },
  {
   "cell_type": "code",
   "execution_count": 30,
   "metadata": {},
   "outputs": [
    {
     "name": "stdout",
     "output_type": "stream",
     "text": [
      "(1911, 206)\n"
     ]
    }
   ],
   "source": [
    "phi_all = X[:, None] * Y / (1 + X[:, None] * Y)\n",
    "# phi_ia = X_bak[:, None] * Y_bak / (1 + X_bak[:, None] * Y_bak)\n",
    "print phi_all.shape"
   ]
  },
  {
   "cell_type": "code",
   "execution_count": 31,
   "metadata": {},
   "outputs": [
    {
     "name": "stdout",
     "output_type": "stream",
     "text": [
      "(85, 206)\n"
     ]
    }
   ],
   "source": [
    "phi_ia = phi_all[idx_choice]\n",
    "print phi_ia.shape"
   ]
  },
  {
   "cell_type": "code",
   "execution_count": 32,
   "metadata": {},
   "outputs": [
    {
     "name": "stdout",
     "output_type": "stream",
     "text": [
      "time elapsed: 0.089283 sec\n"
     ]
    }
   ],
   "source": [
    "# %%timeit\n",
    "start = time()\n",
    "\n",
    "WC_arr = []\n",
    "WC_idx = []\n",
    "for i in np.arange(adj_mx.shape[0]):\n",
    "    for j in np.arange(i + 1, adj_mx.shape[0]):\n",
    "        X = adj_mx[i]\n",
    "        Y = adj_mx[j]\n",
    "        E_X = phi_ia[i]\n",
    "        E_Y = phi_ia[j]\n",
    "        \n",
    "        WC = (1.0/ phi_ia.shape[1])* (X- E_X)* (Y- E_Y)/ (np.sqrt(E_X*E_Y*(1-E_X)*(1-E_Y)) + 1e-6)\n",
    "        WC_arr.append(WC.sum())\n",
    "        \n",
    "        if (i, j) in GT_POS_PAIRS or (j, i) in GT_POS_PAIRS:\n",
    "            WC_idx.append(True)\n",
    "        else:\n",
    "            WC_idx.append(False)\n",
    "            \n",
    "print 'time elapsed: %f sec' % (time() - start)\n",
    "WC_arr = np.array(WC_arr)\n",
    "WC_idx = np.array(WC_idx)"
   ]
  },
  {
   "cell_type": "code",
   "execution_count": 47,
   "metadata": {},
   "outputs": [
    {
     "name": "stdout",
     "output_type": "stream",
     "text": [
      "[0.04478714 0.02057796 0.00416641 0.15373917 0.1322872 ]\n"
     ]
    }
   ],
   "source": [
    "# print np.where(WC_idx == True)\n",
    "print WC_arr[WC_idx]"
   ]
  },
  {
   "cell_type": "code",
   "execution_count": 34,
   "metadata": {},
   "outputs": [
    {
     "data": {
      "image/png": "[encoded data removed]",
      "text/plain": [
       "<Figure size 432x288 with 1 Axes>"
      ]
     },
     "metadata": {},
     "output_type": "display_data"
    }
   ],
   "source": [
    "bins = np.linspace(WC_arr.min(), WC_arr.max(), 100)\n",
    "\n",
    "plt.hist(WC_arr[WC_idx], bins, alpha=0.5, label='pos')\n",
    "plt.hist(WC_arr[WC_idx == False], bins, alpha=0.5, label='neg')\n",
    "plt.legend(loc='upper right')\n",
    "plt.show()"
   ]
  },
  {
   "cell_type": "code",
   "execution_count": 35,
   "metadata": {},
   "outputs": [
    {
     "name": "stdout",
     "output_type": "stream",
     "text": [
      "0.8973352033660589\n"
     ]
    }
   ],
   "source": [
    "print roc_auc_score(y_true=WC_idx, y_score=WC_arr)"
   ]
  },
  {
   "cell_type": "markdown",
   "metadata": {},
   "source": [
    "### Genetic Algorithm"
   ]
  },
  {
   "cell_type": "code",
   "execution_count": 36,
   "metadata": {},
   "outputs": [],
   "source": [
    "def generateFirstPopulation(phi_ia, n_pop=100):\n",
    "    population = []\n",
    "    for _ in range(n_pop):\n",
    "        phi_shuffle = phi_ia.copy()\n",
    "        np.random.shuffle(phi_shuffle)\n",
    "        population.append(phi_shuffle.reshape((1,)+phi_shuffle.shape))\n",
    "    return np.concatenate(population)"
   ]
  },
  {
   "cell_type": "code",
   "execution_count": 37,
   "metadata": {},
   "outputs": [
    {
     "name": "stdout",
     "output_type": "stream",
     "text": [
      "(100, 85, 206)\n"
     ]
    }
   ],
   "source": [
    "phi_population = generateFirstPopulation(phi_ia)\n",
    "print phi_population.shape"
   ]
  },
  {
   "cell_type": "code",
   "execution_count": 42,
   "metadata": {},
   "outputs": [],
   "source": [
    "def fitness(adj_mx, phi_ia):\n",
    "    WC_arr = []\n",
    "    WC_idx = []\n",
    "    for i in np.arange(adj_mx.shape[0]):\n",
    "        for j in np.arange(i + 1, adj_mx.shape[0]):\n",
    "            X = adj_mx[i]\n",
    "            Y = adj_mx[j]\n",
    "            E_X = phi_ia[i]\n",
    "            E_Y = phi_ia[j]\n",
    "\n",
    "            WC = (1.0/ phi_ia.shape[1])* (X- E_X)* (Y- E_Y)/ (np.sqrt(E_X*E_Y*(1-E_X)*(1-E_Y)) + 1e-6)\n",
    "            WC_arr.append(WC.sum())\n",
    "\n",
    "            if (i, j) in GT_POS_PAIRS or (j, i) in GT_POS_PAIRS:\n",
    "                WC_idx.append(True)\n",
    "            else:\n",
    "                WC_idx.append(False)\n",
    "    \n",
    "    WC_median = np.median(WC_arr)\n",
    "    WC_mean = np.mean(WC_arr)\n",
    "    \n",
    "    fit_score = WC_mean - WC_median\n",
    "    auc = roc_auc_score(y_true=WC_idx, y_score=WC_arr)\n",
    "    \n",
    "    return auc, fit_score"
   ]
  },
  {
   "cell_type": "code",
   "execution_count": 43,
   "metadata": {},
   "outputs": [],
   "source": [
    "def computeFitnessPopulation(adj_mx, phi_population):\n",
    "    fitness_list = []\n",
    "    auc_list = []\n",
    "    for phi_ia in phi_population:\n",
    "        auc, fit = fitness(adj_mx, phi_ia)\n",
    "#         print fit, auc\n",
    "        fitness_list.append(fit)\n",
    "        auc_list.append(auc)\n",
    "    return fitness_list, auc_list"
   ]
  },
  {
   "cell_type": "code",
   "execution_count": 44,
   "metadata": {},
   "outputs": [],
   "source": [
    "population_fitness, auc_list = computeFitnessPopulation(adj_mx, phi_population)\n",
    "# print population_fitness"
   ]
  },
  {
   "cell_type": "code",
   "execution_count": 46,
   "metadata": {},
   "outputs": [
    {
     "data": {
      "image/png": "[encoded data removed]",
      "text/plain": [
       "<Figure size 432x288 with 1 Axes>"
      ]
     },
     "metadata": {},
     "output_type": "display_data"
    }
   ],
   "source": [
    "from scipy.stats import pearsonr\n",
    "\n",
    "R = pearsonr(population_fitness, auc_list)\n",
    "m, b = np.polyfit(population_fitness, auc_list, 1)\n",
    "\n",
    "x = np.linspace(0, np.max(population_fitness), 20)\n",
    "plt.plot(x, m*x + b)\n",
    "plt.scatter(population_fitness, auc_list)\n",
    "plt.show()"
   ]
  },
  {
   "cell_type": "code",
   "execution_count": null,
   "metadata": {},
   "outputs": [],
   "source": [
    "def selectFromPopulation"
   ]
  },
  {
   "cell_type": "code",
   "execution_count": null,
   "metadata": {},
   "outputs": [],
   "source": [
    "def createChild(phi1, phi2)"
   ]
  },
  {
   "cell_type": "code",
   "execution_count": null,
   "metadata": {},
   "outputs": [],
   "source": [
    "def createChildren"
   ]
  },
  {
   "cell_type": "code",
   "execution_count": null,
   "metadata": {},
   "outputs": [],
   "source": [
    "def mutatePhi"
   ]
  },
  {
   "cell_type": "code",
   "execution_count": null,
   "metadata": {},
   "outputs": [],
   "source": [
    "def mutatePopulation"
   ]
  },
  {
   "cell_type": "code",
   "execution_count": null,
   "metadata": {},
   "outputs": [],
   "source": []
  }
 ],
 "metadata": {
  "kernelspec": {
   "display_name": "Python 2",
   "language": "python",
   "name": "python2"
  },
  "language_info": {
   "codemirror_mode": {
    "name": "ipython",
    "version": 2
   },
   "file_extension": ".py",
   "mimetype": "text/x-python",
   "name": "python",
   "nbconvert_exporter": "python",
   "pygments_lexer": "ipython2",
   "version": "2.7.15"
  }
 },
 "nbformat": 4,
 "nbformat_minor": 2
}
