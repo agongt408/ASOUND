{
 "cells": [
  {
   "cell_type": "markdown",
   "metadata": {},
   "source": [
    "https://www.google.com/url?sa=t&rct=j&q=&esrc=s&source=web&cd=1&cad=rja&uact=8&ved=0ahUKEwj4gOCslIjcAhVpc98KHeseAj0QFggpMAA&url=http%3A%2F%2Fproceedings.mlr.press%2Fv28%2Ffriedland13.html&usg=AOvVaw1xdBl5MxBdg5kAL8FrEzzF"
   ]
  },
  {
   "cell_type": "raw",
   "metadata": {},
   "source": [
    "load('~/data1.dataR')\n",
    "source('~/rsi/shared/code/experimentRunner.R', chdir=TRUE)\n",
    "scoreDataSet('~/rsi/test', 1, 'results', learnPhiFromLocalData=FALSE)"
   ]
  },
  {
   "cell_type": "code",
   "execution_count": 1,
   "metadata": {},
   "outputs": [],
   "source": [
    "import numpy as np\n",
    "import pandas as pd\n",
    "import matplotlib.pyplot as plt\n",
    "%matplotlib inline\n",
    "from scipy.stats import norm\n",
    "from time import time\n",
    "from sklearn.metrics import roc_auc_score"
   ]
  },
  {
   "cell_type": "code",
   "execution_count": 3,
   "metadata": {},
   "outputs": [],
   "source": [
    "# Apps By Week\n",
    "df = pd.read_csv('/Users/tradergllc/rsi/datasets/proc/reality-mining/txt/interim/bluetoothDevicesByWeek.txt', \n",
    "                 sep=', ', header=None, engine='python', dtype=str, names=['id', 'date', 'app', 'freq'])"
   ]
  },
  {
   "cell_type": "code",
   "execution_count": 4,
   "metadata": {},
   "outputs": [],
   "source": [
    "def convert_to_dict(df):\n",
    "    data_dict = {}\n",
    "    \n",
    "    unique = list(df.iloc[:, 2].unique())\n",
    "    \n",
    "    date_list = [df.iloc[0, 1]]\n",
    "    pid_date_list = [(df.iloc[0,0], df.iloc[0, 1])]\n",
    "    \n",
    "    data_dict[int(df.iloc[0,0])] = {}\n",
    "    data_dict[int(df.iloc[0,0])][df.iloc[0, 1]] = np.zeros((len(unique),))\n",
    "    data_dict[int(df.iloc[0,0])][df.iloc[0, 1]][unique.index(df.iloc[0, 2])] = 1\n",
    "        \n",
    "    for r in range(1, len(df.index)):\n",
    "        pid = int(df.iloc[r, 0])\n",
    "        if pid not in data_dict.keys():\n",
    "            data_dict[pid] = {}        \n",
    "        \n",
    "        if (df.iloc[r, 0], df.iloc[r, 1]) in pid_date_list:\n",
    "            data_dict[pid][df.iloc[r, 1]][unique.index(df.iloc[r, 2])] = 1 #df.iloc[r, 3]\n",
    "        else:\n",
    "            date_list.append(df.iloc[r, 1])\n",
    "            pid_date_list.append((df.iloc[r, 0], df.iloc[r, 1]))\n",
    "            \n",
    "            data_dict[pid][df.iloc[r, 1]] = np.zeros((len(unique),))\n",
    "            data_dict[pid][df.iloc[r, 1]][unique.index(df.iloc[r, 2])] = 1\n",
    "                        \n",
    "    return data_dict, unique"
   ]
  },
  {
   "cell_type": "code",
   "execution_count": 5,
   "metadata": {},
   "outputs": [],
   "source": [
    "data_dict, unique = convert_to_dict(df)"
   ]
  },
  {
   "cell_type": "code",
   "execution_count": 6,
   "metadata": {},
   "outputs": [],
   "source": [
    "def dict_to_np_array(d):\n",
    "    vector_list = []\n",
    "    gt_pid = []\n",
    "    for pid in d.keys():\n",
    "        for date in d[pid].keys():\n",
    "#             print pid, date\n",
    "            vector_list.append(d[pid][date])\n",
    "            gt_pid.append(d.keys().index(pid))\n",
    "    return np.stack(vector_list), np.array(gt_pid)"
   ]
  },
  {
   "cell_type": "code",
   "execution_count": 7,
   "metadata": {},
   "outputs": [
    {
     "name": "stdout",
     "output_type": "stream",
     "text": [
      "(1841, 23275) (1841,)\n"
     ]
    }
   ],
   "source": [
    "x_train_full, y_train = dict_to_np_array(data_dict)\n",
    "print x_train_full.shape, y_train.shape"
   ]
  },
  {
   "cell_type": "code",
   "execution_count": 8,
   "metadata": {},
   "outputs": [],
   "source": [
    "x_train = x_train_full.copy()"
   ]
  },
  {
   "cell_type": "code",
   "execution_count": 9,
   "metadata": {},
   "outputs": [],
   "source": [
    "# T_PARAM = 0.2\n",
    "NUM_TOTAL_ITEMS = 75\n",
    "NUM_POSITIVE_PAIRS = 5\n",
    "# NUM_AFFIL = 10\n",
    "# S_GEN = 0.2"
   ]
  },
  {
   "cell_type": "code",
   "execution_count": 10,
   "metadata": {},
   "outputs": [],
   "source": [
    "S_PARAM = 0.01"
   ]
  },
  {
   "cell_type": "code",
   "execution_count": 11,
   "metadata": {},
   "outputs": [],
   "source": [
    "# def get_phi(shape, constant=None):\n",
    "#     if constant:\n",
    "#         assert constant >= 0 and constant <= 1\n",
    "#         return np.ones(shape)* constant\n",
    "#     return np.random.random(shape)"
   ]
  },
  {
   "cell_type": "code",
   "execution_count": 12,
   "metadata": {},
   "outputs": [],
   "source": [
    "# phi = get_phi(NUM_AFFIL)\n",
    "# print phi"
   ]
  },
  {
   "cell_type": "code",
   "execution_count": 13,
   "metadata": {},
   "outputs": [],
   "source": [
    "# def bernoulli(phi):\n",
    "#     return (np.random.random(phi.shape) < phi).astype(np.int32)"
   ]
  },
  {
   "cell_type": "code",
   "execution_count": 15,
   "metadata": {
    "scrolled": true
   },
   "outputs": [],
   "source": [
    "# GT_POS_PAIRS = []\n",
    "\n",
    "# adj_mx = []\n",
    "# it = 0\n",
    "# for _ in range(NUM_TOTAL_ITEMS - 2*NUM_POSITIVE_PAIRS):\n",
    "#     X1 = bernoulli(phi)\n",
    "# #     print X1\n",
    "#     adj_mx.append(X1)\n",
    "#     it += 1\n",
    "# for _ in range(NUM_POSITIVE_PAIRS):\n",
    "#     X1 = bernoulli(phi)\n",
    "#     mask_similar = bernoulli(S_GEN * np.ones(phi.shape))\n",
    "#     X2 = mask_similar* X1 + (1 - mask_similar)*bernoulli(phi)\n",
    "#     adj_mx.append(X1)\n",
    "#     adj_mx.append(X2)\n",
    "    \n",
    "#     GT_POS_PAIRS.append((it, it + 1))\n",
    "#     it += 2\n",
    "    \n",
    "# adj_mx = np.stack(adj_mx)\n",
    "# print adj_mx"
   ]
  },
  {
   "cell_type": "code",
   "execution_count": 16,
   "metadata": {},
   "outputs": [],
   "source": [
    "# df_adj_mx = pd.read_csv('alt.athiesm1.csv')\n",
    "# df_adj_mx = df_adj_mx.drop(columns=[df_adj_mx.columns[0]])\n",
    "# print len(df_adj_mx.columns)"
   ]
  },
  {
   "cell_type": "code",
   "execution_count": 17,
   "metadata": {},
   "outputs": [],
   "source": [
    "# adj_mx = np.array(df_adj_mx, dtype=np.int32)\n",
    "# print adj_mx"
   ]
  },
  {
   "cell_type": "code",
   "execution_count": 18,
   "metadata": {
    "scrolled": true
   },
   "outputs": [],
   "source": [
    "# phi = np.array(pd.read_csv('alt.athiesm1.phi.csv').iloc[:, 1])\n",
    "# print phi"
   ]
  },
  {
   "cell_type": "code",
   "execution_count": 7,
   "metadata": {},
   "outputs": [
    {
     "name": "stdout",
     "output_type": "stream",
     "text": [
      "(16672,)\n"
     ]
    },
    {
     "data": {
      "image/png": "[encoded data removed]",
      "text/plain": [
       "<Figure size 432x288 with 1 Axes>"
      ]
     },
     "metadata": {},
     "output_type": "display_data"
    }
   ],
   "source": [
    "p_thresh = 0.0\n",
    "print np.where(phi > p_thresh)[0].shape\n",
    "plt.hist(phi[phi > p_thresh], bins=100)\n",
    "plt.show()"
   ]
  },
  {
   "cell_type": "code",
   "execution_count": 7,
   "metadata": {
    "scrolled": true
   },
   "outputs": [
    {
     "name": "stdout",
     "output_type": "stream",
     "text": [
      "[ 6173  6892 13009  1125  1022  3364  4333 13849  7430 10938 12707 15877\n",
      "   846  4020  5196  7488 13936 15017  3074    53 16015 14345  9851   803\n",
      "  5805  1010 10133  1926  5400 11011  4113 15511   132   414  6466 11399\n",
      "  5765 15560  8037  5089  3672  1855 11940 13561  3112 10721  2442  7331\n",
      "  3560 12873  3870   457 16158 16213 11121  6699 14514 10291   375  6389\n",
      "  3858  1999 15977  3321  7522 10457  1186  4000 11435  8657 12448  8313\n",
      "  6129 12253  2861  5734  6698 14902  4207  3460  4854  1627  4807  2690\n",
      "  7811  4746  5465 14386 13891  4066 10112  2374  1402  6815  5898 10609\n",
      "  6877  6303  1506 12657  3394 13331   427   547  5810  7735  3811  2870\n",
      "   266  9316 10015 15033   267  5545 10371 13092   909 14500 10637  1331\n",
      " 15549 10043  1947 10250  6104 15208 15515    28    99 13159  8893  1914\n",
      " 15167 10125 16571  4574 14271 10281  4063  6751   485 11924   667  7379\n",
      " 14151 14530  9717 10691 11050 14289  5431  2548 14639  2421  8748 10754\n",
      "  9770  3822  1540 14920 16194   190  3951 11962  8063  4397 10289 14702\n",
      "  6029 12974  9144 13013  4985  2349 11065  2888 11582  8819  8039  2998\n",
      " 15625 15890  3620  2906  2208 12424 13929  3743 14467  5627 10126 14723\n",
      "  6283 13152 13149 13232  6633   989  1612 14576   526  9052 12269  7565\n",
      "  6131 12341  2339 16439  5063  1133  7873 15898 12550  6484  6094  7697\n",
      "   708  4111 11915 11453  4791 14124 11568  8735  1935  1225  1885 12828\n",
      " 10686  8226  3351 15061 10521   618   250  9913 13155 14981  1591  4628\n",
      " 11228  1453  5389  9320 15352 15847 10419 10764  7835 16214 13169 10060\n",
      "   281  2795  6675]\n"
     ]
    }
   ],
   "source": [
    "choice = np.random.choice(len(phi), 255, replace=False)\n",
    "print choice"
   ]
  },
  {
   "cell_type": "code",
   "execution_count": 8,
   "metadata": {},
   "outputs": [],
   "source": [
    "# adj_mx = adj_mx[:, phi > 0.1]\n",
    "# phi = phi[phi > 0.1]\n",
    "adj_mx = adj_mx[: , choice]\n",
    "phi = phi[choice]"
   ]
  },
  {
   "cell_type": "code",
   "execution_count": 9,
   "metadata": {},
   "outputs": [
    {
     "data": {
      "text/plain": [
       "(75, 255)"
      ]
     },
     "execution_count": 9,
     "metadata": {},
     "output_type": "execute_result"
    }
   ],
   "source": [
    "adj_mx.shape"
   ]
  },
  {
   "cell_type": "code",
   "execution_count": 5,
   "metadata": {},
   "outputs": [
    {
     "name": "stdout",
     "output_type": "stream",
     "text": [
      "[[1. 1. 0. ... 0. 0. 0.]\n",
      " [1. 1. 0. ... 0. 0. 0.]\n",
      " [1. 1. 0. ... 0. 0. 0.]\n",
      " ...\n",
      " [1. 1. 0. ... 0. 0. 0.]\n",
      " [1. 1. 0. ... 0. 0. 0.]\n",
      " [1. 1. 0. ... 0. 0. 0.]]\n"
     ]
    }
   ],
   "source": [
    "adj_mx = np.load('vec_list.npy')\n",
    "print adj_mx"
   ]
  },
  {
   "cell_type": "code",
   "execution_count": 19,
   "metadata": {},
   "outputs": [
    {
     "name": "stdout",
     "output_type": "stream",
     "text": [
      "[0.00054318 0.14340033 0.30852797 ... 0.00054318 0.00054318 0.00054318]\n"
     ]
    }
   ],
   "source": [
    "adj_mx = x_train\n",
    "phi = adj_mx.sum(axis=0) / adj_mx.shape[0]\n",
    "print phi"
   ]
  },
  {
   "cell_type": "code",
   "execution_count": 13,
   "metadata": {},
   "outputs": [],
   "source": [
    "for i in range(len(phi) - 1, 0, -1):\n",
    "    if phi[i] == 0:\n",
    "        adj_mx = np.delete(adj_mx, i, axis=1)"
   ]
  },
  {
   "cell_type": "code",
   "execution_count": 20,
   "metadata": {},
   "outputs": [
    {
     "data": {
      "text/plain": [
       "array([  1., 264., 568., ...,   1.,   1.,   1.])"
      ]
     },
     "execution_count": 20,
     "metadata": {},
     "output_type": "execute_result"
    }
   ],
   "source": [
    "adj_mx.sum(axis=0)"
   ]
  },
  {
   "cell_type": "code",
   "execution_count": 21,
   "metadata": {},
   "outputs": [
    {
     "name": "stdout",
     "output_type": "stream",
     "text": [
      "[0.92       0.92       0.18666667 0.86666667 0.57333333 0.09333333\n",
      " 0.97333333 0.93333333 0.77333333 0.93333333 0.22666667 0.4\n",
      " 0.12       0.16       0.04       0.24       0.10666667 0.18666667\n",
      " 0.10666667 0.85333333 0.02666667 0.10666667 0.42666667 0.28\n",
      " 0.09333333 0.01333333 0.01333333 0.08       0.46666667 0.01333333\n",
      " 0.06666667 0.06666667 0.04       0.13333333 0.09333333 0.12\n",
      " 0.09333333 0.02666667 0.04       0.02666667 0.10666667 0.04\n",
      " 0.04       0.02666667 0.01333333 0.01333333 0.01333333 0.06666667\n",
      " 0.04       0.12       0.05333333 0.02666667 0.04       0.13333333\n",
      " 0.06666667 0.02666667 0.01333333 0.01333333 0.01333333 0.01333333\n",
      " 0.01333333 0.02666667 0.01333333 0.01333333]\n"
     ]
    }
   ],
   "source": [
    "phi = adj_mx.sum(axis=0) / adj_mx.shape[0]\n",
    "print phi"
   ]
  },
  {
   "cell_type": "code",
   "execution_count": 21,
   "metadata": {},
   "outputs": [
    {
     "name": "stdout",
     "output_type": "stream",
     "text": [
      "[(0, 1), (2, 3), (4, 5), (6, 7), (8, 9)]\n"
     ]
    }
   ],
   "source": [
    "GT_POS_PAIRS = np.arange(NUM_POSITIVE_PAIRS * 2).reshape((-1,2))\n",
    "GT_POS_PAIRS = [tuple(x) for x in GT_POS_PAIRS]\n",
    "print GT_POS_PAIRS"
   ]
  },
  {
   "cell_type": "code",
   "execution_count": 22,
   "metadata": {},
   "outputs": [
    {
     "name": "stdout",
     "output_type": "stream",
     "text": [
      "time elapsed: 3143.470703 sec\n"
     ]
    }
   ],
   "source": [
    "# %%timeit\n",
    "start = time()\n",
    "\n",
    "LLR_arr = []\n",
    "LLR_idx = []\n",
    "for i in np.arange(adj_mx.shape[0]):\n",
    "    for j in np.arange(i + 1, adj_mx.shape[0]):     \n",
    "        n_11 = (adj_mx[i] * adj_mx[j] == 1).astype(np.int32)\n",
    "        n_10 = (adj_mx[i] != adj_mx[j]).astype(np.int32)\n",
    "        n_00 = (adj_mx[i] + adj_mx[j] == 0).astype(np.int32)\n",
    "\n",
    "        assert (n_11 + n_10 + n_00 == 1).all()\n",
    "\n",
    "        LLR = (n_11* np.log((S_PARAM + (1 - S_PARAM) * phi) / phi)).sum()\n",
    "        LLR += (n_10* np.log(1 - S_PARAM)).sum()\n",
    "        LLR += (n_00* np.log(((1- phi + phi * S_PARAM) / (1-phi)))).sum()\n",
    "        LLR_arr.append(LLR)\n",
    "        \n",
    "        if (i, j) in GT_POS_PAIRS:\n",
    "            LLR_idx.append(True)\n",
    "        else:\n",
    "            LLR_idx.append(False)\n",
    "            \n",
    "print 'time elapsed: %f sec' % (time() - start)\n",
    "LLR_arr = np.array(LLR_arr)\n",
    "LLR_idx = np.array(LLR_idx)"
   ]
  },
  {
   "cell_type": "code",
   "execution_count": 24,
   "metadata": {},
   "outputs": [
    {
     "data": {
      "text/plain": [
       "array([0.40593381, 1.03127114, 0.16348814, 0.10001549, 1.17932787])"
      ]
     },
     "execution_count": 24,
     "metadata": {},
     "output_type": "execute_result"
    }
   ],
   "source": [
    "LLR_arr[LLR_idx]"
   ]
  },
  {
   "cell_type": "code",
   "execution_count": 25,
   "metadata": {},
   "outputs": [
    {
     "data": {
      "image/png": "[encoded data removed]",
      "text/plain": [
       "<Figure size 432x288 with 1 Axes>"
      ]
     },
     "metadata": {},
     "output_type": "display_data"
    }
   ],
   "source": [
    "bins = np.linspace(LLR_arr.min(), LLR_arr.max(), 100)\n",
    "\n",
    "plt.hist(LLR_arr[LLR_idx], bins, alpha=0.5, label='pos')\n",
    "plt.hist(LLR_arr[LLR_idx == False], bins, alpha=0.5, label='neg')\n",
    "plt.legend(loc='upper right')\n",
    "plt.show()"
   ]
  },
  {
   "cell_type": "code",
   "execution_count": 26,
   "metadata": {},
   "outputs": [
    {
     "name": "stdout",
     "output_type": "stream",
     "text": [
      "0.9829602888086644\n"
     ]
    }
   ],
   "source": [
    "print roc_auc_score(y_true=LLR_idx, y_score=LLR_arr)"
   ]
  },
  {
   "cell_type": "code",
   "execution_count": null,
   "metadata": {},
   "outputs": [],
   "source": [
    "def estimate_AUC(pos, neg):\n",
    "    mean_pos = np.mean(pos)\n",
    "    mean_neg = np.mean(neg)\n",
    "    var_pos = np.var(pos)\n",
    "    var_neg = np.var(neg)\n",
    "    auc = norm.cdf((mean_pos - mean_neg) / np.sqrt(var_pos+ var_neg))\n",
    "    return auc"
   ]
  },
  {
   "cell_type": "code",
   "execution_count": null,
   "metadata": {},
   "outputs": [],
   "source": [
    "print estimate_AUC(LLR_arr[LLR_idx], LLR_arr[LLR_idx == False])"
   ]
  },
  {
   "cell_type": "code",
   "execution_count": 16,
   "metadata": {},
   "outputs": [],
   "source": [
    "import os"
   ]
  },
  {
   "cell_type": "code",
   "execution_count": 17,
   "metadata": {},
   "outputs": [
    {
     "data": {
      "text/plain": [
       "['allPairs-appsByDay5.phi.csv',\n",
       " 'allPairs-appsByDay4.phi.csv',\n",
       " 'allPairs-appsByDay6.phi.csv',\n",
       " 'allPairs-appsByDay7.phi.csv',\n",
       " 'allPairs-appsByDay8.csv',\n",
       " 'allPairs-appsByDay9.csv',\n",
       " 'allPairs-appsByDay4.csv',\n",
       " 'allPairs-appsByDay2.phi.csv',\n",
       " 'allPairs-appsByDay5.csv',\n",
       " 'allPairs-appsByDay7.csv',\n",
       " 'allPairs-appsByDay6.csv',\n",
       " 'allPairs-appsByDay2.csv',\n",
       " 'allPairs-appsByDay3.csv',\n",
       " 'allPairs-appsByDay10.phi.csv',\n",
       " 'allPairs-appsByDay1.csv',\n",
       " 'allPairs-appsByDay10.csv',\n",
       " 'allPairs-appsByDay3.phi.csv',\n",
       " 'allPairs-appsByDay8.phi.csv',\n",
       " 'allPairs-appsByDay1.phi.csv',\n",
       " 'allPairs-appsByDay9.phi.csv']"
      ]
     },
     "execution_count": 17,
     "metadata": {},
     "output_type": "execute_result"
    }
   ],
   "source": [
    "os.listdir('/Users/tradergllc/rsi/datasets/py/allPairs-appsByDay/')"
   ]
  },
  {
   "cell_type": "code",
   "execution_count": 28,
   "metadata": {},
   "outputs": [],
   "source": [
    "from scipy.stats import norm"
   ]
  },
  {
   "cell_type": "code",
   "execution_count": 33,
   "metadata": {},
   "outputs": [
    {
     "data": {
      "text/plain": [
       "array([0.39894228, 0.39894228])"
      ]
     },
     "execution_count": 33,
     "metadata": {},
     "output_type": "execute_result"
    }
   ],
   "source": [
    "norm.pdf([0,0])"
   ]
  },
  {
   "cell_type": "code",
   "execution_count": null,
   "metadata": {},
   "outputs": [],
   "source": []
  }
 ],
 "metadata": {
  "kernelspec": {
   "display_name": "Python 2",
   "language": "python",
   "name": "python2"
  },
  "language_info": {
   "codemirror_mode": {
    "name": "ipython",
    "version": 2
   },
   "file_extension": ".py",
   "mimetype": "text/x-python",
   "name": "python",
   "nbconvert_exporter": "python",
   "pygments_lexer": "ipython2",
   "version": "2.7.15"
  }
 },
 "nbformat": 4,
 "nbformat_minor": 2
}
