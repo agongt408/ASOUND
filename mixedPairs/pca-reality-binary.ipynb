{
 "cells": [
  {
   "cell_type": "code",
   "execution_count": 1,
   "metadata": {},
   "outputs": [],
   "source": [
    "import numpy as np\n",
    "import matplotlib.pyplot as plt\n",
    "import pandas as pd\n",
    "from sklearn.metrics import roc_auc_score\n",
    "from time import time\n",
    "from scipy.spatial.distance import euclidean\n",
    "from sklearn.metrics import average_precision_score\n",
    "from sklearn.decomposition import PCA\n",
    "from scipy.stats import multivariate_normal as multi_norm"
   ]
  },
  {
   "cell_type": "markdown",
   "metadata": {},
   "source": [
    "### Prepare Reality Mining Data"
   ]
  },
  {
   "cell_type": "code",
   "execution_count": 2,
   "metadata": {},
   "outputs": [],
   "source": [
    "# Apps By Week\n",
    "df = pd.read_csv('/Users/tradergllc/rsi/datasets/proc/reality-mining/txt/interim/appsByWeek-clean.txt', \n",
    "                 sep=', ', header=None, engine='python', dtype=str, names=['id', 'date', 'app', 'freq'])"
   ]
  },
  {
   "cell_type": "code",
   "execution_count": 3,
   "metadata": {},
   "outputs": [
    {
     "data": {
      "text/plain": [
       "(206,)"
      ]
     },
     "execution_count": 3,
     "metadata": {},
     "output_type": "execute_result"
    }
   ],
   "source": [
    "df['app'].unique().shape"
   ]
  },
  {
   "cell_type": "code",
   "execution_count": 4,
   "metadata": {},
   "outputs": [],
   "source": [
    "# Clean app names\n",
    "# for r in range(len(df.index)):\n",
    "#     if df.iloc[r, 2].find(':') > -1:\n",
    "#         print df.iloc[r]\n",
    "#         df.iloc[r, 2] = 'Phone'"
   ]
  },
  {
   "cell_type": "code",
   "execution_count": 5,
   "metadata": {},
   "outputs": [
    {
     "data": {
      "text/plain": [
       "id               21\n",
       "date         2005.1\n",
       "app     context_log\n",
       "freq             26\n",
       "Name: 5699, dtype: object"
      ]
     },
     "execution_count": 5,
     "metadata": {},
     "output_type": "execute_result"
    }
   ],
   "source": [
    "df.iloc[5699]"
   ]
  },
  {
   "cell_type": "code",
   "execution_count": 6,
   "metadata": {},
   "outputs": [],
   "source": [
    "def convert_to_dict(df):\n",
    "    data_dict = {}\n",
    "    \n",
    "    unique = list(df.iloc[:, 2].unique())\n",
    "    \n",
    "    date_list = [df.iloc[0, 1]]\n",
    "    pid_date_list = [(df.iloc[0,0], df.iloc[0, 1])]\n",
    "    \n",
    "    data_dict[int(df.iloc[0,0])] = {}\n",
    "    data_dict[int(df.iloc[0,0])][df.iloc[0, 1]] = np.zeros((len(unique),))\n",
    "    data_dict[int(df.iloc[0,0])][df.iloc[0, 1]][unique.index(df.iloc[0, 2])] = 1\n",
    "        \n",
    "    for r in range(1, len(df.index)):\n",
    "        pid = int(df.iloc[r, 0])\n",
    "        if pid not in data_dict.keys():\n",
    "            data_dict[pid] = {}        \n",
    "        \n",
    "        if (df.iloc[r, 0], df.iloc[r, 1]) in pid_date_list:\n",
    "            data_dict[pid][df.iloc[r, 1]][unique.index(df.iloc[r, 2])] = 1 #df.iloc[r, 3]\n",
    "        else:\n",
    "            date_list.append(df.iloc[r, 1])\n",
    "            pid_date_list.append((df.iloc[r, 0], df.iloc[r, 1]))\n",
    "            \n",
    "            data_dict[pid][df.iloc[r, 1]] = np.zeros((len(unique),))\n",
    "            data_dict[pid][df.iloc[r, 1]][unique.index(df.iloc[r, 2])] = 1\n",
    "                        \n",
    "    return data_dict, unique"
   ]
  },
  {
   "cell_type": "code",
   "execution_count": 7,
   "metadata": {},
   "outputs": [],
   "source": [
    "data_dict, unique = convert_to_dict(df)"
   ]
  },
  {
   "cell_type": "code",
   "execution_count": 8,
   "metadata": {},
   "outputs": [],
   "source": [
    "def dict_to_np_array(d):\n",
    "    vector_list = []\n",
    "    gt_pid = []\n",
    "    for pid in d.keys():\n",
    "        for date in d[pid].keys():\n",
    "#             print pid, date\n",
    "            vector_list.append(d[pid][date])\n",
    "            gt_pid.append(d.keys().index(pid))\n",
    "    return np.stack(vector_list), np.array(gt_pid)"
   ]
  },
  {
   "cell_type": "code",
   "execution_count": 9,
   "metadata": {},
   "outputs": [
    {
     "name": "stdout",
     "output_type": "stream",
     "text": [
      "(1911, 206) (1911,)\n"
     ]
    }
   ],
   "source": [
    "x_train_full, y_train = dict_to_np_array(data_dict)\n",
    "print x_train_full.shape, y_train.shape"
   ]
  },
  {
   "cell_type": "code",
   "execution_count": 10,
   "metadata": {},
   "outputs": [
    {
     "data": {
      "text/plain": [
       "array([ 0,  0,  0, ..., 87, 87, 87])"
      ]
     },
     "execution_count": 10,
     "metadata": {},
     "output_type": "execute_result"
    }
   ],
   "source": [
    "y_train"
   ]
  },
  {
   "cell_type": "code",
   "execution_count": 11,
   "metadata": {},
   "outputs": [
    {
     "data": {
      "text/plain": [
       "(1911, 206)"
      ]
     },
     "execution_count": 11,
     "metadata": {},
     "output_type": "execute_result"
    }
   ],
   "source": [
    "x_train_full.shape"
   ]
  },
  {
   "cell_type": "code",
   "execution_count": 12,
   "metadata": {},
   "outputs": [],
   "source": [
    "x_train = x_train_full.copy()"
   ]
  },
  {
   "cell_type": "code",
   "execution_count": 13,
   "metadata": {},
   "outputs": [
    {
     "name": "stdout",
     "output_type": "stream",
     "text": [
      "(1911, 206)\n"
     ]
    }
   ],
   "source": [
    "print x_train.shape"
   ]
  },
  {
   "cell_type": "code",
   "execution_count": 14,
   "metadata": {},
   "outputs": [
    {
     "data": {
      "image/png": "[encoded data removed]",
      "text/plain": [
       "<Figure size 432x288 with 1 Axes>"
      ]
     },
     "metadata": {},
     "output_type": "display_data"
    }
   ],
   "source": [
    "plt.hist(x_train.sum(axis=0), bins=100)\n",
    "plt.show()"
   ]
  },
  {
   "cell_type": "markdown",
   "metadata": {},
   "source": [
    "### PCA"
   ]
  },
  {
   "cell_type": "code",
   "execution_count": 15,
   "metadata": {},
   "outputs": [],
   "source": [
    "pca = PCA(n_components=50)"
   ]
  },
  {
   "cell_type": "code",
   "execution_count": 16,
   "metadata": {},
   "outputs": [],
   "source": [
    "pca = pca.fit(x_train)"
   ]
  },
  {
   "cell_type": "code",
   "execution_count": 17,
   "metadata": {},
   "outputs": [
    {
     "data": {
      "text/plain": [
       "array([39.18479782, 26.19881929, 21.45940745, 20.81112053, 19.25379724,\n",
       "       18.49135162, 17.96787686, 16.67327746, 16.21671193, 15.90739693,\n",
       "       15.08561193, 14.78312852, 14.46408608, 13.96809963, 13.35234089,\n",
       "       12.8332565 , 12.31770188, 12.03810315, 11.75646864, 11.5481956 ,\n",
       "       11.37792431, 11.2380605 , 11.06304108, 10.91563215, 10.67145308,\n",
       "       10.30917082, 10.1982052 ,  9.93871312,  9.61499358,  9.30903736,\n",
       "        9.04508497,  8.60108366,  8.49377209,  8.23558145,  7.98028981,\n",
       "        7.92960842,  7.78787883,  7.47434344,  7.14779048,  6.88346703,\n",
       "        6.75484746,  6.62364843,  6.36591595,  6.26641073,  6.13019839,\n",
       "        6.04872241,  5.9083277 ,  5.83535511,  5.64530192,  5.21908781])"
      ]
     },
     "execution_count": 17,
     "metadata": {},
     "output_type": "execute_result"
    }
   ],
   "source": [
    "pca.singular_values_"
   ]
  },
  {
   "cell_type": "code",
   "execution_count": 18,
   "metadata": {},
   "outputs": [
    {
     "name": "stdout",
     "output_type": "stream",
     "text": [
      "(1911, 50)\n"
     ]
    }
   ],
   "source": [
    "x_transform = pca.transform(x_train)\n",
    "print x_transform.shape"
   ]
  },
  {
   "cell_type": "markdown",
   "metadata": {},
   "source": [
    "### Apply Generative Probabilistic Model"
   ]
  },
  {
   "cell_type": "code",
   "execution_count": 19,
   "metadata": {},
   "outputs": [],
   "source": [
    "N_SINGLETONS = 65\n",
    "N_PAIRS = 5"
   ]
  },
  {
   "cell_type": "code",
   "execution_count": 20,
   "metadata": {},
   "outputs": [
    {
     "data": {
      "text/plain": [
       "array([ 0,  1,  2,  3,  4,  5,  6,  7,  8,  9, 10, 11, 12, 13, 14, 15, 16,\n",
       "       17, 18, 19, 20, 21, 22, 23, 24, 25, 26, 27, 28, 29, 30, 31, 32, 33,\n",
       "       34, 35, 36, 37, 38, 39, 40, 41, 42, 43, 44, 45, 46, 47, 48, 49, 50,\n",
       "       51, 52, 53, 54, 55, 56, 57, 58, 59, 60, 61, 62, 63, 64, 65, 66, 67,\n",
       "       68, 69, 70, 71, 72, 73, 74, 75, 76, 77, 78, 79, 80, 81, 82, 83, 84,\n",
       "       85, 86, 87])"
      ]
     },
     "execution_count": 20,
     "metadata": {},
     "output_type": "execute_result"
    }
   ],
   "source": [
    "np.unique(y_train)"
   ]
  },
  {
   "cell_type": "code",
   "execution_count": 21,
   "metadata": {},
   "outputs": [
    {
     "name": "stdout",
     "output_type": "stream",
     "text": [
      "[15 85 16  5 32 76 43 30 17 67 14 59  2 27 66 65 49 60 41 10 42 12 11 81\n",
      "  8 48 87 46  6 63 55 53 19 62 70 69 57 33 64 78 82 56 73 47 40 61 83 13\n",
      " 44 36 75 86 39  4 74 38 80  1 25 52 18 72 71  3 29]\n"
     ]
    }
   ],
   "source": [
    "singletons = np.random.choice(range(y_train.max() + 1), N_SINGLETONS, replace=False)\n",
    "# pairs = np.random.choice( )\n",
    "print singletons"
   ]
  },
  {
   "cell_type": "code",
   "execution_count": 22,
   "metadata": {},
   "outputs": [
    {
     "name": "stdout",
     "output_type": "stream",
     "text": [
      "[0, 7, 9, 20, 21, 22, 23, 24, 26, 28, 31, 34, 35, 37, 45, 50, 51, 54, 58, 68, 77, 79, 84]\n"
     ]
    }
   ],
   "source": [
    "remaining_idx = []\n",
    "for i in np.arange(y_train.max() + 1):\n",
    "    if i not in singletons:\n",
    "        remaining_idx.append(i)\n",
    "print remaining_idx"
   ]
  },
  {
   "cell_type": "code",
   "execution_count": 23,
   "metadata": {},
   "outputs": [
    {
     "name": "stdout",
     "output_type": "stream",
     "text": [
      "[35 51 84 34 45]\n"
     ]
    }
   ],
   "source": [
    "pairs = np.random.choice(remaining_idx, N_PAIRS, replace=False)\n",
    "print pairs"
   ]
  },
  {
   "cell_type": "code",
   "execution_count": 24,
   "metadata": {},
   "outputs": [],
   "source": [
    "vec_list = []\n",
    "labels = []\n",
    "GT_POS_PAIRS = []\n",
    "\n",
    "pid_list = data_dict.keys()\n",
    "\n",
    "for p in range(len(pairs)):\n",
    "    pid = pid_list[pairs[p]]\n",
    "#     print pid\n",
    "    w1, w2 = np.random.choice(data_dict[pid].keys(), 2)\n",
    "#     print w1, w2\n",
    "    app_vec1, app_vec2 = data_dict[pid][w1], data_dict[pid][w2]\n",
    "    \n",
    "    vec_list.append(app_vec1)\n",
    "    vec_list.append(app_vec2)\n",
    "    \n",
    "    labels.append(p + 1)\n",
    "    labels.append(p + 1)\n",
    "    GT_POS_PAIRS.append((2* p, 2* p + 1))\n",
    "\n",
    "for s in singletons:\n",
    "    pid = pid_list[s]\n",
    "    w = np.random.choice(data_dict[pid].keys(), 1)\n",
    "#     print pid\n",
    "#     print w\n",
    "    app_vec = data_dict[pid][w[0]]\n",
    "    vec_list.append(app_vec)\n",
    "    labels.append(0)"
   ]
  },
  {
   "cell_type": "code",
   "execution_count": 25,
   "metadata": {},
   "outputs": [],
   "source": [
    "vec_list = np.array(vec_list)"
   ]
  },
  {
   "cell_type": "code",
   "execution_count": 26,
   "metadata": {},
   "outputs": [],
   "source": [
    "points = pca.transform(vec_list)\n",
    "# points = vec_list"
   ]
  },
  {
   "cell_type": "code",
   "execution_count": 27,
   "metadata": {},
   "outputs": [],
   "source": [
    "from sklearn.manifold import TSNE\n",
    "tsne = TSNE(n_components=2).fit_transform(points)"
   ]
  },
  {
   "cell_type": "code",
   "execution_count": 38,
   "metadata": {},
   "outputs": [
    {
     "data": {
      "image/png": "[encoded data removed]",
      "text/plain": [
       "<Figure size 576x432 with 2 Axes>"
      ]
     },
     "metadata": {},
     "output_type": "display_data"
    }
   ],
   "source": [
    "plt.figure(figsize=(8, 6))\n",
    "plt.scatter(points[:, 0], points[:, 1], c=labels, cmap='jet')\n",
    "plt.colorbar()\n",
    "plt.show()"
   ]
  },
  {
   "cell_type": "code",
   "execution_count": 29,
   "metadata": {},
   "outputs": [
    {
     "name": "stdout",
     "output_type": "stream",
     "text": [
      "[ 0.03588028 -0.00296291  0.0220825   0.0174959  -0.10238589 -0.0089522\n",
      " -0.06941473 -0.03505211  0.0228553   0.05069034  0.04333247  0.01827013\n",
      "  0.00687353 -0.02714038 -0.04533475  0.01213467 -0.00308054 -0.01212196\n",
      "  0.01249626 -0.01617138 -0.00501801  0.03469869  0.0225561  -0.01973456\n",
      "  0.02137857  0.01815357  0.08159057 -0.00070999 -0.0290483   0.03757955\n",
      " -0.02758023  0.00272084 -0.02688301 -0.0203341  -0.0025873  -0.0336167\n",
      "  0.01362164  0.01054779  0.00781336 -0.00420975 -0.01562425 -0.02359816\n",
      "  0.02804386  0.00279926 -0.00727323  0.00791278 -0.00197898  0.02643199\n",
      " -0.00195862 -0.00048371]\n",
      "[1.03445799 0.5824764  0.52606328 0.48005078 0.41596026 0.41058331\n",
      " 0.33477169 0.35985984 0.31089452 0.39334726 0.32008132 0.30540882\n",
      " 0.32486871 0.33479279 0.30920283 0.27268286 0.2534041  0.25601788\n",
      " 0.26787377 0.2626088  0.29286407 0.23454387 0.26812852 0.2610577\n",
      " 0.28357189 0.24132474 0.27607922 0.2188447  0.22317373 0.18752503\n",
      " 0.19884131 0.25057792 0.20099693 0.17505419 0.15198312 0.17780997\n",
      " 0.18328204 0.17610075 0.18245097 0.1929938  0.15851127 0.14057711\n",
      " 0.16889585 0.15428037 0.15062696 0.08360202 0.08876943 0.1480054\n",
      " 0.09717981 0.10304304]\n",
      "0.3104404572897398\n"
     ]
    }
   ],
   "source": [
    "N_DIM = len(points.shape)\n",
    "test_mean = np.mean(points, axis=0)\n",
    "print test_mean\n",
    "sigma = np.std(points)\n",
    "std_axis = np.std(points, axis=0)\n",
    "print std_axis\n",
    "print sigma"
   ]
  },
  {
   "cell_type": "code",
   "execution_count": 30,
   "metadata": {},
   "outputs": [],
   "source": [
    "nu = 0.1"
   ]
  },
  {
   "cell_type": "code",
   "execution_count": 31,
   "metadata": {},
   "outputs": [],
   "source": [
    "t = (np.ones(std_axis.shape) * nu) / (std_axis + 1e-5)\n",
    "# dis_var = np.matmul(t.transpose(), cov)"
   ]
  },
  {
   "cell_type": "code",
   "execution_count": 32,
   "metadata": {},
   "outputs": [
    {
     "name": "stdout",
     "output_type": "stream",
     "text": [
      "[[0.09666805 0.         0.         ... 0.         0.         0.        ]\n",
      " [0.         0.17167783 0.         ... 0.         0.         0.        ]\n",
      " [0.         0.         0.19008759 ... 0.         0.         0.        ]\n",
      " ...\n",
      " [0.         0.         0.         ... 0.6756054  0.         0.        ]\n",
      " [0.         0.         0.         ... 0.         1.02891447 0.        ]\n",
      " [0.         0.         0.         ... 0.         0.         0.97037407]]\n"
     ]
    }
   ],
   "source": [
    "dis_var = np.diag(t)\n",
    "print dis_var"
   ]
  },
  {
   "cell_type": "code",
   "execution_count": 33,
   "metadata": {},
   "outputs": [],
   "source": [
    "cov = np.cov(points.transpose())"
   ]
  },
  {
   "cell_type": "code",
   "execution_count": 34,
   "metadata": {},
   "outputs": [
    {
     "data": {
      "image/png": "[encoded data removed]",
      "text/plain": [
       "<Figure size 576x432 with 2 Axes>"
      ]
     },
     "metadata": {},
     "output_type": "display_data"
    }
   ],
   "source": [
    "fig = plt.figure(figsize=(8,6))\n",
    "ax = fig.add_subplot(111)\n",
    "cax = ax.matshow(cov, vmin=-1, vmax=1)\n",
    "fig.colorbar(cax)\n",
    "# plt.style.use('grayscale')\n",
    "plt.show()"
   ]
  },
  {
   "cell_type": "code",
   "execution_count": 35,
   "metadata": {},
   "outputs": [
    {
     "name": "stdout",
     "output_type": "stream",
     "text": [
      "time elapsed: 6.324865 s\n"
     ]
    }
   ],
   "source": [
    "start = time()\n",
    "\n",
    "LR_arr = []\n",
    "LR_idx = []\n",
    "\n",
    "dist_matrix = np.zeros((points.shape[0], points.shape[0]))\n",
    "adj_matrix = np.zeros((points.shape[0], points.shape[0]))\n",
    "\n",
    "for i in np.arange(points.shape[0]):\n",
    "    for j in np.arange(i + 1, points.shape[0]):\n",
    "        midpoint = 0.5 * (points[i] + points[j])\n",
    "        \n",
    "        dis = 0.5* (points[i] - points[j])\n",
    "        pdf_mid = multi_norm.pdf(midpoint, mean=test_mean, cov=cov, allow_singular=True)\n",
    "        pdf_dis = multi_norm.pdf(dis, mean=np.zeros(dis.shape), cov=dis_var, allow_singular=True)\n",
    "        pdf_x_i = multi_norm.pdf(points[i], mean=test_mean, cov=cov, allow_singular=True)\n",
    "        pdf_x_j = multi_norm.pdf(points[j], mean=test_mean, cov=cov, allow_singular=True)\n",
    "        LR = pdf_mid * pdf_dis / (pdf_x_i*pdf_x_j)\n",
    "        LR_arr.append(LR)\n",
    "        dist_matrix[i, j] = LR\n",
    "        \n",
    "        if (i, j) in GT_POS_PAIRS:\n",
    "            LR_idx.append(True)\n",
    "            adj_matrix[i, j] = 1\n",
    "        else:\n",
    "            LR_idx.append(False)\n",
    "            adj_matrix[i, j] = 0\n",
    "            \n",
    "print 'time elapsed: %f s' % (time() - start)\n",
    "\n",
    "LR_arr = np.array(LR_arr)\n",
    "LR_idx = np.array(LR_idx)"
   ]
  },
  {
   "cell_type": "code",
   "execution_count": 36,
   "metadata": {},
   "outputs": [
    {
     "data": {
      "image/png": "[encoded data removed]",
      "text/plain": [
       "<Figure size 432x288 with 1 Axes>"
      ]
     },
     "metadata": {},
     "output_type": "display_data"
    }
   ],
   "source": [
    "bins = np.linspace(LR_arr.min(), LR_arr.max(), 100)\n",
    "\n",
    "plt.hist(LR_arr[LR_idx], bins, alpha=0.5, label='pos')\n",
    "plt.hist(LR_arr[LR_idx == False], bins, alpha=0.5, label='neg')\n",
    "plt.legend(loc='upper right')\n",
    "plt.show()"
   ]
  },
  {
   "cell_type": "code",
   "execution_count": 37,
   "metadata": {},
   "outputs": [
    {
     "name": "stdout",
     "output_type": "stream",
     "text": [
      "0.3670036101083032\n"
     ]
    }
   ],
   "source": [
    "print roc_auc_score(y_true=LR_idx, y_score=LR_arr)"
   ]
  }
 ],
 "metadata": {
  "kernelspec": {
   "display_name": "Python 2",
   "language": "python",
   "name": "python2"
  },
  "language_info": {
   "codemirror_mode": {
    "name": "ipython",
    "version": 2
   },
   "file_extension": ".py",
   "mimetype": "text/x-python",
   "name": "python",
   "nbconvert_exporter": "python",
   "pygments_lexer": "ipython2",
   "version": "2.7.15"
  }
 },
 "nbformat": 4,
 "nbformat_minor": 2
}
